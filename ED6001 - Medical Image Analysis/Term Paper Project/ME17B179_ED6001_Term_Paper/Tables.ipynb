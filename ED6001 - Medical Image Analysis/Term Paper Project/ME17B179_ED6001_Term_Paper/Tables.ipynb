{
 "cells": [
  {
   "cell_type": "code",
   "execution_count": 1,
   "metadata": {},
   "outputs": [],
   "source": [
    "import pandas as pd"
   ]
  },
  {
   "cell_type": "code",
   "execution_count": 3,
   "metadata": {},
   "outputs": [],
   "source": [
    "rows = []\n",
    "rows.append([0.0612, 0.9406, 0.1367, 0.8724, 'Paper[2]-Unet Disc Segmentation'])\n",
    "rows.append([0.0636, 0.9384, 0.4303, 0.6514, 'Paper[2]-Unet Cup Segmentation'])\n",
    "rows.append([0.0095, 0.9905, 0.1178, 0.8905, 'Paper[3]-Unet Disc Segmentation'])\n",
    "rows.append([0.0091, 0.9909, 0.2102, 0.8113, 'Paper[3]-Unet Cup Segmentation'])\n",
    "table = pd.DataFrame(rows, columns = ['Train-Log-Dice-Loss', 'Train-Dice-Score', 'Val-Log-Dice-Loss', 'Val-Dice-Score', 'Model'])"
   ]
  },
  {
   "cell_type": "code",
   "execution_count": 4,
   "metadata": {},
   "outputs": [
    {
     "data": {
      "text/html": [
       "<div>\n",
       "<style scoped>\n",
       "    .dataframe tbody tr th:only-of-type {\n",
       "        vertical-align: middle;\n",
       "    }\n",
       "\n",
       "    .dataframe tbody tr th {\n",
       "        vertical-align: top;\n",
       "    }\n",
       "\n",
       "    .dataframe thead th {\n",
       "        text-align: right;\n",
       "    }\n",
       "</style>\n",
       "<table border=\"1\" class=\"dataframe\">\n",
       "  <thead>\n",
       "    <tr style=\"text-align: right;\">\n",
       "      <th></th>\n",
       "      <th>Train-Log-Dice-Loss</th>\n",
       "      <th>Train-Dice-Score</th>\n",
       "      <th>Val-Log-Dice-Loss</th>\n",
       "      <th>Val-Dice-Score</th>\n",
       "      <th>Model</th>\n",
       "    </tr>\n",
       "  </thead>\n",
       "  <tbody>\n",
       "    <tr>\n",
       "      <th>0</th>\n",
       "      <td>0.0612</td>\n",
       "      <td>0.9406</td>\n",
       "      <td>0.1367</td>\n",
       "      <td>0.8724</td>\n",
       "      <td>Paper[2]-Unet Disc Segmentation</td>\n",
       "    </tr>\n",
       "    <tr>\n",
       "      <th>1</th>\n",
       "      <td>0.0636</td>\n",
       "      <td>0.9384</td>\n",
       "      <td>0.4303</td>\n",
       "      <td>0.6514</td>\n",
       "      <td>Paper[2]-Unet Cup Segmentation</td>\n",
       "    </tr>\n",
       "    <tr>\n",
       "      <th>2</th>\n",
       "      <td>0.0095</td>\n",
       "      <td>0.9905</td>\n",
       "      <td>0.1178</td>\n",
       "      <td>0.8905</td>\n",
       "      <td>Paper[3]-Unet Disc Segmentation</td>\n",
       "    </tr>\n",
       "    <tr>\n",
       "      <th>3</th>\n",
       "      <td>0.0091</td>\n",
       "      <td>0.9909</td>\n",
       "      <td>0.2102</td>\n",
       "      <td>0.8113</td>\n",
       "      <td>Paper[3]-Unet Cup Segmentation</td>\n",
       "    </tr>\n",
       "  </tbody>\n",
       "</table>\n",
       "</div>"
      ],
      "text/plain": [
       "   Train-Log-Dice-Loss  Train-Dice-Score  Val-Log-Dice-Loss  Val-Dice-Score  \\\n",
       "0               0.0612            0.9406             0.1367          0.8724   \n",
       "1               0.0636            0.9384             0.4303          0.6514   \n",
       "2               0.0095            0.9905             0.1178          0.8905   \n",
       "3               0.0091            0.9909             0.2102          0.8113   \n",
       "\n",
       "                             Model  \n",
       "0  Paper[2]-Unet Disc Segmentation  \n",
       "1   Paper[2]-Unet Cup Segmentation  \n",
       "2  Paper[3]-Unet Disc Segmentation  \n",
       "3   Paper[3]-Unet Cup Segmentation  "
      ]
     },
     "metadata": {},
     "output_type": "display_data"
    }
   ],
   "source": [
    "display(table)"
   ]
  },
  {
   "cell_type": "code",
   "execution_count": 5,
   "metadata": {},
   "outputs": [
    {
     "data": {
      "text/html": [
       "<div>\n",
       "<style scoped>\n",
       "    .dataframe tbody tr th:only-of-type {\n",
       "        vertical-align: middle;\n",
       "    }\n",
       "\n",
       "    .dataframe tbody tr th {\n",
       "        vertical-align: top;\n",
       "    }\n",
       "\n",
       "    .dataframe thead th {\n",
       "        text-align: right;\n",
       "    }\n",
       "</style>\n",
       "<table border=\"1\" class=\"dataframe\">\n",
       "  <thead>\n",
       "    <tr style=\"text-align: right;\">\n",
       "      <th></th>\n",
       "      <th>Test-Log-Dice-Loss</th>\n",
       "      <th>Test-Dice-Score</th>\n",
       "      <th>Model</th>\n",
       "    </tr>\n",
       "  </thead>\n",
       "  <tbody>\n",
       "    <tr>\n",
       "      <th>0</th>\n",
       "      <td>0.123512</td>\n",
       "      <td>0.883881</td>\n",
       "      <td>Paper[2]-Unet Disc Segmentation</td>\n",
       "    </tr>\n",
       "    <tr>\n",
       "      <th>1</th>\n",
       "      <td>0.442063</td>\n",
       "      <td>0.645349</td>\n",
       "      <td>Paper[2]-Unet Cup Segmentation</td>\n",
       "    </tr>\n",
       "    <tr>\n",
       "      <th>2</th>\n",
       "      <td>1.052581</td>\n",
       "      <td>0.846409</td>\n",
       "      <td>Paper[3]-Unet Disc Segmentation</td>\n",
       "    </tr>\n",
       "    <tr>\n",
       "      <th>3</th>\n",
       "      <td>0.773550</td>\n",
       "      <td>0.778958</td>\n",
       "      <td>Paper[3]-Unet Cup Segmentation</td>\n",
       "    </tr>\n",
       "  </tbody>\n",
       "</table>\n",
       "</div>"
      ],
      "text/plain": [
       "   Test-Log-Dice-Loss  Test-Dice-Score                            Model\n",
       "0            0.123512         0.883881  Paper[2]-Unet Disc Segmentation\n",
       "1            0.442063         0.645349   Paper[2]-Unet Cup Segmentation\n",
       "2            1.052581         0.846409  Paper[3]-Unet Disc Segmentation\n",
       "3            0.773550         0.778958   Paper[3]-Unet Cup Segmentation"
      ]
     },
     "metadata": {},
     "output_type": "display_data"
    }
   ],
   "source": [
    "rows = []\n",
    "rows.append([0.12351205945014954, 0.8838809728622437, 'Paper[2]-Unet Disc Segmentation'])\n",
    "rows.append([0.44206303358078003, 0.6453490257263184, 'Paper[2]-Unet Cup Segmentation'])\n",
    "rows.append([1.0525809526443481, 0.8464087843894958, 'Paper[3]-Unet Disc Segmentation'])\n",
    "rows.append([0.7735503911972046, 0.7789580821990967, 'Paper[3]-Unet Cup Segmentation'])\n",
    "table = pd.DataFrame(rows, columns = ['Test-Log-Dice-Loss', 'Test-Dice-Score', 'Model'])\n",
    "display(table)"
   ]
  },
  {
   "cell_type": "code",
   "execution_count": null,
   "metadata": {},
   "outputs": [],
   "source": []
  }
 ],
 "metadata": {
  "kernelspec": {
   "display_name": "Python 3",
   "language": "python",
   "name": "python3"
  },
  "language_info": {
   "codemirror_mode": {
    "name": "ipython",
    "version": 3
   },
   "file_extension": ".py",
   "mimetype": "text/x-python",
   "name": "python",
   "nbconvert_exporter": "python",
   "pygments_lexer": "ipython3",
   "version": "3.7.7"
  }
 },
 "nbformat": 4,
 "nbformat_minor": 4
}

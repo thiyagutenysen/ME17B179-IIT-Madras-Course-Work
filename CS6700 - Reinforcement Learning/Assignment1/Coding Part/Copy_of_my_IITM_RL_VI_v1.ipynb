{
  "nbformat": 4,
  "nbformat_minor": 0,
  "metadata": {
    "language_info": {
      "codemirror_mode": {
        "name": "ipython",
        "version": 3
      },
      "file_extension": ".py",
      "mimetype": "text/x-python",
      "name": "python",
      "nbconvert_exporter": "python",
      "pygments_lexer": "ipython3",
      "version": "3.8.5-final"
    },
    "orig_nbformat": 2,
    "kernelspec": {
      "name": "python3",
      "display_name": "Python 3.8.5 64-bit ('base': conda)",
      "metadata": {
        "interpreter": {
          "hash": "ff00dac108179d3c1c82d8e6cb9ecf4e9dc3d3f409cd941b5c5be41e7679c1ce"
        }
      }
    },
    "colab": {
      "name": "Copy of my IITM_RL_VI_v1.ipynb",
      "provenance": [],
      "collapsed_sections": [],
      "toc_visible": true
    }
  },
  "cells": [
    {
      "cell_type": "markdown",
      "metadata": {
        "id": "xMOtbrHSzC1r"
      },
      "source": [
        "<div style=\"text-align: center\">\n",
        "  <a href=\"https://www.aicrowd.com/challenges/rl-vi\"><img alt=\"AIcrowd\" src=\"https://images.aicrowd.com/raw_images/challenges/banner_file/754/3fc6598e270b9219e215.jpg\"></a>\n",
        "</div>"
      ]
    },
    {
      "cell_type": "markdown",
      "metadata": {
        "id": "WXuhHGatRVNf"
      },
      "source": [
        "# What is the notebook about?\n",
        "\n",
        "## Problem - Value Iteration\n",
        "This problem deals with a grid world and stochastic actions. The tasks you have to do are:\n",
        "- Complete the Environment\n",
        "- Write code for value Iteration\n",
        "- Visualize Results\n",
        "- Explain the results\n",
        "\n",
        "## How to use this notebook? 📝\n",
        "\n",
        "- This is a shared template and any edits you make here will not be saved.**You\n",
        "should make a copy in your own drive**. Click the \"File\" menu (top-left), then \"Save a Copy in Drive\". You will be working in your copy however you like.\n",
        "\n",
        "- **Update the config parameters**. You can define the common variables here\n",
        "\n",
        "Variable | Description\n",
        "--- | ---\n",
        "`AICROWD_DATASET_PATH` | Path to the file containing test data. This should be an absolute path.\n",
        "`AICROWD_RESULTS_DIR` | Path to write the output to.\n",
        "`AICROWD_ASSETS_DIR` | In case your notebook needs additional files (like model weights, etc.,), you can add them to a directory and specify the path to the directory here (please specify relative path). The contents of this directory will be sent to AIcrowd for evaluation.\n",
        "`AICROWD_API_KEY` | In order to submit your code to AIcrowd, you need to provide your account's API key. This key is available at https://www.aicrowd.com/participants/me\n",
        "\n",
        "- **Installing packages**. Please use the [Install packages 🗃](#install-packages-) section to install the packages"
      ]
    },
    {
      "cell_type": "markdown",
      "metadata": {
        "id": "1gzlHU3wRQRj"
      },
      "source": [
        "# Setup AIcrowd Utilities 🛠\n",
        "\n",
        "We use this to bundle the files for submission and create a submission on AIcrowd. Do not edit this block."
      ]
    },
    {
      "cell_type": "code",
      "metadata": {
        "colab": {
          "base_uri": "https://localhost:8080/"
        },
        "id": "FMKvhbEKiFH5",
        "outputId": "27e1c53a-df18-45b6-8990-2cbc0da05031"
      },
      "source": [
        "!pip install -U git+https://gitlab.aicrowd.com/aicrowd/aicrowd-cli.git@notebook-submission-v2 > /dev/null "
      ],
      "execution_count": null,
      "outputs": [
        {
          "output_type": "stream",
          "text": [
            "  Running command git clone -q https://gitlab.aicrowd.com/aicrowd/aicrowd-cli.git /tmp/pip-req-build-cjxwxvyz\n",
            "  Running command git checkout -b notebook-submission-v2 --track origin/notebook-submission-v2\n",
            "  Switched to a new branch 'notebook-submission-v2'\n",
            "  Branch 'notebook-submission-v2' set up to track remote branch 'notebook-submission-v2' from 'origin'.\n"
          ],
          "name": "stdout"
        }
      ]
    },
    {
      "cell_type": "markdown",
      "metadata": {
        "id": "oJuQ_nzaRpp6"
      },
      "source": [
        "# AIcrowd Runtime Configuration 🧷\n",
        "\n",
        "Define configuration parameters."
      ]
    },
    {
      "cell_type": "code",
      "metadata": {
        "id": "uBKm1IuliJc7"
      },
      "source": [
        "import os\n",
        "\n",
        "AICROWD_DATASET_PATH = os.getenv(\"DATASET_PATH\", os.getcwd()+\"/9db39385-0a4b-47db-8d20-fffb0480e47e_hw2_q2.zip\")\n",
        "AICROWD_RESULTS_DIR = os.getenv(\"OUTPUTS_DIR\", \"results\")\n",
        "API_KEY = \"6b42b562b9eb39fe9d07fb070f706ef5\" # Get your key from https://www.aicrowd.com/participants/me (ctrl + click the link)"
      ],
      "execution_count": null,
      "outputs": []
    },
    {
      "cell_type": "code",
      "metadata": {
        "colab": {
          "base_uri": "https://localhost:8080/"
        },
        "id": "RQnfZ7VYidPC",
        "outputId": "97590855-e7cd-4b94-9b05-2dcf7f608752"
      },
      "source": [
        "!aicrowd login --api-key $API_KEY\n",
        "!aicrowd dataset download -c rl-vi"
      ],
      "execution_count": null,
      "outputs": [
        {
          "output_type": "stream",
          "text": [
            "\u001b[32mAPI Key valid\u001b[0m\n",
            "\u001b[32mSaved API Key successfully!\u001b[0m\n",
            "9db39385-0a4b-47db-8d20-fffb0480e47e_hw2_q2.zip: 100% 3.08k/3.08k [00:00<00:00, 151kB/s]\n"
          ],
          "name": "stdout"
        }
      ]
    },
    {
      "cell_type": "code",
      "metadata": {
        "colab": {
          "base_uri": "https://localhost:8080/"
        },
        "id": "RHqevxIX_4fo",
        "outputId": "161be217-c6f9-4891-a9c4-bc582b9b91b0"
      },
      "source": [
        "!unzip $AICROWD_DATASET_PATH"
      ],
      "execution_count": null,
      "outputs": [
        {
          "output_type": "stream",
          "text": [
            "Archive:  /content/9db39385-0a4b-47db-8d20-fffb0480e47e_hw2_q2.zip\n",
            "   creating: hw2_q2/\n",
            "   creating: hw2_q2/targets/\n",
            "  inflating: hw2_q2/targets/targets_0.npy  \n",
            "   creating: hw2_q2/sample_results/\n",
            "  inflating: hw2_q2/sample_results/sample_results_0.npy  \n",
            "   creating: hw2_q2/inputs/\n",
            "  inflating: hw2_q2/inputs/env_params_0.npy  \n"
          ],
          "name": "stdout"
        }
      ]
    },
    {
      "cell_type": "code",
      "metadata": {
        "id": "gm46inU6ABu-"
      },
      "source": [
        "DATASET_DIR = 'hw2_q2/'\n",
        "!mkdir {DATASET_DIR}results/"
      ],
      "execution_count": null,
      "outputs": []
    },
    {
      "cell_type": "markdown",
      "metadata": {
        "id": "gTeWFlWukTob"
      },
      "source": [
        "# Install packages 🗃\n",
        "\n",
        "Please add all package installations in this section"
      ]
    },
    {
      "cell_type": "code",
      "metadata": {
        "id": "cusnfjYFRVNm"
      },
      "source": [
        ""
      ],
      "execution_count": null,
      "outputs": []
    },
    {
      "cell_type": "markdown",
      "metadata": {
        "id": "TxdOqsVGRXKg"
      },
      "source": [
        "# Import packages 💻"
      ]
    },
    {
      "cell_type": "code",
      "metadata": {
        "id": "lmhJUSs2Rjvh"
      },
      "source": [
        "import numpy as np\n",
        "import matplotlib.pyplot as plt \n",
        "import os\n",
        "# ADD ANY IMPORTS YOU WANT HERE\n"
      ],
      "execution_count": null,
      "outputs": []
    },
    {
      "cell_type": "markdown",
      "metadata": {
        "id": "XP-1yA7URVNn"
      },
      "source": [
        "# Task 0 - Complete the environment\n",
        "You need to complete part of the environment which calculates the possible next states, their probabilities, and the reward."
      ]
    },
    {
      "cell_type": "code",
      "metadata": {
        "id": "GumM6eyWRVNn"
      },
      "source": [
        "class GridEnv_HW2:\n",
        "    def __init__(self, \n",
        "                 goal_location, \n",
        "                 action_stochasticity,\n",
        "                 non_terminal_reward,\n",
        "                 terminal_reward,\n",
        "                 grey_in,\n",
        "                 brown_in,\n",
        "                 grey_out,\n",
        "                 brown_out\n",
        "                ):\n",
        "\n",
        "        # Do not edit this section \n",
        "        self.action_stochasticity = action_stochasticity\n",
        "        self.non_terminal_reward = non_terminal_reward\n",
        "        self.terminal_reward = terminal_reward\n",
        "        self.grid_size = [10, 10]\n",
        "\n",
        "        # Index of the actions \n",
        "        self.actions = {'N': (-1, 0), \n",
        "                        'E': (0,1), \n",
        "                        'S': (1,0), \n",
        "                        'W': (0,-1)}\n",
        "        \n",
        "        # Do not worry about the names not matching the direction you expect\n",
        "        # Think of them as generic names and use the mapping to get the action direction and stochasticity\n",
        "        self.perpendicular_order = ['N', 'E', 'S', 'W']\n",
        "        \n",
        "        l = ['normal' for _ in range(self.grid_size[0]) ]\n",
        "        self.grid = np.array([l for _ in range(self.grid_size[1]) ], dtype=object)\n",
        "\n",
        "        self.grid[goal_location[0], goal_location[1]] = 'goal'\n",
        "        self.goal_location = goal_location\n",
        "\n",
        "        for gi in grey_in:\n",
        "            self.grid[gi[0],gi[1]] = 'grey_in'\n",
        "        for bi in brown_in:    \n",
        "            self.grid[bi[0], bi[1]] = 'brown_in'\n",
        "\n",
        "        self.grey_out = go = grey_out\n",
        "        self.brown_out = bo = brown_out\n",
        "\n",
        "        self.grid[go[0], go[1]] = 'grey_out'\n",
        "        self.grid[bo[0], bo[1]] = 'brown_out'\n",
        "        \n",
        "        self.states_sanity_check()\n",
        "    \n",
        "    def states_sanity_check(self):\n",
        "        \"\"\" Implement to prevent cases where the goal gets overwritten etc \"\"\"\n",
        "        pass\n",
        "\n",
        "    def visualize_grid(self):\n",
        "        pass\n",
        "\n",
        "    def _out_of_grid(self, state):\n",
        "        if state[0] < 0 or state[1] < 0:\n",
        "            return True\n",
        "        elif state[0] > self.grid_size[0] - 1:\n",
        "            return True\n",
        "        elif state[1] > self.grid_size[1] - 1:\n",
        "            return True\n",
        "        else:\n",
        "            return False\n",
        "\n",
        "    def _grid_state(self, state):\n",
        "        return self.grid[state[0], state[1]]        \n",
        "        \n",
        "    def get_transition_probabilites_and_reward(self, state, action):\n",
        "        \"\"\" \n",
        "        Returns the probabiltity of all possible transitions for the given action in the form:\n",
        "        A list of tuples of (next_state, probability, reward)\n",
        "        Note that based on number of state and action there can be many different next states\n",
        "        Unless the state is All the probabilities of next states should add up to 1\n",
        "        \"\"\"\n",
        "\n",
        "        grid_state = self._grid_state(state)\n",
        "        \n",
        "        if grid_state == 'goal':\n",
        "            return [(self.goal_location, 1.0, 0.0)]\n",
        "        elif grid_state == 'grey_in':\n",
        "            return [(self.grey_out, 1.0, self.non_terminal_reward)]\n",
        "        elif grid_state == 'brown_in':\n",
        "            return [(self.brown_out, 1.0, self.non_terminal_reward)]\n",
        "        \n",
        "        direction = self.actions.get(action, None)\n",
        "        if direction is None:\n",
        "            raise ValueError(\"Invalid action %s , please select among\" % action, list(self.actions.keys()))\n",
        "\n",
        "        nextstates_prob_rews = []\n",
        "\n",
        "        # TASK 0 - Complete the environment\n",
        "\n",
        "        # ADD YOUR CODE BELOW - DO NOT EDIT ABOVE THIS LINE\n",
        "        action_order = []\n",
        "        for i in range(self.perpendicular_order.index(action),len(self.perpendicular_order)):\n",
        "          action_order.append(self.perpendicular_order[i])\n",
        "        for i in range(0, self.perpendicular_order.index(action)):\n",
        "          action_order.append(self.perpendicular_order[i])\n",
        "\n",
        "        row_action_probab = dict()\n",
        "        for i in range(len(action_order)):\n",
        "          row_action_probab[action_order[i]] = self.action_stochasticity[i]\n",
        "\n",
        "        for move in self.perpendicular_order:\n",
        "\n",
        "          probab = row_action_probab[move]\n",
        "          next_state = []\n",
        "          next_state.append(state.copy()[0] + self.actions.get(move, None)[0])\n",
        "          next_state.append(state.copy()[1] + self.actions.get(move, None)[1])\n",
        "\n",
        "          if self._out_of_grid(next_state):\n",
        "            next_state = state.copy()\n",
        "          else:\n",
        "            pass\n",
        "\n",
        "          next_grid_state = self._grid_state(next_state)\n",
        "          if next_grid_state == 'goal':\n",
        "            next_reward = self.terminal_reward\n",
        "          else:\n",
        "            next_reward = self.non_terminal_rewardp\n",
        "          nextstates_prob_rews.append((next_state, probab, next_reward))\n",
        "\n",
        "\n",
        "        # Hints: \n",
        "            # Get access to all actions with self.actions\n",
        "            # Use self.action_stochasticity for the probabilities of the other action\n",
        "                # The array will have probabilities for [0, 90, 180, -90] degrees\n",
        "                # So self.action_stochasticity = [0.8, 0.1, 0.0, 0.1] means 0.8 for forward and 0.1 for left and right\n",
        "            # Remember that you need to return a list of tuples with the form (next_state, probability, reward)\n",
        "            # If you have 3 possible next states, you should return [(ns1, p1, r1), (ns2, p2, r2), (ns3, p3, r3)]\n",
        "            # Use the helper function self._out_of_grid to check if any state is outside the grid\n",
        "            \n",
        "        # Important Note:\n",
        "            # Do not hard code any state locations, they may be changed in the submissions\n",
        "\n",
        "\n",
        "        # DO NOT EDIT BELOW THIS LINE\n",
        "\n",
        "        return nextstates_prob_rews"
      ],
      "execution_count": null,
      "outputs": []
    },
    {
      "cell_type": "markdown",
      "metadata": {
        "id": "vVL7B0cjSZyy"
      },
      "source": [
        "# Question - When do you decide to stop value iteration \n",
        "Modify this cell and add you answer"
      ]
    },
    {
      "cell_type": "markdown",
      "metadata": {
        "id": "AD3Jgj2JRVNp"
      },
      "source": [
        "# Task 1"
      ]
    },
    {
      "cell_type": "markdown",
      "metadata": {
        "id": "GIDOS51MWPU9"
      },
      "source": [
        "## a) Implement Value iteration"
      ]
    },
    {
      "cell_type": "code",
      "metadata": {
        "tags": [],
        "id": "45p2j33NRVNp"
      },
      "source": [
        "def value_iter(env):\n",
        "  value_grid = np.zeros((10, 10)) # Marked as J(s) in the homework pdf\n",
        "  policy = np.zeros((10, 10), np.int32) # Marked as pi(s) in homework pdf\n",
        "\n",
        "  value_grids = [] # Store all the J(s) grids at every iteration in this list\n",
        "  policies = []  # Store all the pi(s) grids at every iteration in this list\n",
        "\n",
        "  # ADD YOUR CODE BELOW - DO NOT EDIT ABOVE THIS LINE\n",
        "  value_grids.append(value_grid.copy())\n",
        "  policies.append(policy.copy())\n",
        "  while True:\n",
        "    error = 0\n",
        "    for i in range(10):\n",
        "      for j in range(10):\n",
        "        current_J = value_grid[i,j]\n",
        "        values = []\n",
        "        for move in env.perpendicular_order:\n",
        "          new_J = 0\n",
        "          for st_prob_rew in env.get_transition_probabilites_and_reward([i,j],move):\n",
        "            new_J += (st_prob_rew[2] + value_grid[st_prob_rew[0][0], st_prob_rew[0][1]]) * st_prob_rew[1]\n",
        "          values.append(new_J)\n",
        "        value_grid[i,j] = max(values)\n",
        "        policy[i,j] = env.perpendicular_order.index(env.perpendicular_order[values.index(max(values))])\n",
        "        error = max(error, abs(value_grid[i,j]-current_J))\n",
        "    value_grids.append(value_grid.copy())\n",
        "    policies.append(policy.copy())\n",
        "    if error < 1e-8:\n",
        "      break\n",
        "\n",
        "  # Important Note: \n",
        "  # The action names are strings but the expected output is an integer array\n",
        "  # To get the corresponding mapping of integer values use -> env.perpendicular_order\n",
        "  # So if your action is 'E' \n",
        "  # Your result would be: env.perpendicular_order.index('E') -> 1\n",
        "  \n",
        "\n",
        "  # DO NOT EDIT BELOW THIS LINE\n",
        "  results = {\"value_grid\": value_grid, \"pi_s\": policy}\n",
        "  return results, value_grids, policies"
      ],
      "execution_count": null,
      "outputs": []
    },
    {
      "cell_type": "markdown",
      "metadata": {
        "id": "mus58g6PCx0I"
      },
      "source": [
        "## Here is an example of what the \"results\" output from value_iter function should look like\n",
        "\n",
        "**The numpy array may look different from the image given in the pdf because the origins are different, do not worry about this, use indexing and directions as providided by the env class (env.actions) and do not hard code anything.**\n",
        "\n",
        "Ofcourse, it won't be all zeros\n",
        "\n",
        "``` python \n",
        "{'value_grid': array([[0., 0., 0., 0., 0., 0., 0., 0., 0., 0.],\n",
        "         [0., 0., 0., 0., 0., 0., 0., 0., 0., 0.],\n",
        "         [0., 0., 0., 0., 0., 0., 0., 0., 0., 0.],\n",
        "         [0., 0., 0., 0., 0., 0., 0., 0., 0., 0.],\n",
        "         [0., 0., 0., 0., 0., 0., 0., 0., 0., 0.],\n",
        "         [0., 0., 0., 0., 0., 0., 0., 0., 0., 0.],\n",
        "         [0., 0., 0., 0., 0., 0., 0., 0., 0., 0.],\n",
        "         [0., 0., 0., 0., 0., 0., 0., 0., 0., 0.],\n",
        "         [0., 0., 0., 0., 0., 0., 0., 0., 0., 0.],\n",
        "         [0., 0., 0., 0., 0., 0., 0., 0., 0., 0.]]),\n",
        "  'pi_s': array([[0, 0, 0, 0, 0, 0, 0, 0, 0, 0],\n",
        "         [0, 0, 0, 0, 0, 0, 0, 0, 0, 0],\n",
        "         [0, 0, 0, 0, 0, 0, 0, 0, 0, 0],\n",
        "         [0, 0, 0, 0, 0, 0, 0, 0, 0, 0],\n",
        "         [0, 0, 0, 0, 0, 0, 0, 0, 0, 0],\n",
        "         [0, 0, 0, 0, 0, 0, 0, 0, 0, 0],\n",
        "         [0, 0, 0, 0, 0, 0, 0, 0, 0, 0],\n",
        "         [0, 0, 0, 0, 0, 0, 0, 0, 0, 0],\n",
        "         [0, 0, 0, 0, 0, 0, 0, 0, 0, 0],\n",
        "         [0, 0, 0, 0, 0, 0, 0, 0, 0, 0]], dtype=int32)}\n",
        "```"
      ]
    },
    {
      "cell_type": "code",
      "metadata": {
        "id": "vLF4WYcrAx1r"
      },
      "source": [
        "# DO NOT EDIT THIS CELL, DURING EVALUATION THE DATASET DIR WILL CHANGE\n",
        "!mkdir $AICROWD_RESULTS_DIR\n",
        "input_dir = os.path.join(DATASET_DIR, 'inputs')\n",
        "for params_file in os.listdir(input_dir):\n",
        "  kwargs = np.load(os.path.join(input_dir, params_file), allow_pickle=True).item()\n",
        "  env = GridEnv_HW2(**kwargs)\n",
        "  results, value_grids, policies = value_iter(env)\n",
        "  idx = params_file.split('_')[-1][:-4]\n",
        "  np.save(os.path.join(AICROWD_RESULTS_DIR, 'results_' + idx), results)"
      ],
      "execution_count": null,
      "outputs": []
    },
    {
      "cell_type": "markdown",
      "metadata": {
        "id": "S8IVf3N9VuNZ"
      },
      "source": [
        "#Task 2 - The value iteration loop goes to infinity (refer the pseudocode given above), so when would you stop your value iteration?"
      ]
    },
    {
      "cell_type": "markdown",
      "metadata": {
        "id": "ahKp_WLoYFN_"
      },
      "source": [
        "I will stop the value iteration when current maximum value of the $||J_{i+1}(s) - J_i(s)||$ for all states is below the 10*-8 value."
      ]
    },
    {
      "cell_type": "markdown",
      "metadata": {
        "id": "K2r-zLDhRVNp"
      },
      "source": [
        "# Task 3- Plot graph of $||J_{i+1}(s) - J_i(s)||$\n",
        "An example plot code is provided below, but you can change it if you want"
      ]
    },
    {
      "cell_type": "code",
      "metadata": {
        "id": "ZFXPt6m6RVNq",
        "colab": {
          "base_uri": "https://localhost:8080/",
          "height": 283
        },
        "outputId": "42ea4558-84d3-4503-a45f-b0e6edc4a291"
      },
      "source": [
        "import matplotlib.pyplot as plt\n",
        "diffs = []\n",
        "for ii in range(len(value_grids)-1):\n",
        "    diff = np.linalg.norm(value_grids[ii+1] - value_grids[ii]) \n",
        "    diffs.append(diff)\n",
        "plt.plot(diffs)"
      ],
      "execution_count": null,
      "outputs": [
        {
          "output_type": "execute_result",
          "data": {
            "text/plain": [
              "[<matplotlib.lines.Line2D at 0x7f4b946c5750>]"
            ]
          },
          "metadata": {
            "tags": []
          },
          "execution_count": 10
        },
        {
          "output_type": "display_data",
          "data": {
            "image/png": "[encoded data removed]",
            "text/plain": [
              "<Figure size 432x288 with 1 Axes>"
            ]
          },
          "metadata": {
            "tags": [],
            "needs_background": "light"
          }
        }
      ]
    },
    {
      "cell_type": "markdown",
      "metadata": {
        "id": "tsEaK9L4RoZd"
      },
      "source": [
        "# Task 4 - Show $J(s)$ and $pi(s)$ after 10, 25 and final iteration. "
      ]
    },
    {
      "cell_type": "code",
      "metadata": {
        "id": "z0jPnRLvR-DF",
        "colab": {
          "base_uri": "https://localhost:8080/",
          "height": 1000
        },
        "outputId": "0d609029-8cc5-44bd-a072-bbc5ce573146"
      },
      "source": [
        "# Use any visualization code you want to show the value and policies\n",
        "\n",
        "# After 10 iteration\n",
        "print('J(s) after 10 iteration')\n",
        "plt.imshow(value_grids[10], origin='lower')\n",
        "plt.show()\n",
        "print()\n",
        "\n",
        "print('Pi(s) after 10 iteration')\n",
        "print('Thick-Blue: North, Light-Blue: East, Green: South, Yellow: West')\n",
        "plt.imshow(policies[10], origin='lower')\n",
        "plt.show()\n",
        "print()\n",
        "\n",
        "# After 25 iteration\n",
        "print('J(s) after 25 iteration')\n",
        "plt.imshow(value_grids[25], origin='lower')\n",
        "plt.show()\n",
        "print()\n",
        "\n",
        "print('Pi(s) after 25 iteration')\n",
        "print('Thick-Blue: North, Light-Blue: East, Green: South, Yellow: West')\n",
        "plt.imshow(policies[25], origin='lower')\n",
        "plt.show()\n",
        "print()\n",
        "\n",
        "# After Final iteration\n",
        "print('J(s) after', len(value_grids)-1, 'iteration')\n",
        "plt.imshow(value_grids[len(value_grids)-1], origin='lower')\n",
        "plt.show()\n",
        "print()\n",
        "\n",
        "print('Pi(s) after', len(value_grids)-1, 'iteration')\n",
        "print('Thick-Blue: North, Light-Blue: East, Green: South, Yellow: West')\n",
        "plt.imshow(policies[len(value_grids)-1], origin='lower')\n",
        "plt.show()\n",
        "print()\n",
        "\n",
        "# "
      ],
      "execution_count": null,
      "outputs": [
        {
          "output_type": "stream",
          "text": [
            "J(s) after 10 iteration\n"
          ],
          "name": "stdout"
        },
        {
          "output_type": "display_data",
          "data": {
            "image/png": "[encoded data removed]",
            "text/plain": [
              "<Figure size 432x288 with 1 Axes>"
            ]
          },
          "metadata": {
            "tags": [],
            "needs_background": "light"
          }
        },
        {
          "output_type": "stream",
          "text": [
            "\n",
            "Pi(s) after 10 iteration\n",
            "Thick-Blue: North, Light-Blue: East, Green: South, Yellow: West\n"
          ],
          "name": "stdout"
        },
        {
          "output_type": "display_data",
          "data": {
            "image/png": "[encoded data removed]",
            "text/plain": [
              "<Figure size 432x288 with 1 Axes>"
            ]
          },
          "metadata": {
            "tags": [],
            "needs_background": "light"
          }
        },
        {
          "output_type": "stream",
          "text": [
            "\n",
            "J(s) after 25 iteration\n"
          ],
          "name": "stdout"
        },
        {
          "output_type": "display_data",
          "data": {
            "image/png": "[encoded data removed]",
            "text/plain": [
              "<Figure size 432x288 with 1 Axes>"
            ]
          },
          "metadata": {
            "tags": [],
            "needs_background": "light"
          }
        },
        {
          "output_type": "stream",
          "text": [
            "\n",
            "Pi(s) after 25 iteration\n",
            "Thick-Blue: North, Light-Blue: East, Green: South, Yellow: West\n"
          ],
          "name": "stdout"
        },
        {
          "output_type": "display_data",
          "data": {
            "image/png": "[encoded data removed]",
            "text/plain": [
              "<Figure size 432x288 with 1 Axes>"
            ]
          },
          "metadata": {
            "tags": [],
            "needs_background": "light"
          }
        },
        {
          "output_type": "stream",
          "text": [
            "\n",
            "J(s) after 40 iteration\n"
          ],
          "name": "stdout"
        },
        {
          "output_type": "display_data",
          "data": {
            "image/png": "[encoded data removed]",
            "text/plain": [
              "<Figure size 432x288 with 1 Axes>"
            ]
          },
          "metadata": {
            "tags": [],
            "needs_background": "light"
          }
        },
        {
          "output_type": "stream",
          "text": [
            "\n",
            "Pi(s) after 40 iteration\n",
            "Thick-Blue: North, Light-Blue: East, Green: South, Yellow: West\n"
          ],
          "name": "stdout"
        },
        {
          "output_type": "display_data",
          "data": {
            "image/png": "[encoded data removed]",
            "text/plain": [
              "<Figure size 432x288 with 1 Axes>"
            ]
          },
          "metadata": {
            "tags": [],
            "needs_background": "light"
          }
        },
        {
          "output_type": "stream",
          "text": [
            "\n"
          ],
          "name": "stdout"
        }
      ]
    },
    {
      "cell_type": "markdown",
      "metadata": {
        "id": "NaE7G1FOSLhD"
      },
      "source": [
        "# Task 5 - Consider a new gridworld (GridWorld-2) as shown Figure 2 (GridWorld-2 differ from GridWorld-1 only in the position of the “Goal” state). Compare and contrast the behavior of J and greedy policy π for GridWorld-1 and GridWorld-2\n"
      ]
    },
    {
      "cell_type": "markdown",
      "metadata": {
        "id": "Cyik1NmZYC5s"
      },
      "source": [
        "Grid World 1 Policy:\n",
        "\n",
        "![image.png](data:image/png;base64,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)\n",
        "\n",
        "GridWorld 2 Policy:\n",
        "\n",
        "![image.png](data:image/png;base64,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)\n",
        "\n",
        "By observation the policy that we got from the value iteration process is pretty simple. when we are close to the quicksand and it's out is away from the goal, we move away from the quick sand. when the quicksand has a easy way out near the goal state, then we try to attain the quicksand state. \n",
        "\n",
        "In both the gridworld the quicksand that has it's out state near the goal has it's quicksand farther away from the goal, policy attracts us to the quicksand which leads us near the goal and viseversa. "
      ]
    },
    {
      "cell_type": "markdown",
      "metadata": {
        "id": "8pNWylwjjCT1"
      },
      "source": [
        "# Submit to AIcrowd 🚀"
      ]
    },
    {
      "cell_type": "code",
      "metadata": {
        "id": "AcCElHZnjDbI",
        "colab": {
          "base_uri": "https://localhost:8080/"
        },
        "outputId": "30767b9e-1c76-4352-e6f1-d099c7b90f9b"
      },
      "source": [
        "!DATASET_PATH=$AICROWD_DATASET_PATH aicrowd notebook submit -c rl-vi -a assets"
      ],
      "execution_count": null,
      "outputs": [
        {
          "output_type": "stream",
          "text": [
            "WARNING: No assets directory at assets... Creating one...\n",
            "Using notebook: /content/Copy%20of%20my%20IITM_RL_VI_v1.ipynb for submission...\n",
            "\u001b[1;34mMounting Google Drive 💾\u001b[0m\n",
            "Your Google Drive will be mounted to access the colab notebook\n",
            "Go to this URL in a browser: https://accounts.google.com/o/oauth2/auth?client_id=947318989803-6bn6qk8qdgf4n4g3pfee6491hc0brc4i.apps.googleusercontent.com&redirect_uri=urn%3aietf%3awg%3aoauth%3a2.0%3aoob&scope=email%20https%3a%2f%2fwww.googleapis.com%2fauth%2fdocs.test%20https%3a%2f%2fwww.googleapis.com%2fauth%2fdrive%20https%3a%2f%2fwww.googleapis.com%2fauth%2fdrive.photos.readonly%20https%3a%2f%2fwww.googleapis.com%2fauth%2fpeopleapi.readonly%20https%3a%2f%2fwww.googleapis.com%2fauth%2fdrive.activity.readonly%20https%3a%2f%2fwww.googleapis.com%2fauth%2fphotos.native&response_type=code\n",
            "\n",
            "Enter your authorization code:\n",
            "4/1AY0e-g5mvXULFr1OyswaRrfW9jsvTUN4G06OaUL72C0qpUrCQQGucM_StUk\n",
            "Mounted at /content/drive\n",
            "Scrubbing API keys from the notebook...\n",
            "Collecting notebook...\n",
            "Validating the submission...\n",
            "Executing install.ipynb...\n",
            "[NbConvertApp] Converting notebook /content/submission/install.ipynb to notebook\n",
            "[NbConvertApp] Executing notebook with kernel: python3\n",
            "[NbConvertApp] Writing 1479 bytes to /content/submission/install.nbconvert.ipynb\n",
            "Executing predict.ipynb...\n",
            "[NbConvertApp] Converting notebook /content/submission/predict.ipynb to notebook\n",
            "[NbConvertApp] Executing notebook with kernel: python3\n",
            "[NbConvertApp] ERROR | unhandled iopub msg: colab_request\n",
            "[NbConvertApp] ERROR | unhandled iopub msg: colab_request\n",
            "[NbConvertApp] ERROR | unhandled iopub msg: colab_request\n",
            "[NbConvertApp] ERROR | unhandled iopub msg: colab_request\n",
            "[NbConvertApp] ERROR | unhandled iopub msg: colab_request\n",
            "[NbConvertApp] ERROR | unhandled iopub msg: colab_request\n",
            "[NbConvertApp] ERROR | unhandled iopub msg: colab_request\n",
            "[NbConvertApp] ERROR | unhandled iopub msg: colab_request\n",
            "[NbConvertApp] ERROR | unhandled iopub msg: colab_request\n",
            "[NbConvertApp] ERROR | unhandled iopub msg: colab_request\n",
            "[NbConvertApp] ERROR | unhandled iopub msg: colab_request\n",
            "[NbConvertApp] ERROR | unhandled iopub msg: colab_request\n",
            "[NbConvertApp] Writing 73743 bytes to /content/submission/predict.nbconvert.ipynb\n",
            "\u001b[2K\u001b[1;34msubmission.zip\u001b[0m \u001b[90m━━━━━━━━━━━━━━━━━━\u001b[0m \u001b[35m100.0%\u001b[0m • \u001b[32m104.3/102.7 KB\u001b[0m • \u001b[31m569.0 kB/s\u001b[0m • \u001b[36m0:00:00\u001b[0m\n",
            "\u001b[?25h                                   ╭─────────────────────────╮                                    \n",
            "                                   │ \u001b[1mSuccessfully submitted!\u001b[0m │                                    \n",
            "                                   ╰─────────────────────────╯                                    \n",
            "\u001b[3m                                         Important links                                          \u001b[0m\n",
            "┌──────────────────┬─────────────────────────────────────────────────────────────────────────────┐\n",
            "│  This submission │ https://www.aicrowd.com/challenges/rliitm-1/submissions/126676              │\n",
            "│                  │                                                                             │\n",
            "│  All submissions │ https://www.aicrowd.com/challenges/rliitm-1/submissions?my_submissions=true │\n",
            "│                  │                                                                             │\n",
            "│      Leaderboard │ https://www.aicrowd.com/challenges/rliitm-1/leaderboards                    │\n",
            "│                  │                                                                             │\n",
            "│ Discussion forum │ https://discourse.aicrowd.com/c/rliitm-1                                    │\n",
            "│                  │                                                                             │\n",
            "│   Challenge page │ https://www.aicrowd.com/challenges/rliitm-1                                 │\n",
            "└──────────────────┴─────────────────────────────────────────────────────────────────────────────┘\n"
          ],
          "name": "stdout"
        }
      ]
    },
    {
      "cell_type": "code",
      "metadata": {
        "id": "AJtESiLb-9iM"
      },
      "source": [
        ""
      ],
      "execution_count": null,
      "outputs": []
    }
  ]
}
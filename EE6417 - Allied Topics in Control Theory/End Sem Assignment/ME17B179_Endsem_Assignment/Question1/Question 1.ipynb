{
 "cells": [
  {
   "cell_type": "code",
   "execution_count": 1,
   "id": "9162f9d0",
   "metadata": {},
   "outputs": [],
   "source": [
    "import numpy as np"
   ]
  },
  {
   "cell_type": "code",
   "execution_count": 59,
   "id": "1d3e21ff",
   "metadata": {},
   "outputs": [],
   "source": [
    "# part b"
   ]
  },
  {
   "cell_type": "code",
   "execution_count": 44,
   "id": "ce20cb69",
   "metadata": {},
   "outputs": [],
   "source": [
    "c1 = 10\n",
    "c2 = 20\n",
    "c3 = 30\n",
    "c4 = 40"
   ]
  },
  {
   "cell_type": "code",
   "execution_count": 45,
   "id": "5bfbbb87",
   "metadata": {},
   "outputs": [],
   "source": [
    "L = -(np.array([[-c1, c1, 0, 0, 0],\n",
    "              [c1, -(c1+c2), c2, 0, 0],\n",
    "              [0, c2, -(c2+c3), c3, 0],\n",
    "              [0, 0, c3, -(c3+c4), c4],\n",
    "              [0, 0, 0, c4, -c4]]))"
   ]
  },
  {
   "cell_type": "code",
   "execution_count": 46,
   "id": "280f84ec",
   "metadata": {},
   "outputs": [
    {
     "data": {
      "text/plain": [
       "array([[ 10, -10,   0,   0,   0],\n",
       "       [-10,  30, -20,   0,   0],\n",
       "       [  0, -20,  50, -30,   0],\n",
       "       [  0,   0, -30,  70, -40],\n",
       "       [  0,   0,   0, -40,  40]])"
      ]
     },
     "execution_count": 46,
     "metadata": {},
     "output_type": "execute_result"
    }
   ],
   "source": [
    "L"
   ]
  },
  {
   "cell_type": "code",
   "execution_count": 47,
   "id": "7ed7bac4",
   "metadata": {},
   "outputs": [],
   "source": [
    "# part c"
   ]
  },
  {
   "cell_type": "code",
   "execution_count": 51,
   "id": "7a7f9d2a",
   "metadata": {},
   "outputs": [
    {
     "data": {
      "text/plain": [
       "array([0., 0., 0., 0., 0.])"
      ]
     },
     "execution_count": 51,
     "metadata": {},
     "output_type": "execute_result"
    }
   ],
   "source": [
    "np.matmul(L, np.ones(5))"
   ]
  },
  {
   "cell_type": "code",
   "execution_count": 52,
   "id": "c5c8b783",
   "metadata": {},
   "outputs": [
    {
     "data": {
      "text/plain": [
       "array([0., 0., 0., 0., 0.])"
      ]
     },
     "execution_count": 52,
     "metadata": {},
     "output_type": "execute_result"
    }
   ],
   "source": [
    "np.matmul(np.ones(5), L)"
   ]
  },
  {
   "cell_type": "code",
   "execution_count": 66,
   "id": "53e8981c",
   "metadata": {},
   "outputs": [
    {
     "name": "stdout",
     "output_type": "stream",
     "text": [
      "Eigen values =  [219.07788625 114.62357503  51.43270015  -0.          14.86583856]\n",
      "L + Ltranspose >= 0 is  True\n"
     ]
    }
   ],
   "source": [
    "print(\"Eigen values = \", np.linalg.eigvals(L + L.T).round(10))\n",
    "print(\"L + Ltranspose >= 0 is \", (np.linalg.eigvals(L + L.T).round(10).all()) >= 0)"
   ]
  },
  {
   "cell_type": "code",
   "execution_count": null,
   "id": "3375625d",
   "metadata": {},
   "outputs": [],
   "source": []
  }
 ],
 "metadata": {
  "kernelspec": {
   "display_name": "Python 3",
   "language": "python",
   "name": "python3"
  },
  "language_info": {
   "codemirror_mode": {
    "name": "ipython",
    "version": 3
   },
   "file_extension": ".py",
   "mimetype": "text/x-python",
   "name": "python",
   "nbconvert_exporter": "python",
   "pygments_lexer": "ipython3",
   "version": "3.7.7"
  }
 },
 "nbformat": 4,
 "nbformat_minor": 5
}

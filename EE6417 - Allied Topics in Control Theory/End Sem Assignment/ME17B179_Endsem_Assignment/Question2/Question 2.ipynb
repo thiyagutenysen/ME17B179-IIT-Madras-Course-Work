{
 "cells": [
  {
   "cell_type": "code",
   "execution_count": 35,
   "metadata": {},
   "outputs": [
    {
     "name": "stdout",
     "output_type": "stream",
     "text": [
      "Collecting openpyxl\n",
      "  Downloading openpyxl-3.0.7-py2.py3-none-any.whl (243 kB)\n",
      "\u001b[K     |████████████████████████████████| 243 kB 2.1 MB/s eta 0:00:01\n",
      "\u001b[?25hCollecting et-xmlfile\n",
      "  Downloading et_xmlfile-1.1.0-py3-none-any.whl (4.7 kB)\n",
      "Installing collected packages: et-xmlfile, openpyxl\n",
      "Successfully installed et-xmlfile-1.1.0 openpyxl-3.0.7\n"
     ]
    }
   ],
   "source": [
    "!pip install openpyxl"
   ]
  },
  {
   "cell_type": "code",
   "execution_count": 1,
   "metadata": {},
   "outputs": [],
   "source": [
    "import matplotlib.pyplot as plt\n",
    "import pandas as pd\n",
    "from tqdm import tqdm\n",
    "import numpy as np"
   ]
  },
  {
   "cell_type": "code",
   "execution_count": 2,
   "metadata": {},
   "outputs": [],
   "source": [
    "import networkx as nx"
   ]
  },
  {
   "cell_type": "code",
   "execution_count": 3,
   "metadata": {},
   "outputs": [],
   "source": [
    "data = pd.read_csv(\"isl_wise_train_detail_03082015_v1.csv\")"
   ]
  },
  {
   "cell_type": "code",
   "execution_count": 4,
   "metadata": {},
   "outputs": [
    {
     "data": {
      "text/html": [
       "<div>\n",
       "<style scoped>\n",
       "    .dataframe tbody tr th:only-of-type {\n",
       "        vertical-align: middle;\n",
       "    }\n",
       "\n",
       "    .dataframe tbody tr th {\n",
       "        vertical-align: top;\n",
       "    }\n",
       "\n",
       "    .dataframe thead th {\n",
       "        text-align: right;\n",
       "    }\n",
       "</style>\n",
       "<table border=\"1\" class=\"dataframe\">\n",
       "  <thead>\n",
       "    <tr style=\"text-align: right;\">\n",
       "      <th></th>\n",
       "      <th>Train No.</th>\n",
       "      <th>train Name</th>\n",
       "      <th>islno</th>\n",
       "      <th>station Code</th>\n",
       "      <th>Station Name</th>\n",
       "      <th>Arrival time</th>\n",
       "      <th>Departure time</th>\n",
       "      <th>Distance</th>\n",
       "      <th>Source Station Code</th>\n",
       "      <th>source Station Name</th>\n",
       "      <th>Destination station Code</th>\n",
       "      <th>Destination Station Name</th>\n",
       "    </tr>\n",
       "  </thead>\n",
       "  <tbody>\n",
       "    <tr>\n",
       "      <th>0</th>\n",
       "      <td>'00851'</td>\n",
       "      <td>BNC SUVIDHA SPL</td>\n",
       "      <td>1</td>\n",
       "      <td>BBS</td>\n",
       "      <td>BHUBANESWAR</td>\n",
       "      <td>'00:00:00'</td>\n",
       "      <td>'22:50:00'</td>\n",
       "      <td>0</td>\n",
       "      <td>BBS</td>\n",
       "      <td>BHUBANESWAR</td>\n",
       "      <td>BNC</td>\n",
       "      <td>BANGALORE CANT</td>\n",
       "    </tr>\n",
       "    <tr>\n",
       "      <th>1</th>\n",
       "      <td>'00851'</td>\n",
       "      <td>BNC SUVIDHA SPL</td>\n",
       "      <td>2</td>\n",
       "      <td>BAM</td>\n",
       "      <td>BRAHMAPUR</td>\n",
       "      <td>'01:10:00'</td>\n",
       "      <td>'01:12:00'</td>\n",
       "      <td>166</td>\n",
       "      <td>BBS</td>\n",
       "      <td>BHUBANESWAR</td>\n",
       "      <td>BNC</td>\n",
       "      <td>BANGALORE CANT</td>\n",
       "    </tr>\n",
       "    <tr>\n",
       "      <th>2</th>\n",
       "      <td>'00851'</td>\n",
       "      <td>BNC SUVIDHA SPL</td>\n",
       "      <td>3</td>\n",
       "      <td>VSKP</td>\n",
       "      <td>VISAKHAPATNAM</td>\n",
       "      <td>'05:10:00'</td>\n",
       "      <td>'05:30:00'</td>\n",
       "      <td>443</td>\n",
       "      <td>BBS</td>\n",
       "      <td>BHUBANESWAR</td>\n",
       "      <td>BNC</td>\n",
       "      <td>BANGALORE CANT</td>\n",
       "    </tr>\n",
       "    <tr>\n",
       "      <th>3</th>\n",
       "      <td>'00851'</td>\n",
       "      <td>BNC SUVIDHA SPL</td>\n",
       "      <td>4</td>\n",
       "      <td>BZA</td>\n",
       "      <td>VIJAYAWADA JN</td>\n",
       "      <td>'11:10:00'</td>\n",
       "      <td>'11:20:00'</td>\n",
       "      <td>793</td>\n",
       "      <td>BBS</td>\n",
       "      <td>BHUBANESWAR</td>\n",
       "      <td>BNC</td>\n",
       "      <td>BANGALORE CANT</td>\n",
       "    </tr>\n",
       "    <tr>\n",
       "      <th>4</th>\n",
       "      <td>'00851'</td>\n",
       "      <td>BNC SUVIDHA SPL</td>\n",
       "      <td>5</td>\n",
       "      <td>RU</td>\n",
       "      <td>RENIGUNTA JN</td>\n",
       "      <td>'16:42:00'</td>\n",
       "      <td>'16:52:00'</td>\n",
       "      <td>1169</td>\n",
       "      <td>BBS</td>\n",
       "      <td>BHUBANESWAR</td>\n",
       "      <td>BNC</td>\n",
       "      <td>BANGALORE CANT</td>\n",
       "    </tr>\n",
       "  </tbody>\n",
       "</table>\n",
       "</div>"
      ],
      "text/plain": [
       "  Train No.       train Name  islno station Code     Station Name  \\\n",
       "0   '00851'  BNC SUVIDHA SPL      1         BBS   BHUBANESWAR       \n",
       "1   '00851'  BNC SUVIDHA SPL      2         BAM   BRAHMAPUR         \n",
       "2   '00851'  BNC SUVIDHA SPL      3         VSKP  VISAKHAPATNAM     \n",
       "3   '00851'  BNC SUVIDHA SPL      4         BZA   VIJAYAWADA JN     \n",
       "4   '00851'  BNC SUVIDHA SPL      5         RU    RENIGUNTA JN      \n",
       "\n",
       "  Arrival time Departure time  Distance Source Station Code  \\\n",
       "0   '00:00:00'     '22:50:00'         0                BBS    \n",
       "1   '01:10:00'     '01:12:00'       166                BBS    \n",
       "2   '05:10:00'     '05:30:00'       443                BBS    \n",
       "3   '11:10:00'     '11:20:00'       793                BBS    \n",
       "4   '16:42:00'     '16:52:00'      1169                BBS    \n",
       "\n",
       "  source Station Name Destination station Code Destination Station Name  \n",
       "0     BHUBANESWAR                         BNC           BANGALORE CANT   \n",
       "1     BHUBANESWAR                         BNC           BANGALORE CANT   \n",
       "2     BHUBANESWAR                         BNC           BANGALORE CANT   \n",
       "3     BHUBANESWAR                         BNC           BANGALORE CANT   \n",
       "4     BHUBANESWAR                         BNC           BANGALORE CANT   "
      ]
     },
     "execution_count": 4,
     "metadata": {},
     "output_type": "execute_result"
    }
   ],
   "source": [
    "data.head()"
   ]
  },
  {
   "cell_type": "code",
   "execution_count": 5,
   "metadata": {},
   "outputs": [
    {
     "name": "stderr",
     "output_type": "stream",
     "text": [
      "100%|██████████| 69005/69005 [00:56<00:00, 1216.30it/s]\n"
     ]
    }
   ],
   "source": [
    "travel = dict()\n",
    "for i in tqdm(range(len(data)-1)):\n",
    "    prev_train_num = data.iloc[i]['Train No.']\n",
    "    new_train_num = data.iloc[i+1]['Train No.']\n",
    "    if prev_train_num == new_train_num:\n",
    "        if data.iloc[i]['station Code']+'-'+data.iloc[i+1]['station Code'] in travel:\n",
    "            travel[data.iloc[i]['station Code']+'-'+data.iloc[i+1]['station Code']] += 1\n",
    "        else:\n",
    "            travel[data.iloc[i]['station Code']+'-'+data.iloc[i+1]['station Code']] = 1\n",
    "    elif prev_train_num != data.iloc[i-1]['Train No.']:\n",
    "        if data.iloc[i]['Source Station Code']+'-'+data.iloc[i+1]['Destination station Code'] in travel:\n",
    "            travel[data.iloc[i]['Source Station Code']+'-'+data.iloc[i+1]['Destination station Code']] += 1\n",
    "        else:\n",
    "            travel[data.iloc[i]['Source Station Code']+'-'+data.iloc[i+1]['Destination station Code']] = 1\n",
    "    else:\n",
    "        pass"
   ]
  },
  {
   "cell_type": "code",
   "execution_count": 6,
   "metadata": {},
   "outputs": [
    {
     "name": "stderr",
     "output_type": "stream",
     "text": [
      "100%|██████████| 16992/16992 [00:00<00:00, 227869.53it/s]\n"
     ]
    }
   ],
   "source": [
    "total_keys = list(travel.keys())\n",
    "DG = nx.DiGraph()\n",
    "for i in tqdm(total_keys):\n",
    "    start_to_end = i.split('-')\n",
    "    start = start_to_end[0]\n",
    "    end = start_to_end[1]\n",
    "    DG.add_edge(start, end, weight = travel[i])"
   ]
  },
  {
   "cell_type": "code",
   "execution_count": null,
   "metadata": {},
   "outputs": [],
   "source": [
    "# part a"
   ]
  },
  {
   "cell_type": "code",
   "execution_count": 7,
   "metadata": {},
   "outputs": [
    {
     "name": "stdout",
     "output_type": "stream",
     "text": [
      "Number of nodes =  4328\n",
      "Number of edges =  16967\n",
      "7.855836274145021\n",
      "_________________________________________________\n",
      "Number of nodes =  8\n",
      "Number of edges =  11\n",
      "1.5714285714285714\n",
      "_________________________________________________\n",
      "Number of nodes =  8\n",
      "Number of edges =  14\n",
      "3.0\n",
      "_________________________________________________\n"
     ]
    }
   ],
   "source": [
    "for component in [DG.subgraph(c).copy() for c in nx.weakly_connected_components(DG)]:\n",
    "    print(\"Number of nodes = \", component.number_of_nodes())\n",
    "    print(\"Number of edges = \", component.number_of_edges())\n",
    "    print(nx.average_shortest_path_length(component))\n",
    "    print(\"_________________________________________________\")"
   ]
  },
  {
   "cell_type": "code",
   "execution_count": null,
   "metadata": {},
   "outputs": [],
   "source": [
    "# part b"
   ]
  },
  {
   "cell_type": "code",
   "execution_count": 8,
   "metadata": {},
   "outputs": [
    {
     "name": "stdout",
     "output_type": "stream",
     "text": [
      "Number of nodes =  1\n",
      "Number of edges =  0\n",
      "0\n",
      "_________________________________________________\n",
      "Number of nodes =  1\n",
      "Number of edges =  0\n",
      "0\n",
      "_________________________________________________\n",
      "Number of nodes =  1\n",
      "Number of edges =  0\n",
      "0\n",
      "_________________________________________________\n",
      "Number of nodes =  1\n",
      "Number of edges =  0\n",
      "0\n",
      "_________________________________________________\n",
      "Number of nodes =  1\n",
      "Number of edges =  0\n",
      "0\n",
      "_________________________________________________\n",
      "Number of nodes =  4321\n",
      "Number of edges =  16960\n",
      "35\n",
      "_________________________________________________\n",
      "Number of nodes =  1\n",
      "Number of edges =  0\n",
      "0\n",
      "_________________________________________________\n",
      "Number of nodes =  1\n",
      "Number of edges =  0\n",
      "0\n",
      "_________________________________________________\n",
      "Number of nodes =  1\n",
      "Number of edges =  0\n",
      "0\n",
      "_________________________________________________\n",
      "Number of nodes =  1\n",
      "Number of edges =  0\n",
      "0\n",
      "_________________________________________________\n",
      "Number of nodes =  1\n",
      "Number of edges =  0\n",
      "0\n",
      "_________________________________________________\n",
      "Number of nodes =  5\n",
      "Number of edges =  8\n",
      "4\n",
      "_________________________________________________\n",
      "Number of nodes =  8\n",
      "Number of edges =  14\n",
      "7\n",
      "_________________________________________________\n"
     ]
    }
   ],
   "source": [
    "for component in [DG.subgraph(c).copy() for c in nx.strongly_connected_components(DG)]:\n",
    "    print(\"Number of nodes = \", component.number_of_nodes())\n",
    "    print(\"Number of edges = \", component.number_of_edges())\n",
    "    print(nx.diameter(component))\n",
    "    print(\"_________________________________________________\")"
   ]
  },
  {
   "cell_type": "code",
   "execution_count": null,
   "metadata": {},
   "outputs": [],
   "source": [
    "# part c"
   ]
  },
  {
   "cell_type": "code",
   "execution_count": 9,
   "metadata": {},
   "outputs": [
    {
     "name": "stdout",
     "output_type": "stream",
     "text": [
      "3\n"
     ]
    }
   ],
   "source": [
    "# Weakly connected components\n",
    "print(nx.number_connected_components(DG.to_undirected()))"
   ]
  },
  {
   "cell_type": "code",
   "execution_count": 10,
   "metadata": {},
   "outputs": [
    {
     "name": "stdout",
     "output_type": "stream",
     "text": [
      "13\n"
     ]
    }
   ],
   "source": [
    "# strongly connected components\n",
    "print(nx.number_strongly_connected_components(DG))"
   ]
  },
  {
   "cell_type": "code",
   "execution_count": null,
   "metadata": {},
   "outputs": [],
   "source": [
    "# part d"
   ]
  },
  {
   "cell_type": "code",
   "execution_count": 11,
   "metadata": {},
   "outputs": [],
   "source": [
    "# Degree centrality\n",
    "def degree_cen(G):\n",
    "  return nx.degree_centrality(G)"
   ]
  },
  {
   "cell_type": "code",
   "execution_count": 12,
   "metadata": {},
   "outputs": [],
   "source": [
    "# Eigenvector centrality\n",
    "def eigenvector_cen(G):\n",
    "  return nx.eigenvector_centrality(G)"
   ]
  },
  {
   "cell_type": "code",
   "execution_count": 13,
   "metadata": {},
   "outputs": [],
   "source": [
    "# katz centrality\n",
    "def katz_cen(G):\n",
    "  rho = max(nx.adjacency_spectrum(G))\n",
    "  alpha = 1/(2*rho)\n",
    "  return nx.katz_centrality(G, alpha)"
   ]
  },
  {
   "cell_type": "code",
   "execution_count": 14,
   "metadata": {},
   "outputs": [],
   "source": [
    "# page_rank centrality\n",
    "def pagerank_cen(G):\n",
    "  return nx.pagerank(G,0.5)"
   ]
  },
  {
   "cell_type": "code",
   "execution_count": 15,
   "metadata": {},
   "outputs": [
    {
     "name": "stderr",
     "output_type": "stream",
     "text": [
      "/home/chella/miniconda3/lib/python3.7/site-packages/networkx/algorithms/centrality/katz.py:183: ComplexWarning: Casting complex values to real discards the imaginary part\n",
      "  s = 1.0 / sqrt(sum(v ** 2 for v in x.values()))\n"
     ]
    }
   ],
   "source": [
    "(pd.DataFrame.from_dict(degree_cen(DG), orient='index', columns=[\"Centrality\"])).to_excel(\"q2_degree_centrality.xlsx\")\n",
    "(pd.DataFrame.from_dict(eigenvector_cen(DG), orient='index', columns=[\"Centrality\"])).to_excel(\"q2_eigen_vector_centrality.xlsx\")\n",
    "(pd.DataFrame.from_dict(katz_cen(DG), orient='index', columns=[\"Centrality\"])).to_excel(\"q2_katz_centrality.xlsx\")\n",
    "(pd.DataFrame.from_dict(pagerank_cen(DG), orient='index', columns=[\"Centrality\"])).to_excel(\"q2_pagerank_centrality.xlsx\")"
   ]
  },
  {
   "cell_type": "code",
   "execution_count": null,
   "metadata": {},
   "outputs": [],
   "source": []
  }
 ],
 "metadata": {
  "kernelspec": {
   "display_name": "Python 3",
   "language": "python",
   "name": "python3"
  },
  "language_info": {
   "codemirror_mode": {
    "name": "ipython",
    "version": 3
   },
   "file_extension": ".py",
   "mimetype": "text/x-python",
   "name": "python",
   "nbconvert_exporter": "python",
   "pygments_lexer": "ipython3",
   "version": "3.7.7"
  }
 },
 "nbformat": 4,
 "nbformat_minor": 4
}

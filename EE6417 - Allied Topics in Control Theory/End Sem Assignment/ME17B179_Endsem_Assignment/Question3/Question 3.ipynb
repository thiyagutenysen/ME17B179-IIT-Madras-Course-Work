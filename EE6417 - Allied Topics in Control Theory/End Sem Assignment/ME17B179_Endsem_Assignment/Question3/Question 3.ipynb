{
 "cells": [
  {
   "cell_type": "code",
   "execution_count": 1,
   "id": "222e7faa",
   "metadata": {},
   "outputs": [],
   "source": [
    "from scipy import linalg\n",
    "import numpy as np\n",
    "import pandas as pd"
   ]
  },
  {
   "cell_type": "code",
   "execution_count": 5,
   "id": "bc4d6a8a",
   "metadata": {},
   "outputs": [],
   "source": [
    "from scipy.sparse import csgraph"
   ]
  },
  {
   "cell_type": "code",
   "execution_count": 2,
   "id": "ab091469",
   "metadata": {},
   "outputs": [],
   "source": [
    "import scipy.io\n",
    "mat = scipy.io.loadmat('amatrix.mat')"
   ]
  },
  {
   "cell_type": "code",
   "execution_count": 3,
   "id": "b4bd3d27",
   "metadata": {},
   "outputs": [
    {
     "data": {
      "text/plain": [
       "{'__header__': b'MATLAB 5.0 MAT-file, Platform: GLNXA64, Created on: Tue Jun 15 14:26:03 2021',\n",
       " '__version__': '1.0',\n",
       " '__globals__': [],\n",
       " 'Y': array([[14.76815997-56.71804497j, -9.73161838+32.82955598j,\n",
       "          0.         +0.j        , ...,  0.         +0.j        ,\n",
       "          0.         +0.j        ,  0.         +0.j        ],\n",
       "        [-9.73161838+32.82955598j, 13.40471749-43.20111653j,\n",
       "         -3.67309911+10.47696055j, ...,  0.         +0.j        ,\n",
       "          0.         +0.j        ,  0.         +0.j        ],\n",
       "        [ 0.         +0.j        , -3.67309911+10.47696055j,\n",
       "         16.59254928-52.62854545j, ...,  0.         +0.j        ,\n",
       "          0.         +0.j        ,  0.         +0.j        ],\n",
       "        ...,\n",
       "        [ 0.         +0.j        ,  0.         +0.j        ,\n",
       "          0.         +0.j        , ...,  2.13036846-11.08471626j,\n",
       "          0.         +0.j        ,  0.         +0.j        ],\n",
       "        [ 0.         +0.j        ,  0.         +0.j        ,\n",
       "          0.         +0.j        , ...,  0.         +0.j        ,\n",
       "          3.93501962 -6.47396212j, -1.77775961 +2.65642241j],\n",
       "        [ 0.         +0.j        ,  0.         +0.j        ,\n",
       "          0.         +0.j        , ...,  0.         +0.j        ,\n",
       "         -1.77775961 +2.65642241j,  1.77775961 -3.39442979j]])}"
      ]
     },
     "execution_count": 3,
     "metadata": {},
     "output_type": "execute_result"
    }
   ],
   "source": [
    "mat"
   ]
  },
  {
   "cell_type": "code",
   "execution_count": 4,
   "id": "8b5b8c39",
   "metadata": {},
   "outputs": [],
   "source": [
    "Adj = mat['Y'].copy()"
   ]
  },
  {
   "cell_type": "code",
   "execution_count": 10,
   "id": "f7607abc",
   "metadata": {},
   "outputs": [],
   "source": [
    "A = csgraph.laplacian(Adj, normed=False)"
   ]
  },
  {
   "cell_type": "code",
   "execution_count": 11,
   "id": "3c3bfe9f",
   "metadata": {},
   "outputs": [
    {
     "name": "stderr",
     "output_type": "stream",
     "text": [
      "/home/chella/miniconda3/lib/python3.7/site-packages/scipy/linalg/_solvers.py:194: RuntimeWarning: Input \"a\" has an eigenvalue pair whose sum is very close to or exactly zero. The solution is obtained via perturbing the coefficients.\n",
      "  RuntimeWarning)\n"
     ]
    },
    {
     "data": {
      "text/html": [
       "<div>\n",
       "<style scoped>\n",
       "    .dataframe tbody tr th:only-of-type {\n",
       "        vertical-align: middle;\n",
       "    }\n",
       "\n",
       "    .dataframe tbody tr th {\n",
       "        vertical-align: top;\n",
       "    }\n",
       "\n",
       "    .dataframe thead th {\n",
       "        text-align: right;\n",
       "    }\n",
       "</style>\n",
       "<table border=\"1\" class=\"dataframe\">\n",
       "  <thead>\n",
       "    <tr style=\"text-align: right;\">\n",
       "      <th></th>\n",
       "      <th>bus</th>\n",
       "      <th>controllability_centrality</th>\n",
       "    </tr>\n",
       "  </thead>\n",
       "  <tbody>\n",
       "    <tr>\n",
       "      <th>30</th>\n",
       "      <td>31</td>\n",
       "      <td>-5.592011e+11+9.536743e-07j</td>\n",
       "    </tr>\n",
       "    <tr>\n",
       "      <th>32</th>\n",
       "      <td>33</td>\n",
       "      <td>-5.592011e+11+7.152557e-06j</td>\n",
       "    </tr>\n",
       "    <tr>\n",
       "      <th>31</th>\n",
       "      <td>32</td>\n",
       "      <td>-5.592011e+11-6.198883e-06j</td>\n",
       "    </tr>\n",
       "    <tr>\n",
       "      <th>29</th>\n",
       "      <td>30</td>\n",
       "      <td>-5.592011e+11+1.144409e-05j</td>\n",
       "    </tr>\n",
       "    <tr>\n",
       "      <th>18</th>\n",
       "      <td>19</td>\n",
       "      <td>-5.592011e+11-5.722046e-06j</td>\n",
       "    </tr>\n",
       "    <tr>\n",
       "      <th>19</th>\n",
       "      <td>20</td>\n",
       "      <td>-5.592011e+11+1.907349e-06j</td>\n",
       "    </tr>\n",
       "    <tr>\n",
       "      <th>56</th>\n",
       "      <td>57</td>\n",
       "      <td>-5.592011e+11-1.668930e-05j</td>\n",
       "    </tr>\n",
       "    <tr>\n",
       "      <th>41</th>\n",
       "      <td>42</td>\n",
       "      <td>-5.592011e+11+3.337860e-06j</td>\n",
       "    </tr>\n",
       "    <tr>\n",
       "      <th>24</th>\n",
       "      <td>25</td>\n",
       "      <td>-5.592011e+11-8.583069e-06j</td>\n",
       "    </tr>\n",
       "    <tr>\n",
       "      <th>55</th>\n",
       "      <td>56</td>\n",
       "      <td>-5.592011e+11-1.287460e-05j</td>\n",
       "    </tr>\n",
       "  </tbody>\n",
       "</table>\n",
       "</div>"
      ],
      "text/plain": [
       "    bus  controllability_centrality\n",
       "30   31 -5.592011e+11+9.536743e-07j\n",
       "32   33 -5.592011e+11+7.152557e-06j\n",
       "31   32 -5.592011e+11-6.198883e-06j\n",
       "29   30 -5.592011e+11+1.144409e-05j\n",
       "18   19 -5.592011e+11-5.722046e-06j\n",
       "19   20 -5.592011e+11+1.907349e-06j\n",
       "56   57 -5.592011e+11-1.668930e-05j\n",
       "41   42 -5.592011e+11+3.337860e-06j\n",
       "24   25 -5.592011e+11-8.583069e-06j\n",
       "55   56 -5.592011e+11-1.287460e-05j"
      ]
     },
     "execution_count": 11,
     "metadata": {},
     "output_type": "execute_result"
    }
   ],
   "source": [
    "controllability_centrality = []\n",
    "for i in range(A.shape[0]):\n",
    "    e = np.mat(np.zeros(57))\n",
    "    e[0,i] = 1\n",
    "    Q = -(e.T@(e))\n",
    "    controllability_centrality.append(np.trace(linalg.solve_continuous_lyapunov(A, Q)))\n",
    "data = pd.DataFrame(list(zip(range(1,58),controllability_centrality)),columns=['bus','controllability_centrality'])\n",
    "data.sort_values('controllability_centrality', axis=0, ascending=False)[0:10]"
   ]
  },
  {
   "cell_type": "code",
   "execution_count": null,
   "id": "3318d618",
   "metadata": {},
   "outputs": [],
   "source": []
  }
 ],
 "metadata": {
  "kernelspec": {
   "display_name": "Python 3",
   "language": "python",
   "name": "python3"
  },
  "language_info": {
   "codemirror_mode": {
    "name": "ipython",
    "version": 3
   },
   "file_extension": ".py",
   "mimetype": "text/x-python",
   "name": "python",
   "nbconvert_exporter": "python",
   "pygments_lexer": "ipython3",
   "version": "3.7.7"
  }
 },
 "nbformat": 4,
 "nbformat_minor": 5
}

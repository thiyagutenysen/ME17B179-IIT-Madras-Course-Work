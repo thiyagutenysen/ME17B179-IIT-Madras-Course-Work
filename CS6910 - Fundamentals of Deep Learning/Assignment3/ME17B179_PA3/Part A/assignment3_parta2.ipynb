{
  "nbformat": 4,
  "nbformat_minor": 0,
  "metadata": {
    "colab": {
      "name": "assignment3 parta2.ipynb",
      "provenance": [],
      "collapsed_sections": []
    },
    "kernelspec": {
      "name": "python3",
      "display_name": "Python 3"
    },
    "accelerator": "GPU",
    "widgets": {
      "application/vnd.jupyter.widget-state+json": {
        "3993576dfb294a07b04137294871d3c7": {
          "model_module": "@jupyter-widgets/controls",
          "model_name": "HBoxModel",
          "state": {
            "_view_name": "HBoxView",
            "_dom_classes": [],
            "_model_name": "HBoxModel",
            "_view_module": "@jupyter-widgets/controls",
            "_model_module_version": "1.5.0",
            "_view_count": null,
            "_view_module_version": "1.5.0",
            "box_style": "",
            "layout": "IPY_MODEL_b2752eb850694904a9469316bee747bf",
            "_model_module": "@jupyter-widgets/controls",
            "children": [
              "IPY_MODEL_9021b5e7098c4ba18189abe90f0e362a",
              "IPY_MODEL_f94b218d809447bd9a071d2df6b7cdb7"
            ]
          }
        },
        "b2752eb850694904a9469316bee747bf": {
          "model_module": "@jupyter-widgets/base",
          "model_name": "LayoutModel",
          "state": {
            "_view_name": "LayoutView",
            "grid_template_rows": null,
            "right": null,
            "justify_content": null,
            "_view_module": "@jupyter-widgets/base",
            "overflow": null,
            "_model_module_version": "1.2.0",
            "_view_count": null,
            "flex_flow": null,
            "width": null,
            "min_width": null,
            "border": null,
            "align_items": null,
            "bottom": null,
            "_model_module": "@jupyter-widgets/base",
            "top": null,
            "grid_column": null,
            "overflow_y": null,
            "overflow_x": null,
            "grid_auto_flow": null,
            "grid_area": null,
            "grid_template_columns": null,
            "flex": null,
            "_model_name": "LayoutModel",
            "justify_items": null,
            "grid_row": null,
            "max_height": null,
            "align_content": null,
            "visibility": null,
            "align_self": null,
            "height": null,
            "min_height": null,
            "padding": null,
            "grid_auto_rows": null,
            "grid_gap": null,
            "max_width": null,
            "order": null,
            "_view_module_version": "1.2.0",
            "grid_template_areas": null,
            "object_position": null,
            "object_fit": null,
            "grid_auto_columns": null,
            "margin": null,
            "display": null,
            "left": null
          }
        },
        "9021b5e7098c4ba18189abe90f0e362a": {
          "model_module": "@jupyter-widgets/controls",
          "model_name": "FloatProgressModel",
          "state": {
            "_view_name": "ProgressView",
            "style": "IPY_MODEL_57136672c76745da9c7c9b0ad17af9cc",
            "_dom_classes": [],
            "description": "100%",
            "_model_name": "FloatProgressModel",
            "bar_style": "success",
            "max": 34035,
            "_view_module": "@jupyter-widgets/controls",
            "_model_module_version": "1.5.0",
            "value": 34035,
            "_view_count": null,
            "_view_module_version": "1.5.0",
            "orientation": "horizontal",
            "min": 0,
            "description_tooltip": null,
            "_model_module": "@jupyter-widgets/controls",
            "layout": "IPY_MODEL_e0e4da78b10f4429a763294a6351342f"
          }
        },
        "f94b218d809447bd9a071d2df6b7cdb7": {
          "model_module": "@jupyter-widgets/controls",
          "model_name": "HTMLModel",
          "state": {
            "_view_name": "HTMLView",
            "style": "IPY_MODEL_2a54cad8f0e8448280a9de56213090ce",
            "_dom_classes": [],
            "description": "",
            "_model_name": "HTMLModel",
            "placeholder": "​",
            "_view_module": "@jupyter-widgets/controls",
            "_model_module_version": "1.5.0",
            "value": " 34035/34035 [48:09&lt;00:00, 11.78it/s]",
            "_view_count": null,
            "_view_module_version": "1.5.0",
            "description_tooltip": null,
            "_model_module": "@jupyter-widgets/controls",
            "layout": "IPY_MODEL_5da09f73624e41f08157776328caadb8"
          }
        },
        "57136672c76745da9c7c9b0ad17af9cc": {
          "model_module": "@jupyter-widgets/controls",
          "model_name": "ProgressStyleModel",
          "state": {
            "_view_name": "StyleView",
            "_model_name": "ProgressStyleModel",
            "description_width": "initial",
            "_view_module": "@jupyter-widgets/base",
            "_model_module_version": "1.5.0",
            "_view_count": null,
            "_view_module_version": "1.2.0",
            "bar_color": null,
            "_model_module": "@jupyter-widgets/controls"
          }
        },
        "e0e4da78b10f4429a763294a6351342f": {
          "model_module": "@jupyter-widgets/base",
          "model_name": "LayoutModel",
          "state": {
            "_view_name": "LayoutView",
            "grid_template_rows": null,
            "right": null,
            "justify_content": null,
            "_view_module": "@jupyter-widgets/base",
            "overflow": null,
            "_model_module_version": "1.2.0",
            "_view_count": null,
            "flex_flow": null,
            "width": null,
            "min_width": null,
            "border": null,
            "align_items": null,
            "bottom": null,
            "_model_module": "@jupyter-widgets/base",
            "top": null,
            "grid_column": null,
            "overflow_y": null,
            "overflow_x": null,
            "grid_auto_flow": null,
            "grid_area": null,
            "grid_template_columns": null,
            "flex": null,
            "_model_name": "LayoutModel",
            "justify_items": null,
            "grid_row": null,
            "max_height": null,
            "align_content": null,
            "visibility": null,
            "align_self": null,
            "height": null,
            "min_height": null,
            "padding": null,
            "grid_auto_rows": null,
            "grid_gap": null,
            "max_width": null,
            "order": null,
            "_view_module_version": "1.2.0",
            "grid_template_areas": null,
            "object_position": null,
            "object_fit": null,
            "grid_auto_columns": null,
            "margin": null,
            "display": null,
            "left": null
          }
        },
        "2a54cad8f0e8448280a9de56213090ce": {
          "model_module": "@jupyter-widgets/controls",
          "model_name": "DescriptionStyleModel",
          "state": {
            "_view_name": "StyleView",
            "_model_name": "DescriptionStyleModel",
            "description_width": "",
            "_view_module": "@jupyter-widgets/base",
            "_model_module_version": "1.5.0",
            "_view_count": null,
            "_view_module_version": "1.2.0",
            "_model_module": "@jupyter-widgets/controls"
          }
        },
        "5da09f73624e41f08157776328caadb8": {
          "model_module": "@jupyter-widgets/base",
          "model_name": "LayoutModel",
          "state": {
            "_view_name": "LayoutView",
            "grid_template_rows": null,
            "right": null,
            "justify_content": null,
            "_view_module": "@jupyter-widgets/base",
            "overflow": null,
            "_model_module_version": "1.2.0",
            "_view_count": null,
            "flex_flow": null,
            "width": null,
            "min_width": null,
            "border": null,
            "align_items": null,
            "bottom": null,
            "_model_module": "@jupyter-widgets/base",
            "top": null,
            "grid_column": null,
            "overflow_y": null,
            "overflow_x": null,
            "grid_auto_flow": null,
            "grid_area": null,
            "grid_template_columns": null,
            "flex": null,
            "_model_name": "LayoutModel",
            "justify_items": null,
            "grid_row": null,
            "max_height": null,
            "align_content": null,
            "visibility": null,
            "align_self": null,
            "height": null,
            "min_height": null,
            "padding": null,
            "grid_auto_rows": null,
            "grid_gap": null,
            "max_width": null,
            "order": null,
            "_view_module_version": "1.2.0",
            "grid_template_areas": null,
            "object_position": null,
            "object_fit": null,
            "grid_auto_columns": null,
            "margin": null,
            "display": null,
            "left": null
          }
        },
        "038710187ef24699a511dc292ae11da4": {
          "model_module": "@jupyter-widgets/controls",
          "model_name": "HBoxModel",
          "state": {
            "_view_name": "HBoxView",
            "_dom_classes": [],
            "_model_name": "HBoxModel",
            "_view_module": "@jupyter-widgets/controls",
            "_model_module_version": "1.5.0",
            "_view_count": null,
            "_view_module_version": "1.5.0",
            "box_style": "",
            "layout": "IPY_MODEL_7323943c7370414cabe916e77e222305",
            "_model_module": "@jupyter-widgets/controls",
            "children": [
              "IPY_MODEL_9825e896ed074551b6d12edb09a449df",
              "IPY_MODEL_661a44c3b17e458ca3c0009772f9471d"
            ]
          }
        },
        "7323943c7370414cabe916e77e222305": {
          "model_module": "@jupyter-widgets/base",
          "model_name": "LayoutModel",
          "state": {
            "_view_name": "LayoutView",
            "grid_template_rows": null,
            "right": null,
            "justify_content": null,
            "_view_module": "@jupyter-widgets/base",
            "overflow": null,
            "_model_module_version": "1.2.0",
            "_view_count": null,
            "flex_flow": null,
            "width": null,
            "min_width": null,
            "border": null,
            "align_items": null,
            "bottom": null,
            "_model_module": "@jupyter-widgets/base",
            "top": null,
            "grid_column": null,
            "overflow_y": null,
            "overflow_x": null,
            "grid_auto_flow": null,
            "grid_area": null,
            "grid_template_columns": null,
            "flex": null,
            "_model_name": "LayoutModel",
            "justify_items": null,
            "grid_row": null,
            "max_height": null,
            "align_content": null,
            "visibility": null,
            "align_self": null,
            "height": null,
            "min_height": null,
            "padding": null,
            "grid_auto_rows": null,
            "grid_gap": null,
            "max_width": null,
            "order": null,
            "_view_module_version": "1.2.0",
            "grid_template_areas": null,
            "object_position": null,
            "object_fit": null,
            "grid_auto_columns": null,
            "margin": null,
            "display": null,
            "left": null
          }
        },
        "9825e896ed074551b6d12edb09a449df": {
          "model_module": "@jupyter-widgets/controls",
          "model_name": "FloatProgressModel",
          "state": {
            "_view_name": "ProgressView",
            "style": "IPY_MODEL_40eac218cc2e40a3a45de2dad91c9f9e",
            "_dom_classes": [],
            "description": "100%",
            "_model_name": "FloatProgressModel",
            "bar_style": "success",
            "max": 8508,
            "_view_module": "@jupyter-widgets/controls",
            "_model_module_version": "1.5.0",
            "value": 8508,
            "_view_count": null,
            "_view_module_version": "1.5.0",
            "orientation": "horizontal",
            "min": 0,
            "description_tooltip": null,
            "_model_module": "@jupyter-widgets/controls",
            "layout": "IPY_MODEL_236f7b0a59ad4ff68affbecdfbf43aa3"
          }
        },
        "661a44c3b17e458ca3c0009772f9471d": {
          "model_module": "@jupyter-widgets/controls",
          "model_name": "HTMLModel",
          "state": {
            "_view_name": "HTMLView",
            "style": "IPY_MODEL_80a36a8f2b46413faba69cb57f8c57a5",
            "_dom_classes": [],
            "description": "",
            "_model_name": "HTMLModel",
            "placeholder": "​",
            "_view_module": "@jupyter-widgets/controls",
            "_model_module_version": "1.5.0",
            "value": " 8508/8508 [06:00&lt;00:00, 23.59it/s]",
            "_view_count": null,
            "_view_module_version": "1.5.0",
            "description_tooltip": null,
            "_model_module": "@jupyter-widgets/controls",
            "layout": "IPY_MODEL_59752e03b23b46af9fe8d7d7549212c3"
          }
        },
        "40eac218cc2e40a3a45de2dad91c9f9e": {
          "model_module": "@jupyter-widgets/controls",
          "model_name": "ProgressStyleModel",
          "state": {
            "_view_name": "StyleView",
            "_model_name": "ProgressStyleModel",
            "description_width": "initial",
            "_view_module": "@jupyter-widgets/base",
            "_model_module_version": "1.5.0",
            "_view_count": null,
            "_view_module_version": "1.2.0",
            "bar_color": null,
            "_model_module": "@jupyter-widgets/controls"
          }
        },
        "236f7b0a59ad4ff68affbecdfbf43aa3": {
          "model_module": "@jupyter-widgets/base",
          "model_name": "LayoutModel",
          "state": {
            "_view_name": "LayoutView",
            "grid_template_rows": null,
            "right": null,
            "justify_content": null,
            "_view_module": "@jupyter-widgets/base",
            "overflow": null,
            "_model_module_version": "1.2.0",
            "_view_count": null,
            "flex_flow": null,
            "width": null,
            "min_width": null,
            "border": null,
            "align_items": null,
            "bottom": null,
            "_model_module": "@jupyter-widgets/base",
            "top": null,
            "grid_column": null,
            "overflow_y": null,
            "overflow_x": null,
            "grid_auto_flow": null,
            "grid_area": null,
            "grid_template_columns": null,
            "flex": null,
            "_model_name": "LayoutModel",
            "justify_items": null,
            "grid_row": null,
            "max_height": null,
            "align_content": null,
            "visibility": null,
            "align_self": null,
            "height": null,
            "min_height": null,
            "padding": null,
            "grid_auto_rows": null,
            "grid_gap": null,
            "max_width": null,
            "order": null,
            "_view_module_version": "1.2.0",
            "grid_template_areas": null,
            "object_position": null,
            "object_fit": null,
            "grid_auto_columns": null,
            "margin": null,
            "display": null,
            "left": null
          }
        },
        "80a36a8f2b46413faba69cb57f8c57a5": {
          "model_module": "@jupyter-widgets/controls",
          "model_name": "DescriptionStyleModel",
          "state": {
            "_view_name": "StyleView",
            "_model_name": "DescriptionStyleModel",
            "description_width": "",
            "_view_module": "@jupyter-widgets/base",
            "_model_module_version": "1.5.0",
            "_view_count": null,
            "_view_module_version": "1.2.0",
            "_model_module": "@jupyter-widgets/controls"
          }
        },
        "59752e03b23b46af9fe8d7d7549212c3": {
          "model_module": "@jupyter-widgets/base",
          "model_name": "LayoutModel",
          "state": {
            "_view_name": "LayoutView",
            "grid_template_rows": null,
            "right": null,
            "justify_content": null,
            "_view_module": "@jupyter-widgets/base",
            "overflow": null,
            "_model_module_version": "1.2.0",
            "_view_count": null,
            "flex_flow": null,
            "width": null,
            "min_width": null,
            "border": null,
            "align_items": null,
            "bottom": null,
            "_model_module": "@jupyter-widgets/base",
            "top": null,
            "grid_column": null,
            "overflow_y": null,
            "overflow_x": null,
            "grid_auto_flow": null,
            "grid_area": null,
            "grid_template_columns": null,
            "flex": null,
            "_model_name": "LayoutModel",
            "justify_items": null,
            "grid_row": null,
            "max_height": null,
            "align_content": null,
            "visibility": null,
            "align_self": null,
            "height": null,
            "min_height": null,
            "padding": null,
            "grid_auto_rows": null,
            "grid_gap": null,
            "max_width": null,
            "order": null,
            "_view_module_version": "1.2.0",
            "grid_template_areas": null,
            "object_position": null,
            "object_fit": null,
            "grid_auto_columns": null,
            "margin": null,
            "display": null,
            "left": null
          }
        },
        "dc15b5253af842b79b2d610a5e2d2761": {
          "model_module": "@jupyter-widgets/controls",
          "model_name": "HBoxModel",
          "state": {
            "_view_name": "HBoxView",
            "_dom_classes": [],
            "_model_name": "HBoxModel",
            "_view_module": "@jupyter-widgets/controls",
            "_model_module_version": "1.5.0",
            "_view_count": null,
            "_view_module_version": "1.5.0",
            "box_style": "",
            "layout": "IPY_MODEL_a8488666f1cf40ce90e99a313d9e00d1",
            "_model_module": "@jupyter-widgets/controls",
            "children": [
              "IPY_MODEL_dccff95324bc4a54a9fea0a0a9bcd661",
              "IPY_MODEL_6451066edc924711aeadb59f31bf7097"
            ]
          }
        },
        "a8488666f1cf40ce90e99a313d9e00d1": {
          "model_module": "@jupyter-widgets/base",
          "model_name": "LayoutModel",
          "state": {
            "_view_name": "LayoutView",
            "grid_template_rows": null,
            "right": null,
            "justify_content": null,
            "_view_module": "@jupyter-widgets/base",
            "overflow": null,
            "_model_module_version": "1.2.0",
            "_view_count": null,
            "flex_flow": null,
            "width": null,
            "min_width": null,
            "border": null,
            "align_items": null,
            "bottom": null,
            "_model_module": "@jupyter-widgets/base",
            "top": null,
            "grid_column": null,
            "overflow_y": null,
            "overflow_x": null,
            "grid_auto_flow": null,
            "grid_area": null,
            "grid_template_columns": null,
            "flex": null,
            "_model_name": "LayoutModel",
            "justify_items": null,
            "grid_row": null,
            "max_height": null,
            "align_content": null,
            "visibility": null,
            "align_self": null,
            "height": null,
            "min_height": null,
            "padding": null,
            "grid_auto_rows": null,
            "grid_gap": null,
            "max_width": null,
            "order": null,
            "_view_module_version": "1.2.0",
            "grid_template_areas": null,
            "object_position": null,
            "object_fit": null,
            "grid_auto_columns": null,
            "margin": null,
            "display": null,
            "left": null
          }
        },
        "dccff95324bc4a54a9fea0a0a9bcd661": {
          "model_module": "@jupyter-widgets/controls",
          "model_name": "FloatProgressModel",
          "state": {
            "_view_name": "ProgressView",
            "style": "IPY_MODEL_dc3f1b689cc441fcaaae8ea4772738f6",
            "_dom_classes": [],
            "description": "100%",
            "_model_name": "FloatProgressModel",
            "bar_style": "success",
            "max": 34035,
            "_view_module": "@jupyter-widgets/controls",
            "_model_module_version": "1.5.0",
            "value": 34035,
            "_view_count": null,
            "_view_module_version": "1.5.0",
            "orientation": "horizontal",
            "min": 0,
            "description_tooltip": null,
            "_model_module": "@jupyter-widgets/controls",
            "layout": "IPY_MODEL_f376846057fc4fecbee4a304772e4b36"
          }
        },
        "6451066edc924711aeadb59f31bf7097": {
          "model_module": "@jupyter-widgets/controls",
          "model_name": "HTMLModel",
          "state": {
            "_view_name": "HTMLView",
            "style": "IPY_MODEL_c1319aab51b4470082c0ff5e3892a58d",
            "_dom_classes": [],
            "description": "",
            "_model_name": "HTMLModel",
            "placeholder": "​",
            "_view_module": "@jupyter-widgets/controls",
            "_model_module_version": "1.5.0",
            "value": " 34035/34035 [48:02&lt;00:00, 11.81it/s]",
            "_view_count": null,
            "_view_module_version": "1.5.0",
            "description_tooltip": null,
            "_model_module": "@jupyter-widgets/controls",
            "layout": "IPY_MODEL_fbf5c2dff484496a983a13fd0da83952"
          }
        },
        "dc3f1b689cc441fcaaae8ea4772738f6": {
          "model_module": "@jupyter-widgets/controls",
          "model_name": "ProgressStyleModel",
          "state": {
            "_view_name": "StyleView",
            "_model_name": "ProgressStyleModel",
            "description_width": "initial",
            "_view_module": "@jupyter-widgets/base",
            "_model_module_version": "1.5.0",
            "_view_count": null,
            "_view_module_version": "1.2.0",
            "bar_color": null,
            "_model_module": "@jupyter-widgets/controls"
          }
        },
        "f376846057fc4fecbee4a304772e4b36": {
          "model_module": "@jupyter-widgets/base",
          "model_name": "LayoutModel",
          "state": {
            "_view_name": "LayoutView",
            "grid_template_rows": null,
            "right": null,
            "justify_content": null,
            "_view_module": "@jupyter-widgets/base",
            "overflow": null,
            "_model_module_version": "1.2.0",
            "_view_count": null,
            "flex_flow": null,
            "width": null,
            "min_width": null,
            "border": null,
            "align_items": null,
            "bottom": null,
            "_model_module": "@jupyter-widgets/base",
            "top": null,
            "grid_column": null,
            "overflow_y": null,
            "overflow_x": null,
            "grid_auto_flow": null,
            "grid_area": null,
            "grid_template_columns": null,
            "flex": null,
            "_model_name": "LayoutModel",
            "justify_items": null,
            "grid_row": null,
            "max_height": null,
            "align_content": null,
            "visibility": null,
            "align_self": null,
            "height": null,
            "min_height": null,
            "padding": null,
            "grid_auto_rows": null,
            "grid_gap": null,
            "max_width": null,
            "order": null,
            "_view_module_version": "1.2.0",
            "grid_template_areas": null,
            "object_position": null,
            "object_fit": null,
            "grid_auto_columns": null,
            "margin": null,
            "display": null,
            "left": null
          }
        },
        "c1319aab51b4470082c0ff5e3892a58d": {
          "model_module": "@jupyter-widgets/controls",
          "model_name": "DescriptionStyleModel",
          "state": {
            "_view_name": "StyleView",
            "_model_name": "DescriptionStyleModel",
            "description_width": "",
            "_view_module": "@jupyter-widgets/base",
            "_model_module_version": "1.5.0",
            "_view_count": null,
            "_view_module_version": "1.2.0",
            "_model_module": "@jupyter-widgets/controls"
          }
        },
        "fbf5c2dff484496a983a13fd0da83952": {
          "model_module": "@jupyter-widgets/base",
          "model_name": "LayoutModel",
          "state": {
            "_view_name": "LayoutView",
            "grid_template_rows": null,
            "right": null,
            "justify_content": null,
            "_view_module": "@jupyter-widgets/base",
            "overflow": null,
            "_model_module_version": "1.2.0",
            "_view_count": null,
            "flex_flow": null,
            "width": null,
            "min_width": null,
            "border": null,
            "align_items": null,
            "bottom": null,
            "_model_module": "@jupyter-widgets/base",
            "top": null,
            "grid_column": null,
            "overflow_y": null,
            "overflow_x": null,
            "grid_auto_flow": null,
            "grid_area": null,
            "grid_template_columns": null,
            "flex": null,
            "_model_name": "LayoutModel",
            "justify_items": null,
            "grid_row": null,
            "max_height": null,
            "align_content": null,
            "visibility": null,
            "align_self": null,
            "height": null,
            "min_height": null,
            "padding": null,
            "grid_auto_rows": null,
            "grid_gap": null,
            "max_width": null,
            "order": null,
            "_view_module_version": "1.2.0",
            "grid_template_areas": null,
            "object_position": null,
            "object_fit": null,
            "grid_auto_columns": null,
            "margin": null,
            "display": null,
            "left": null
          }
        }
      }
    }
  },
  "cells": [
    {
      "cell_type": "code",
      "metadata": {
        "id": "gAnvAyOJYltG"
      },
      "source": [
        "import os\r\n",
        "import pandas as pd\r\n",
        "import csv\r\n",
        "import numpy as np\r\n",
        "import string\r\n",
        "import torch"
      ],
      "execution_count": null,
      "outputs": []
    },
    {
      "cell_type": "code",
      "metadata": {
        "colab": {
          "base_uri": "https://localhost:8080/"
        },
        "id": "e0d0GB_IYLns",
        "outputId": "04bd6948-f1bb-4022-bfe5-7adbd51d13b8"
      },
      "source": [
        "from google.colab import drive\r\n",
        "drive.mount(\"/content/gdrive\")"
      ],
      "execution_count": null,
      "outputs": [
        {
          "output_type": "stream",
          "text": [
            "Mounted at /content/gdrive\n"
          ],
          "name": "stdout"
        }
      ]
    },
    {
      "cell_type": "code",
      "metadata": {
        "id": "5U-VHxxBl04C"
      },
      "source": [
        "# configurations\r\n",
        "embedding_dim = 20\r\n",
        "learning_rate = 0.01\r\n",
        "batch_size = 1024"
      ],
      "execution_count": null,
      "outputs": []
    },
    {
      "cell_type": "code",
      "metadata": {
        "id": "pVM0Jczaqvpi"
      },
      "source": [
        "# fancy stuff\r\n",
        "class color:\r\n",
        "   PURPLE = '\\033[95m'\r\n",
        "   CYAN = '\\033[96m'\r\n",
        "   DARKCYAN = '\\033[36m'\r\n",
        "   BLUE = '\\033[94m'\r\n",
        "   GREEN = '\\033[92m'\r\n",
        "   YELLOW = '\\033[93m'\r\n",
        "   RED = '\\033[91m'\r\n",
        "   BOLD = '\\033[1m'\r\n",
        "   UNDERLINE = '\\033[4m'\r\n",
        "   END = '\\033[0m'"
      ],
      "execution_count": null,
      "outputs": []
    },
    {
      "cell_type": "code",
      "metadata": {
        "id": "uh0AD1PhXkUP"
      },
      "source": [
        "wordToIndexDictionary = ''\r\n",
        "with open('/content/gdrive/MyDrive/PyTorch/data/pa3_parta/wordToIndexDictionary.txt', 'r') as f:\r\n",
        "    for i in f.readlines():\r\n",
        "        wordToIndexDictionary = i\r\n",
        "\r\n",
        "wordToIndexDictionary = eval(wordToIndexDictionary)\r\n",
        "\r\n",
        "indexToWordDictionary = ''\r\n",
        "with open('/content/gdrive/MyDrive/PyTorch/data/pa3_parta/indexToWordDictionary.txt', 'r') as f:\r\n",
        "    for i in f.readlines():\r\n",
        "        indexToWordDictionary = i\r\n",
        "\r\n",
        "indexToWordDictionary = eval(indexToWordDictionary)\r\n",
        "\r\n",
        "unique_words = []\r\n",
        "\r\n",
        "with open('/content/gdrive/MyDrive/PyTorch/data/pa3_parta/unique_words.txt', 'r') as filehandle:\r\n",
        "    for line in filehandle:\r\n",
        "        unique_words.append(line[:-1])\r\n",
        "\r\n",
        "vocab_size = len(unique_words)\r\n",
        "\r\n",
        "trainset = pd.read_csv(\"/content/gdrive/MyDrive/PyTorch/data/pa3_parta/SkipGram_Train.csv\")\r\n",
        "testset = pd.read_csv(\"/content/gdrive/MyDrive/PyTorch/data/pa3_parta/SkipGram_Test.csv\")\r\n",
        "\r\n",
        "trainloader = torch.utils.data.DataLoader(trainset.values, batch_size=batch_size, shuffle=True)\r\n",
        "testloader = torch.utils.data.DataLoader(testset.values, batch_size=batch_size, shuffle=True)"
      ],
      "execution_count": null,
      "outputs": []
    },
    {
      "cell_type": "code",
      "metadata": {
        "colab": {
          "base_uri": "https://localhost:8080/"
        },
        "id": "r7tymofwYLmv",
        "outputId": "271c81c5-e941-47c3-f98b-49fe8700b115"
      },
      "source": [
        "%cd '/content/gdrive/MyDrive/PyTorch'"
      ],
      "execution_count": null,
      "outputs": [
        {
          "output_type": "stream",
          "text": [
            "/content/gdrive/MyDrive/PyTorch\n"
          ],
          "name": "stdout"
        }
      ]
    },
    {
      "cell_type": "code",
      "metadata": {
        "colab": {
          "base_uri": "https://localhost:8080/"
        },
        "id": "lDmI9HffmjJg",
        "outputId": "f690dfb2-63f5-4eaa-d67c-e20801aac774"
      },
      "source": [
        "device = torch.device('cuda' if torch.cuda.is_available() else 'cpu')\r\n",
        "print(device)"
      ],
      "execution_count": null,
      "outputs": [
        {
          "output_type": "stream",
          "text": [
            "cuda\n"
          ],
          "name": "stdout"
        }
      ]
    },
    {
      "cell_type": "code",
      "metadata": {
        "id": "jaBSvQp9nH-C"
      },
      "source": [
        "import torch\r\n",
        "import torch.nn as nn\r\n",
        "from tqdm.notebook import tqdm"
      ],
      "execution_count": null,
      "outputs": []
    },
    {
      "cell_type": "code",
      "metadata": {
        "id": "HxYaM7nXmzL-"
      },
      "source": [
        "class SkipGram(nn.Module):\r\n",
        "    def __init__(self, vocab_size, embedding_dim):\r\n",
        "        super(SkipGram, self).__init__()\r\n",
        "\r\n",
        "        self.embeddings = nn.Embedding(vocab_size, embedding_dim)\r\n",
        "        self.linear1 = nn.Linear(embedding_dim, vocab_size)\r\n",
        "        self.activation_function = nn.LogSoftmax(dim = -1)  \r\n",
        "\r\n",
        "    def forward(self, inputs):\r\n",
        "        out = self.embeddings(inputs)\r\n",
        "        out = self.linear1(out)\r\n",
        "        return self.activation_function(out)\r\n",
        "\r\n",
        "    def get_word_embedding(self, word):\r\n",
        "        word = torch.tensor([wordToIndexDictionary[word]])\r\n",
        "        return self.embeddings(word)"
      ],
      "execution_count": null,
      "outputs": []
    },
    {
      "cell_type": "code",
      "metadata": {
        "id": "72aLIjxmm2Sw"
      },
      "source": [
        "skip_gram = SkipGram(vocab_size, embedding_dim)\r\n",
        "skip_gram.to(device)\r\n",
        "loss_function = nn.NLLLoss()\r\n",
        "optimizer = torch.optim.SGD(skip_gram.parameters(), lr=learning_rate)"
      ],
      "execution_count": null,
      "outputs": []
    },
    {
      "cell_type": "code",
      "metadata": {
        "id": "k81XRpUKnB4Q"
      },
      "source": [
        "def train(model, trainloader, val_iterator, optimizer, loss_function, epochs, results):\r\n",
        "  \r\n",
        "  for j in range(epochs):\r\n",
        "    epoch_loss = 0\r\n",
        "    epoch_acc = 0\r\n",
        "    model.train()\r\n",
        "    print(color.BOLD + \"Training for epoch = \" + color.END, j)\r\n",
        "    for trainload in enumerate(tqdm(trainloader)):\r\n",
        "\r\n",
        "        y_true = trainload[1][:,1].to(device)\r\n",
        "\r\n",
        "        y_pred = model.forward(trainload[1][:,0].to(device))\r\n",
        "\r\n",
        "        loss = loss_function(y_pred, y_true.to(device))\r\n",
        "\r\n",
        "        optimizer.zero_grad()\r\n",
        "        loss.backward()\r\n",
        "        optimizer.step()\r\n",
        "        \r\n",
        "        epoch_loss += loss.item()\r\n",
        "        \r\n",
        "    print(f\"[{j}/{epochs}] : epoch_loss: {epoch_loss / len(trainloader):.4f}\")\r\n",
        "    val_loss = evaluate(model, val_iterator, loss_function)\r\n",
        "\r\n",
        "    train_loss = epoch_loss / len(trainloader)\r\n",
        "    results = results.append({\"Epoch\": (j+1), \\\r\n",
        "                            \"Train Loss\": train_loss, \\\r\n",
        "                            \"Val Loss\": val_loss},ignore_index=True)\r\n",
        "    \r\n",
        "    torch.save(model.state_dict(), f\"./data/Sentiment_models/skip/skip_model_{j+1}.pth\")\r\n",
        "    results.to_csv(f\"./data/Sentiment_models/skip/skip_Results_{embedding_dim}.csv\")\r\n",
        "\r\n",
        "\r\n",
        "  return train_loss"
      ],
      "execution_count": null,
      "outputs": []
    },
    {
      "cell_type": "code",
      "metadata": {
        "id": "DaG7c3LJnbTv"
      },
      "source": [
        "def evaluate(model, testloader, criterion):\r\n",
        "    epoch_loss = 0\r\n",
        "    epoch_acc = 0\r\n",
        "    \r\n",
        "    model.eval()\r\n",
        "    print(\"Validation\")\r\n",
        "    with torch.no_grad():\r\n",
        "        for testload in enumerate(tqdm(testloader)):\r\n",
        "\r\n",
        "            y_true = testload[1][:,1].to(device)\r\n",
        "\r\n",
        "            y_pred = model.forward(testload[1][:,0].to(device))\r\n",
        "\r\n",
        "            loss = loss_function(y_pred, y_true.to(device))\r\n",
        "            \r\n",
        "            epoch_loss += loss.item()\r\n",
        "\r\n",
        "    print(f\"val_loss: {epoch_loss / len(testloader):.4f}\")\r\n",
        "    print(\"--------------------------------------------------------------------\")\r\n",
        "    print();print()\r\n",
        "    return epoch_loss / len(testloader)"
      ],
      "execution_count": null,
      "outputs": []
    },
    {
      "cell_type": "code",
      "metadata": {
        "colab": {
          "base_uri": "https://localhost:8080/",
          "height": 542,
          "referenced_widgets": [
            "3993576dfb294a07b04137294871d3c7",
            "b2752eb850694904a9469316bee747bf",
            "9021b5e7098c4ba18189abe90f0e362a",
            "f94b218d809447bd9a071d2df6b7cdb7",
            "57136672c76745da9c7c9b0ad17af9cc",
            "e0e4da78b10f4429a763294a6351342f",
            "2a54cad8f0e8448280a9de56213090ce",
            "5da09f73624e41f08157776328caadb8",
            "038710187ef24699a511dc292ae11da4",
            "7323943c7370414cabe916e77e222305",
            "9825e896ed074551b6d12edb09a449df",
            "661a44c3b17e458ca3c0009772f9471d",
            "40eac218cc2e40a3a45de2dad91c9f9e",
            "236f7b0a59ad4ff68affbecdfbf43aa3",
            "80a36a8f2b46413faba69cb57f8c57a5",
            "59752e03b23b46af9fe8d7d7549212c3",
            "dc15b5253af842b79b2d610a5e2d2761",
            "a8488666f1cf40ce90e99a313d9e00d1",
            "dccff95324bc4a54a9fea0a0a9bcd661",
            "6451066edc924711aeadb59f31bf7097",
            "dc3f1b689cc441fcaaae8ea4772738f6",
            "f376846057fc4fecbee4a304772e4b36",
            "c1319aab51b4470082c0ff5e3892a58d",
            "fbf5c2dff484496a983a13fd0da83952"
          ]
        },
        "id": "kS7ov12NpQU4",
        "outputId": "dbbdfe91-f1b1-4f0a-e530-bd14fdbac0cb"
      },
      "source": [
        "epochs = 5\r\n",
        "results = pd.DataFrame(columns=[\"Epoch\",\"Train Loss\",\"Val Loss\"])\r\n",
        "train(skip_gram, trainloader, testloader, optimizer, loss_function, epochs, results)"
      ],
      "execution_count": null,
      "outputs": [
        {
          "output_type": "stream",
          "text": [
            "\u001b[1mTraining for epoch = \u001b[0m 0\n"
          ],
          "name": "stdout"
        },
        {
          "output_type": "display_data",
          "data": {
            "application/vnd.jupyter.widget-view+json": {
              "model_id": "3993576dfb294a07b04137294871d3c7",
              "version_major": 2,
              "version_minor": 0
            },
            "text/plain": [
              "HBox(children=(FloatProgress(value=0.0, max=34035.0), HTML(value='')))"
            ]
          },
          "metadata": {
            "tags": []
          }
        },
        {
          "output_type": "stream",
          "text": [
            "\n",
            "[0/5] : epoch_loss: 11.4261\n",
            "Validation\n"
          ],
          "name": "stdout"
        },
        {
          "output_type": "display_data",
          "data": {
            "application/vnd.jupyter.widget-view+json": {
              "model_id": "038710187ef24699a511dc292ae11da4",
              "version_major": 2,
              "version_minor": 0
            },
            "text/plain": [
              "HBox(children=(FloatProgress(value=0.0, max=8508.0), HTML(value='')))"
            ]
          },
          "metadata": {
            "tags": []
          }
        },
        {
          "output_type": "stream",
          "text": [
            "\n",
            "val_loss: 11.2588\n",
            "--------------------------------------------------------------------\n",
            "\n",
            "\n",
            "\u001b[1mTraining for epoch = \u001b[0m 1\n"
          ],
          "name": "stdout"
        },
        {
          "output_type": "display_data",
          "data": {
            "application/vnd.jupyter.widget-view+json": {
              "model_id": "dc15b5253af842b79b2d610a5e2d2761",
              "version_major": 2,
              "version_minor": 0
            },
            "text/plain": [
              "HBox(children=(FloatProgress(value=0.0, max=34035.0), HTML(value='')))"
            ]
          },
          "metadata": {
            "tags": []
          }
        },
        {
          "output_type": "stream",
          "text": [
            "Buffered data was truncated after reaching the output size limit."
          ],
          "name": "stdout"
        }
      ]
    },
    {
      "cell_type": "code",
      "metadata": {
        "id": "Sh7AGCNfvKG0"
      },
      "source": [
        "# Plot train and test accuracy and losses"
      ],
      "execution_count": null,
      "outputs": []
    },
    {
      "cell_type": "code",
      "metadata": {
        "id": "XJ2mnWOIN-3l"
      },
      "source": [
        "import pandas as pd\r\n",
        "import matplotlib.pyplot as plt"
      ],
      "execution_count": null,
      "outputs": []
    },
    {
      "cell_type": "code",
      "metadata": {
        "colab": {
          "base_uri": "https://localhost:8080/",
          "height": 141
        },
        "id": "Op33hHAJOBOW",
        "outputId": "e749e3e9-862b-4fe5-b3d7-b8410fbb9b15"
      },
      "source": [
        "df = pd.read_csv(f'./data/Sentiment_models/skip/skip_Results_20.csv')\r\n",
        "df.head()"
      ],
      "execution_count": null,
      "outputs": [
        {
          "output_type": "execute_result",
          "data": {
            "text/html": [
              "<div>\n",
              "<style scoped>\n",
              "    .dataframe tbody tr th:only-of-type {\n",
              "        vertical-align: middle;\n",
              "    }\n",
              "\n",
              "    .dataframe tbody tr th {\n",
              "        vertical-align: top;\n",
              "    }\n",
              "\n",
              "    .dataframe thead th {\n",
              "        text-align: right;\n",
              "    }\n",
              "</style>\n",
              "<table border=\"1\" class=\"dataframe\">\n",
              "  <thead>\n",
              "    <tr style=\"text-align: right;\">\n",
              "      <th></th>\n",
              "      <th>Unnamed: 0</th>\n",
              "      <th>Epoch</th>\n",
              "      <th>Train Loss</th>\n",
              "      <th>Val Loss</th>\n",
              "    </tr>\n",
              "  </thead>\n",
              "  <tbody>\n",
              "    <tr>\n",
              "      <th>0</th>\n",
              "      <td>0</td>\n",
              "      <td>1.0</td>\n",
              "      <td>11.426146</td>\n",
              "      <td>11.258834</td>\n",
              "    </tr>\n",
              "    <tr>\n",
              "      <th>1</th>\n",
              "      <td>1</td>\n",
              "      <td>2.0</td>\n",
              "      <td>11.173741</td>\n",
              "      <td>11.098555</td>\n",
              "    </tr>\n",
              "    <tr>\n",
              "      <th>2</th>\n",
              "      <td>2</td>\n",
              "      <td>3.0</td>\n",
              "      <td>11.030794</td>\n",
              "      <td>10.969553</td>\n",
              "    </tr>\n",
              "  </tbody>\n",
              "</table>\n",
              "</div>"
            ],
            "text/plain": [
              "   Unnamed: 0  Epoch  Train Loss   Val Loss\n",
              "0           0    1.0   11.426146  11.258834\n",
              "1           1    2.0   11.173741  11.098555\n",
              "2           2    3.0   11.030794  10.969553"
            ]
          },
          "metadata": {
            "tags": []
          },
          "execution_count": 7
        }
      ]
    },
    {
      "cell_type": "code",
      "metadata": {
        "id": "gweFnHaGOWx4"
      },
      "source": [
        "train_loss = df['Train Loss'].values\r\n",
        "val_loss = df['Val Loss'].values"
      ],
      "execution_count": null,
      "outputs": []
    },
    {
      "cell_type": "code",
      "metadata": {
        "colab": {
          "base_uri": "https://localhost:8080/",
          "height": 334
        },
        "id": "vOv_BK20Oenr",
        "outputId": "3db50c6c-d60b-4a82-d23f-135989fd005f"
      },
      "source": [
        "plt.figure(figsize=(15,5))\r\n",
        "\r\n",
        "plt.plot(train_loss, label='loss')\r\n",
        "plt.plot(val_loss, label = 'val_loss')\r\n",
        "plt.xlabel('Epoch')\r\n",
        "plt.ylabel('loss')\r\n",
        "plt.legend(loc='lower right')\r\n",
        "\r\n",
        "plt.show()"
      ],
      "execution_count": null,
      "outputs": [
        {
          "output_type": "display_data",
          "data": {
            "image/png": "[encoded data removed]",
            "text/plain": [
              "<Figure size 1080x360 with 1 Axes>"
            ]
          },
          "metadata": {
            "tags": [],
            "needs_background": "light"
          }
        }
      ]
    },
    {
      "cell_type": "code",
      "metadata": {
        "id": "ueC1bUlaOhYw"
      },
      "source": [
        ""
      ],
      "execution_count": null,
      "outputs": []
    }
  ]
}
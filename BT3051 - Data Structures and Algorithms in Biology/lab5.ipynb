{
 "cells": [
  {
   "cell_type": "code",
   "execution_count": 56,
   "metadata": {},
   "outputs": [],
   "source": [
    "def merge_sort(list):\n",
    "    if len(list)==1:\n",
    "        return list\n",
    "    else:\n",
    "        return merge(merge_sort(list[:len(list)//2]),merge_sort(list[len(list)//2:]))\n",
    "    \n",
    "def merge(list1,list2):\n",
    "    list=[]\n",
    "    a=0\n",
    "    b=0\n",
    "    for i in range(len(list1)+len(list2)):\n",
    "        if(a<len(list1) and b<len(list2)):\n",
    "            if list1[a]<list2[b]:\n",
    "                list.append(list1[a])\n",
    "                a+=1\n",
    "            else:\n",
    "                list.append(list2[b])\n",
    "                b+=1\n",
    "        else:\n",
    "            break\n",
    "    if (a==len(list1)):\n",
    "        list+=list2[b:]\n",
    "    else:\n",
    "        list+=list1[a:]\n",
    "    return list"
   ]
  },
  {
   "cell_type": "code",
   "execution_count": 57,
   "metadata": {
    "collapsed": true
   },
   "outputs": [],
   "source": [
    "list=[7,4,1,3,5,2,9,6,8]"
   ]
  },
  {
   "cell_type": "code",
   "execution_count": 58,
   "metadata": {},
   "outputs": [
    {
     "data": {
      "text/plain": [
       "[1, 2, 3, 4, 5, 6, 7, 8, 9]"
      ]
     },
     "execution_count": 58,
     "metadata": {},
     "output_type": "execute_result"
    }
   ],
   "source": [
    "merge_sort(list)"
   ]
  },
  {
   "cell_type": "code",
   "execution_count": 67,
   "metadata": {},
   "outputs": [],
   "source": [
    "def currency(n,current):\n",
    "    k=0\n",
    "    length=len(current)\n",
    "    for i in range(length-1,-1,-1):\n",
    "        if(n%current[i]!=n):\n",
    "            k+=n//current[i]\n",
    "            n=n%current[i]\n",
    "    return k\n",
    "        \n",
    "            \n",
    "    "
   ]
  },
  {
   "cell_type": "code",
   "execution_count": 68,
   "metadata": {},
   "outputs": [
    {
     "data": {
      "text/plain": [
       "21"
      ]
     },
     "execution_count": 68,
     "metadata": {},
     "output_type": "execute_result"
    }
   ],
   "source": [
    "currency(98,[1,2,5])"
   ]
  },
  {
   "cell_type": "code",
   "execution_count": null,
   "metadata": {
    "collapsed": true
   },
   "outputs": [],
   "source": []
  }
 ],
 "metadata": {
  "kernelspec": {
   "display_name": "Python 3",
   "language": "python",
   "name": "python3"
  },
  "language_info": {
   "codemirror_mode": {
    "name": "ipython",
    "version": 3
   },
   "file_extension": ".py",
   "mimetype": "text/x-python",
   "name": "python",
   "nbconvert_exporter": "python",
   "pygments_lexer": "ipython3",
   "version": "3.6.3"
  }
 },
 "nbformat": 4,
 "nbformat_minor": 2
}

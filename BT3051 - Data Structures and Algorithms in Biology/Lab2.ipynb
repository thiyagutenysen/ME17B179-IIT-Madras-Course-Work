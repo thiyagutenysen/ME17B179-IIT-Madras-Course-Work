{
 "cells": [
  {
   "cell_type": "code",
   "execution_count": 1,
   "metadata": {},
   "outputs": [
    {
     "data": {
      "text/plain": [
       "[1, 2, 3, 4]"
      ]
     },
     "execution_count": 1,
     "metadata": {},
     "output_type": "execute_result"
    }
   ],
   "source": [
    "[1,2]+[3,4]"
   ]
  },
  {
   "cell_type": "code",
   "execution_count": 2,
   "metadata": {
    "collapsed": true
   },
   "outputs": [],
   "source": [
    "def reverse(str):\n",
    "    str1=\"\"\n",
    "    for i in range(len(str)-1,-1,-1):\n",
    "        str1=str1+str[i]\n",
    "    return str1"
   ]
  },
  {
   "cell_type": "code",
   "execution_count": 4,
   "metadata": {},
   "outputs": [
    {
     "data": {
      "text/plain": [
       "'tihsllub'"
      ]
     },
     "execution_count": 4,
     "metadata": {},
     "output_type": "execute_result"
    }
   ],
   "source": [
    "reverse(\"bullshit\")"
   ]
  },
  {
   "cell_type": "code",
   "execution_count": 5,
   "metadata": {
    "collapsed": true
   },
   "outputs": [],
   "source": [
    "def palindrome(n):\n",
    "    num=n\n",
    "    rev=0\n",
    "    while(n>0):\n",
    "        r=n%10\n",
    "        rev=rev*10+r\n",
    "        n=n//10\n",
    "    if rev==num:\n",
    "        return True\n",
    "    else:\n",
    "        return False"
   ]
  },
  {
   "cell_type": "code",
   "execution_count": 7,
   "metadata": {},
   "outputs": [
    {
     "data": {
      "text/plain": [
       "True"
      ]
     },
     "execution_count": 7,
     "metadata": {},
     "output_type": "execute_result"
    }
   ],
   "source": [
    "palindrome(121)"
   ]
  },
  {
   "cell_type": "code",
   "execution_count": 8,
   "metadata": {
    "collapsed": true
   },
   "outputs": [],
   "source": [
    "def hailstone(n):\n",
    "    while(n!=1):\n",
    "        if n%2==0:\n",
    "            n=n//2\n",
    "            print(n)\n",
    "        else:\n",
    "            n=(3*n)+1\n",
    "            print(n)\n",
    "            "
   ]
  },
  {
   "cell_type": "code",
   "execution_count": 9,
   "metadata": {},
   "outputs": [
    {
     "name": "stdout",
     "output_type": "stream",
     "text": [
      "10\n",
      "5\n",
      "16\n",
      "8\n",
      "4\n",
      "2\n",
      "1\n"
     ]
    }
   ],
   "source": [
    "hailstone(20)"
   ]
  },
  {
   "cell_type": "code",
   "execution_count": 14,
   "metadata": {
    "collapsed": true
   },
   "outputs": [],
   "source": [
    "def rosalind1(dna):\n",
    "    a=c=g=t=0\n",
    "    for i in dna:\n",
    "        if i=='A':\n",
    "            a=a+1\n",
    "        elif i=='C':\n",
    "            c=c+1\n",
    "        elif i=='G':\n",
    "            g+=1\n",
    "        elif i=='T':\n",
    "            t+=1\n",
    "        else:\n",
    "            print(error)\n",
    "    print(a,c,g,t)"
   ]
  },
  {
   "cell_type": "code",
   "execution_count": 15,
   "metadata": {},
   "outputs": [
    {
     "name": "stdout",
     "output_type": "stream",
     "text": [
      "205 215 214 210\n"
     ]
    }
   ],
   "source": [
    "rosalind1(\"TCTCGCGTTAGGCTCGGTGTGGGCCGACCGCTGTCAAGGGGCCGGAGCAACCATGTGTTCAGAACTGTGGCACTGCTTCCTCATACTCATTATCAAACCAGCCCTAGATTTAGTGAACGAAAGTGAGAGCGCAGTAGTATACATCCCTCGCACGGAACTCTTTGTAGGACTCACCCTAGTGTAGGCAGGTGGGGGGTCGAGCGTGCAATCGAGCTCGGCGAGTTGTCATATGGCCGACTTCGTACACTTACTCCGTTGAATTGGTAGCATCGTAATCCGTGCTTAAGTCAATCCATTACCTCAGGGAATGCGGGTTCCAAATCTAGGATTCGCATTTTACCCAGATCGAACTCAGTTGACTCCGCTCTGGTACACCGCTCAGTCATAACATCGCATCACCACAGCTCTATCATTTATGTTAAGGGTATCCGCGGCAAGCCACAAGCCAGTCTAGGTGTGGATAATACGAACAACTATATTCCATGTGTACAGACAAAGCGATGGCATACTAAAAGCTTTTTGATTTGTATACTAAGCGCCGCTCTACAATAGAGGTTCACTGGACCCTTAAAGGCCAGAATCGGGCTCCTGAAGTAGGTACCTGACCAGTTGAGGGTATACAGTCCGTTTGTGACATCACGCGCCAGGCCATTATGATGCCAGCAAGCCTCTTATACCGAACGTTATCTGGGTTTGTCTGAACTGATCGCCCCTTAATCAGCCGGGTACAGGGTGGGGGCTGAGTTTGCAGTACCCTATTGCGTCCTGCGGGCGTAGACCTCGGTCAAACAAGCAAATAGCGGCTGCCCTGGCGTCTTCAAGTCTAGCGGTTCACAGGAGCAAT\")"
   ]
  },
  {
   "cell_type": "code",
   "execution_count": 16,
   "metadata": {
    "collapsed": true
   },
   "outputs": [],
   "source": [
    "def rosalind2(dna):\n",
    "    rna=''\n",
    "    for i in dna:\n",
    "        if i=='T':\n",
    "            rna+='U'\n",
    "        else:\n",
    "            rna+=i\n",
    "    return rna"
   ]
  },
  {
   "cell_type": "code",
   "execution_count": 18,
   "metadata": {},
   "outputs": [
    {
     "data": {
      "text/plain": [
       "'GGUCAACUCUCACGUUGGCAUGCCCGGGGGGUCCAUGAAAAAUACGUCGCCGCCAGAUUCCGAGACUGAAAAUUAUACCGAAAUUACAGCGUUUUCAAGGGAACCAUACUAGAGCCCGAUUUGGUCUUCAAGGGGUCCGGUCGUCAGGUUUGAGUGCUAUGCAGGCACGACCUGCGCACCGAUUUUCCCCCCAAGCUAAAUAAGCCAAUAUCGUGUUUCUUGUAUCGGGUAUGGUGCUAGGGAAUUGAAAACCAGACUAACGACACGGGGGGAGUCCAGGAAGCCCGGUUCAACGAGCGGGCGGCGCAGUGUGACGCCAAGGGCUUAAUCGAUAAUAUAUCAUAGUCUGCUUGGCAUCGCACGUGUUAUCGCAGUUUACACGUAGCCAUCGCAGGACACCGUAGGCUUGUUUGAGUUGAAGCUGACGUGCGUAUACCACAACAAUUAAACCGUAACGGCCAGGUAUACGCGCUUGGGCAGGUAUGAGAGGUGUCGGCGUCGCACCCCACCCAGGUCACUCCAUCUCAAUCCCCAGUUCGGCAGCUUGGAUGGUGUAUAAACCAUUUAAUCAUAACUAGAUGGUUAUUCCCCGUUCCUUGUUCCUGUGUGUACCGUAUCAACCUCCGCGGGGAUGCGCGUUGAAUUCUCAUGAGCCGUCAGCACUUUGCGGCAGUCGGACGCGCUCAAAUAACGUCGAGGGGGAUGUUCGACGUGGAUGCACGAGUACUUACUACGAUUGACGCUGGGAGUCCCGAUGCGUGACUCUUGUUGUCGACGCCGCGACUGCCAGUACAAGUUCCGGCCUCAACGGCUCCGUGACUGCUGCUAUGUCGCAGUAUAAUCACCAGGAAAACUCGUUUCCGUAUAUCCUAGGAUGUACUACAGUUUCGUAGCUUCUGCGAAUUUUGUGUUUAUCCAGGCUUACACCAACUCG'"
      ]
     },
     "execution_count": 18,
     "metadata": {},
     "output_type": "execute_result"
    }
   ],
   "source": [
    "rosalind2(\"GGTCAACTCTCACGTTGGCATGCCCGGGGGGTCCATGAAAAATACGTCGCCGCCAGATTCCGAGACTGAAAATTATACCGAAATTACAGCGTTTTCAAGGGAACCATACTAGAGCCCGATTTGGTCTTCAAGGGGTCCGGTCGTCAGGTTTGAGTGCTATGCAGGCACGACCTGCGCACCGATTTTCCCCCCAAGCTAAATAAGCCAATATCGTGTTTCTTGTATCGGGTATGGTGCTAGGGAATTGAAAACCAGACTAACGACACGGGGGGAGTCCAGGAAGCCCGGTTCAACGAGCGGGCGGCGCAGTGTGACGCCAAGGGCTTAATCGATAATATATCATAGTCTGCTTGGCATCGCACGTGTTATCGCAGTTTACACGTAGCCATCGCAGGACACCGTAGGCTTGTTTGAGTTGAAGCTGACGTGCGTATACCACAACAATTAAACCGTAACGGCCAGGTATACGCGCTTGGGCAGGTATGAGAGGTGTCGGCGTCGCACCCCACCCAGGTCACTCCATCTCAATCCCCAGTTCGGCAGCTTGGATGGTGTATAAACCATTTAATCATAACTAGATGGTTATTCCCCGTTCCTTGTTCCTGTGTGTACCGTATCAACCTCCGCGGGGATGCGCGTTGAATTCTCATGAGCCGTCAGCACTTTGCGGCAGTCGGACGCGCTCAAATAACGTCGAGGGGGATGTTCGACGTGGATGCACGAGTACTTACTACGATTGACGCTGGGAGTCCCGATGCGTGACTCTTGTTGTCGACGCCGCGACTGCCAGTACAAGTTCCGGCCTCAACGGCTCCGTGACTGCTGCTATGTCGCAGTATAATCACCAGGAAAACTCGTTTCCGTATATCCTAGGATGTACTACAGTTTCGTAGCTTCTGCGAATTTTGTGTTTATCCAGGCTTACACCAACTCG\")"
   ]
  },
  {
   "cell_type": "code",
   "execution_count": 21,
   "metadata": {
    "collapsed": true
   },
   "outputs": [],
   "source": [
    "def rosalind3(dna):\n",
    "    com=''\n",
    "    for i in dna:\n",
    "        if i=='A':\n",
    "            com+='T'\n",
    "        elif i=='T':\n",
    "            com+='A'\n",
    "        elif i=='C':\n",
    "            com+='G'\n",
    "        elif i=='G':\n",
    "            com+='C'\n",
    "    return reverse(com)\n",
    "\n",
    "        "
   ]
  },
  {
   "cell_type": "code",
   "execution_count": 23,
   "metadata": {},
   "outputs": [
    {
     "data": {
      "text/plain": [
       "'AAAGGATATAGGTTCAATCTGCGTACATATATACTGCCGCGCTTTGCTGAGCCATTGCCTTCAGGTATTAGCATTCACGTGCCCAGTTAGCATCACACGGAGGGTCCGTATCGCGTATCACGCTAGAAGGGTGGAACACTCGACCATCACCCGAGAAAGCGGTCGGTGCAAAAAGATATGCAAGCACCGGGAAGCTATCAATTAATCAGAGCACCAACATTATGGATGACAGTGTTCGAAACCGGCACCAAGCAGTATGATGGTTTGAGCGCTACATATAACCTTTCGATTTTTCACATTATGATACACGTGTTAGGAACTTAACTTCGCATGTAAAAGGGATGTTCCTTGATGCCAAAAGCCTACTGTTGGAACCTATATGTATAATCCTCCCACTCAAGATATAACTTGCGTGTGCTGGCCTCGCGAAAAGCGAGTGTAAACATGTTTGCAGGAATGTACGACTTCTATCTTTTTCCAAGCACAATCGACGGGGAAGTCGTCATGGTCACGGGGTGCTGGCGTTCACTAGGTCGTCTTACCGATTCATGCGACGGGTAGTTTAACCATAATAGTTTCCACACACATGCTACCCAGGATTAAATTTTGCAGCTCCGAGGAGAGCGATGTTGGTAGCCGCCAGATCGAAGAGTGCTAGGGGTGGAGACTTCGGCGCGATATCGTTTGTTACCGAACAGCTCGAGTGATGGCGGCGACCTTATCCATGGCCTACGGACATATACCGTGAATCTTGATCAAATTGTCCTTGTTACGTTAGCGGGCTGAGCTTAGCGTATGCTCGGTTCACAACAGGAACTGCAACTGAATTGCATAATCGGGACCCGATATAAGACACTTGGTTTCTATTGGCCTCGGAGTCGCCGGAGGATTCGGATCTGTCAGTTCTCCCTGCATCGGT'"
      ]
     },
     "execution_count": 23,
     "metadata": {},
     "output_type": "execute_result"
    }
   ],
   "source": [
    "rosalind3('ACCGATGCAGGGAGAACTGACAGATCCGAATCCTCCGGCGACTCCGAGGCCAATAGAAACCAAGTGTCTTATATCGGGTCCCGATTATGCAATTCAGTTGCAGTTCCTGTTGTGAACCGAGCATACGCTAAGCTCAGCCCGCTAACGTAACAAGGACAATTTGATCAAGATTCACGGTATATGTCCGTAGGCCATGGATAAGGTCGCCGCCATCACTCGAGCTGTTCGGTAACAAACGATATCGCGCCGAAGTCTCCACCCCTAGCACTCTTCGATCTGGCGGCTACCAACATCGCTCTCCTCGGAGCTGCAAAATTTAATCCTGGGTAGCATGTGTGTGGAAACTATTATGGTTAAACTACCCGTCGCATGAATCGGTAAGACGACCTAGTGAACGCCAGCACCCCGTGACCATGACGACTTCCCCGTCGATTGTGCTTGGAAAAAGATAGAAGTCGTACATTCCTGCAAACATGTTTACACTCGCTTTTCGCGAGGCCAGCACACGCAAGTTATATCTTGAGTGGGAGGATTATACATATAGGTTCCAACAGTAGGCTTTTGGCATCAAGGAACATCCCTTTTACATGCGAAGTTAAGTTCCTAACACGTGTATCATAATGTGAAAAATCGAAAGGTTATATGTAGCGCTCAAACCATCATACTGCTTGGTGCCGGTTTCGAACACTGTCATCCATAATGTTGGTGCTCTGATTAATTGATAGCTTCCCGGTGCTTGCATATCTTTTTGCACCGACCGCTTTCTCGGGTGATGGTCGAGTGTTCCACCCTTCTAGCGTGATACGCGATACGGACCCTCCGTGTGATGCTAACTGGGCACGTGAATGCTAATACCTGAAGGCAATGGCTCAGCAAAGCGCGGCAGTATATATGTACGCAGATTGAACCTATATCCTTT')"
   ]
  },
  {
   "cell_type": "code",
   "execution_count": 24,
   "metadata": {
    "collapsed": true
   },
   "outputs": [],
   "source": [
    "def rosalind4(n,k):\n",
    "        if n==1:\n",
    "            return 1\n",
    "        if n==2:\n",
    "            return 1\n",
    "        return (rosalind4(n-2,k)*k)+rosalind4(n-1,k)\n",
    "        "
   ]
  },
  {
   "cell_type": "code",
   "execution_count": 26,
   "metadata": {},
   "outputs": [
    {
     "data": {
      "text/plain": [
       "2863396842201"
      ]
     },
     "execution_count": 26,
     "metadata": {},
     "output_type": "execute_result"
    }
   ],
   "source": [
    "rosalind4(32,4)"
   ]
  },
  {
   "cell_type": "code",
   "execution_count": 61,
   "metadata": {},
   "outputs": [],
   "source": [
    "def rosalind5(name):\n",
    "    code=percent=[]\n",
    "    sum=full=2\n",
    "    file=open(name,\"r\")\n",
    "    for i in file:\n",
    "        for j in i:\n",
    "            if j==\">\":\n",
    "                per=(sum/(full-1))*100\n",
    "                percent.append(per)\n",
    "                code.append(i)\n",
    "                sum=0\n",
    "                full=0\n",
    "                break\n",
    "            else:\n",
    "                if j==\"C\" or j==\"G\":\n",
    "                    sum+=1\n",
    "                    full+=1\n",
    "                else:\n",
    "                    full+=1\n",
    "    print(sum)\n",
    "    print(full)\n",
    "    per=(sum/(full-1))*100\n",
    "    percent.append(per)\n",
    "    return code\n",
    "                    \n",
    "                    \n",
    "                    \n",
    "            \n",
    "    "
   ]
  },
  {
   "cell_type": "code",
   "execution_count": 66,
   "metadata": {},
   "outputs": [
    {
     "name": "stdout",
     "output_type": "stream",
     "text": [
      "525\n",
      "1012\n"
     ]
    },
    {
     "data": {
      "text/plain": [
       "[200.0,\n",
       " '>Rosalind_9143\\n',\n",
       " 49.187432286023835,\n",
       " '>Rosalind_9584\\n',\n",
       " 47.83057851239669,\n",
       " '>Rosalind_8913\\n',\n",
       " 49.791666666666664,\n",
       " '>Rosalind_7305\\n',\n",
       " 49.07834101382488,\n",
       " '>Rosalind_7455\\n',\n",
       " 46.99683877766069,\n",
       " '>Rosalind_5879\\n',\n",
       " 50.227790432801825,\n",
       " '>Rosalind_0378\\n',\n",
       " 49.79959919839679,\n",
       " '>Rosalind_9319\\n',\n",
       " 51.92878338278932]"
      ]
     },
     "execution_count": 66,
     "metadata": {},
     "output_type": "execute_result"
    }
   ],
   "source": [
    "rosalind5(\"rosalind_gc4.txt\")"
   ]
  },
  {
   "cell_type": "code",
   "execution_count": 75,
   "metadata": {},
   "outputs": [],
   "source": [
    "def rosalind6(dna1,dna2):\n",
    "    sum=0\n",
    "    for i in range(0,len(dna1)):\n",
    "        if dna1[i]!=dna2[i]:\n",
    "            sum+=1\n",
    "    return sum"
   ]
  },
  {
   "cell_type": "code",
   "execution_count": 77,
   "metadata": {},
   "outputs": [
    {
     "data": {
      "text/plain": [
       "476"
      ]
     },
     "execution_count": 77,
     "metadata": {},
     "output_type": "execute_result"
    }
   ],
   "source": [
    "rosalind6(\"GTCCAGTGAGCGACACGGCATAATTCAGTAAAGAATAAAATTTCTCTGCCCCGCACCAACTGCCCCTCGGAGCGTCGGAAGGCTACATAGTACGATACCGCCGTCATAATCCATGATAACAGGTTCCAGGTAGCATTGATAATACTTTGATAATAATTGCTCATACTGGTCGAACCAGCTAGTTATTCGTGAATGCCTCATGTTTCTCTTGATAACGTTACGGAAGATCGCACAGCGCGTCACAACTTCTCGGCGACCGACTGCCACTGTCCACGGGATCCTAACGGACTGTTTGCTTCGAAGAGGGTTCGGGCAATATGTGCGAGGTTACTTCAGGACACATATTGGCATATCTACTCCGCCATACAAGAGTTGTTTAACGATCTTAATGCTTGCATCACACGATCCAGTGCGGGAGATGTTCGGTCGTATATCACCGATCTCCCCGACATCAAGAACATCGGGACACCGCAGTCGACACGACTTCTTTAACGTAATGCATCCTTTGTTGTTACCGCGTTCAAAAATCCAAGTTCCAAGATACACAAAAACATCGACTCATAATTTCTACAAGGTGTAACACTACTATTTGTGGAGCGGCTTCTTGTCATATTCGCGCTTTGGGTAGCGATCGTATGGCTTGCAAGACTAACTAAGGCGGTTCCCCGAAGCTATGTTGGCACCATGAAACGTATGAATGCTTCATCTGCTCTTTGGTATTCTCTCCAGGCTGATCGGTGTACGAAAAAAGGATCCGAACTCGGCTGGCCAAGCACAGACAACTGGACTCCGTCATACCTTGATTACCAGATGTACGCCGCGTGCTTACGTGGTCAGAGATTATATCTCCCACACAGTGCTATGGCCCCGAATTCTTCTTGTACCCTGTAAGCGAGTCCAAACGACACAGGAATACTAGGAAACTCCTCCGATGCCGCTGCCCAAACCCGCTTGCATTGGGTCTGAAACCGGCTA\",\"GTTCATTGAGCGGAAGACCATAATGCACTGCCCAGTGCGATGTCTGAGACCCGCGACTACTGGAGATCGCTGCCTCGCTGTCGTACACGGTCGGTCACGGATGGCAGCTCCAACATGTTCTCCGTACTTGTAAAATTGATAATAAATTGACCCAAATTGAAAGAACTAGTGCACCGAGGTGATGGGTTGTGTACGAATTATGTTTCTTCCTGTACCACTACTGAATATGAAGCCGGTCAGTAGACCGTCCGGCTTTCCGACCGCAACTGACAGACCGATCCGATACGACATTTCCATTCATAGAGCGTTACAAGAAAACGTCCCAGGCAATATCCCAAGTGGTTTCGCTAAAACCTTTACGCCTGTTCAAAAGTGCCTTATGATCATAACGTTTATCTCACTGTCTTGAGAGAGTGAGGTGCTCGCTATACTAGTGAGTACCTCCAGCAAATCCAGTTGTACCCAACATCTCATAAGACGCCAGTTTGTTGCTGAAGTGTCTCCCTCGGTGTTACGACGATCCTATGACCGAGGTTCTTACCGTTGCTTAAAATTACCTCTAAATTTCTATAATGTTTACCGCGGCTGTTTATAGCGCGGCTTCCACGAAGATTAACGCTTCCGCCAGCGATACTCGGGTGCGCAGGAAGCACTCTTTGGGGTCTCATAGGCTCGAAATGGACCTTAGCCCGAAGCACCGCGCCATCTGTTCTGCCTTGGTGGACGTCCTCCGATCGGTGTTGGAAACAAAGTTAACAACTCGGTGTTGCAGCGCAATCGCCATGCATCCCGTGTGAACGTGAATATGTACGGTACGCCCCATGCTAATGTGTGCTAAGTGGTACAAGGGCGGAACCCACGTCTGCGACCTAGTCTCCTTCGAGCCCGGAAAAGTGTATATTCGTCGTCGGGGTCCTAAGATGCTCACCTCCTGCTGATGACCAACATCACTGGAATACGTACTGCGACCGCCTT\")"
   ]
  },
  {
   "cell_type": "code",
   "execution_count": null,
   "metadata": {
    "collapsed": true
   },
   "outputs": [],
   "source": [
    "def rosalind7():\n",
    "    "
   ]
  }
 ],
 "metadata": {
  "kernelspec": {
   "display_name": "Python 3",
   "language": "python",
   "name": "python3"
  },
  "language_info": {
   "codemirror_mode": {
    "name": "ipython",
    "version": 3
   },
   "file_extension": ".py",
   "mimetype": "text/x-python",
   "name": "python",
   "nbconvert_exporter": "python",
   "pygments_lexer": "ipython3",
   "version": "3.6.3"
  }
 },
 "nbformat": 4,
 "nbformat_minor": 2
}

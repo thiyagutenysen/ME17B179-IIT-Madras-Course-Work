{
 "cells": [
  {
   "cell_type": "code",
   "execution_count": 299,
   "metadata": {},
   "outputs": [
    {
     "data": {
      "text/plain": [
       "2"
      ]
     },
     "execution_count": 299,
     "metadata": {},
     "output_type": "execute_result"
    }
   ],
   "source": [
    "tup=(1,2)\n",
    "tup[1]"
   ]
  },
  {
   "cell_type": "code",
   "execution_count": 300,
   "metadata": {
    "collapsed": true
   },
   "outputs": [],
   "source": [
    "import networkx as nx\n",
    "G = nx.Graph()"
   ]
  },
  {
   "cell_type": "code",
   "execution_count": 311,
   "metadata": {
    "collapsed": true
   },
   "outputs": [],
   "source": [
    "class vertices:\n",
    "    def __init__(self,node):\n",
    "        self.node=node\n",
    "        self.edge_list=[]\n",
    "        self.distance = -1              # shortest distance from source node in shortest path search\n",
    "        self.previous = None\n",
    "    def getNeighbors(self):\n",
    "        \"\"\"\n",
    "        Returns a list of all neighboring vertices\n",
    "        :return: list of vertexes\n",
    "        \"\"\"\n",
    "        return self.edge_list\n",
    "    \n",
    "        \n",
    "discovered=[]\n",
    "exhausted=[]\n",
    "ngr_list=[]\n",
    "\n",
    "def iterate(ngr_list):\n",
    "    cool=[]\n",
    "    for i in ngr_list:\n",
    "        print(i.node[0],i.node[1])\n",
    "        if(ngr_list!=[]):\n",
    "            if i.node[0]<=5 and i.node[1]<=5:\n",
    "                if maze[i.node[0]+1][i.node[1]]==1 and (i.node[0]+1,i.node[1]) not in discovered:\n",
    "                    address=vertices((i.node[0]+1,i.node[1]))\n",
    "                    cool.append(address)\n",
    "                    i.edge_list.append(address)\n",
    "                    print(1)\n",
    "            if i.node[0]>0 and i.node[1]<=5:\n",
    "                if maze[i.node[0]-1][i.node[1]]==1 and (i.node[0]-1,i.node[1]) not in discovered:\n",
    "                    print(2)\n",
    "                    address=vertices((i.node[0]-1,i.node[1]))\n",
    "                    cool.append(address)\n",
    "                    i.edge_list.append(address)\n",
    "            if i.node[0]<=6 and i.node[1]<=4:\n",
    "                if maze[i.node[0]][i.node[1]+1]==1 and (i.node[0],i.node[1]+1) not in discovered:\n",
    "                    print(3)\n",
    "                    address=vertices((i.node[0],i.node[1]+1))\n",
    "                    cool.append(address)\n",
    "                    i.edge_list.append(address)\n",
    "            if i.node[0]<=6 and i.node[1]>0:\n",
    "                if maze[i.node[0]][i.node[1]-1]==1 and (i.node[0],i.node[1]-1) not in discovered:\n",
    "                    print(4)\n",
    "                                \n",
    "                    address=vertices((i.node[0],i.node[1]-1))\n",
    "                    cool.append(address)\n",
    "                    i.edge_list.append(address)\n",
    "        else:\n",
    "            break\n",
    "        exhausted.append(i)\n",
    "        discovered.append((i.node[0],i.node[1]))\n",
    "        print(discovered)\n",
    "    if (cool==[]):\n",
    "        return\n",
    "    else:\n",
    "        iterate(cool)\n",
    "            \n",
    "def create_graph(start,maze):\n",
    "    # verticle or horizontal movement\n",
    "    ngr_list.append(vertices(start))\n",
    "    print(ngr_list)\n",
    "    discovered.append(start)\n",
    "    print(discovered)\n",
    "    iterate(ngr_list)"
   ]
  },
  {
   "cell_type": "code",
   "execution_count": null,
   "metadata": {
    "collapsed": true
   },
   "outputs": [],
   "source": []
  },
  {
   "cell_type": "code",
   "execution_count": 312,
   "metadata": {},
   "outputs": [
    {
     "name": "stdout",
     "output_type": "stream",
     "text": [
      "[<__main__.vertices object at 0x0000027A93FC5048>]\n",
      "[(0, 0)]\n",
      "0 0\n",
      "1\n",
      "[(0, 0), (0, 0)]\n",
      "1 0\n",
      "3\n",
      "[(0, 0), (0, 0), (1, 0)]\n",
      "1 1\n",
      "1\n",
      "[(0, 0), (0, 0), (1, 0), (1, 1)]\n",
      "2 1\n",
      "1\n",
      "[(0, 0), (0, 0), (1, 0), (1, 1), (2, 1)]\n",
      "3 1\n",
      "3\n",
      "[(0, 0), (0, 0), (1, 0), (1, 1), (2, 1), (3, 1)]\n",
      "3 2\n",
      "3\n",
      "[(0, 0), (0, 0), (1, 0), (1, 1), (2, 1), (3, 1), (3, 2)]\n",
      "3 3\n",
      "1\n",
      "2\n",
      "[(0, 0), (0, 0), (1, 0), (1, 1), (2, 1), (3, 1), (3, 2), (3, 3)]\n",
      "4 3\n",
      "3\n",
      "[(0, 0), (0, 0), (1, 0), (1, 1), (2, 1), (3, 1), (3, 2), (3, 3), (4, 3)]\n",
      "2 3\n",
      "3\n",
      "[(0, 0), (0, 0), (1, 0), (1, 1), (2, 1), (3, 1), (3, 2), (3, 3), (4, 3), (2, 3)]\n",
      "4 4\n",
      "3\n",
      "[(0, 0), (0, 0), (1, 0), (1, 1), (2, 1), (3, 1), (3, 2), (3, 3), (4, 3), (2, 3), (4, 4)]\n",
      "2 4\n",
      "3\n",
      "[(0, 0), (0, 0), (1, 0), (1, 1), (2, 1), (3, 1), (3, 2), (3, 3), (4, 3), (2, 3), (4, 4), (2, 4)]\n",
      "4 5\n",
      "1\n",
      "2\n",
      "[(0, 0), (0, 0), (1, 0), (1, 1), (2, 1), (3, 1), (3, 2), (3, 3), (4, 3), (2, 3), (4, 4), (2, 4), (4, 5)]\n",
      "2 5\n",
      "1\n",
      "[(0, 0), (0, 0), (1, 0), (1, 1), (2, 1), (3, 1), (3, 2), (3, 3), (4, 3), (2, 3), (4, 4), (2, 4), (4, 5), (2, 5)]\n",
      "5 5\n",
      "1\n",
      "[(0, 0), (0, 0), (1, 0), (1, 1), (2, 1), (3, 1), (3, 2), (3, 3), (4, 3), (2, 3), (4, 4), (2, 4), (4, 5), (2, 5), (5, 5)]\n",
      "3 5\n",
      "[(0, 0), (0, 0), (1, 0), (1, 1), (2, 1), (3, 1), (3, 2), (3, 3), (4, 3), (2, 3), (4, 4), (2, 4), (4, 5), (2, 5), (5, 5), (3, 5)]\n",
      "3 5\n",
      "[(0, 0), (0, 0), (1, 0), (1, 1), (2, 1), (3, 1), (3, 2), (3, 3), (4, 3), (2, 3), (4, 4), (2, 4), (4, 5), (2, 5), (5, 5), (3, 5), (3, 5)]\n",
      "6 5\n",
      "[(0, 0), (0, 0), (1, 0), (1, 1), (2, 1), (3, 1), (3, 2), (3, 3), (4, 3), (2, 3), (4, 4), (2, 4), (4, 5), (2, 5), (5, 5), (3, 5), (3, 5), (6, 5)]\n"
     ]
    },
    {
     "data": {
      "text/plain": [
       "[<__main__.vertices at 0x27a93fc5048>,\n",
       " <__main__.vertices at 0x27a93b82dd8>,\n",
       " <__main__.vertices at 0x27a93b82860>,\n",
       " <__main__.vertices at 0x27a93b82588>,\n",
       " <__main__.vertices at 0x27a93b82e80>,\n",
       " <__main__.vertices at 0x27a93963668>,\n",
       " <__main__.vertices at 0x27a93963be0>,\n",
       " <__main__.vertices at 0x27a939632e8>,\n",
       " <__main__.vertices at 0x27a93963828>,\n",
       " <__main__.vertices at 0x27a942fc550>,\n",
       " <__main__.vertices at 0x27a942fc3c8>,\n",
       " <__main__.vertices at 0x27a942fc908>,\n",
       " <__main__.vertices at 0x27a942fcc18>,\n",
       " <__main__.vertices at 0x27a942fcb00>,\n",
       " <__main__.vertices at 0x27a942fcba8>,\n",
       " <__main__.vertices at 0x27a93ba6d68>,\n",
       " <__main__.vertices at 0x27a93ba63c8>]"
      ]
     },
     "execution_count": 312,
     "metadata": {},
     "output_type": "execute_result"
    }
   ],
   "source": [
    "create_graph(start,maze)\n",
    "exhausted"
   ]
  },
  {
   "cell_type": "code",
   "execution_count": 346,
   "metadata": {
    "collapsed": true
   },
   "outputs": [],
   "source": [
    "maze=[[1 , 0 , 1 , 1 , 0 , 1],\n",
    "[1 , 1 , 0 , 0 , 0 , 0],\n",
    "[0 , 1 , 0 , 1 , 1 , 1],\n",
    "[0 , 1 , 1 , 1 , 0 , 1],\n",
    "[1 , 0 , 0 , 1 , 1 , 1],\n",
    "[1 , 1 , 0 , 0 , 0 , 1],\n",
    "[0 , 0 , 1 , 1 , 0 , 1]]"
   ]
  },
  {
   "cell_type": "code",
   "execution_count": 347,
   "metadata": {
    "collapsed": true
   },
   "outputs": [],
   "source": [
    "start=(0,0)"
   ]
  },
  {
   "cell_type": "code",
   "execution_count": 305,
   "metadata": {},
   "outputs": [
    {
     "data": {
      "text/plain": [
       "1"
      ]
     },
     "execution_count": 305,
     "metadata": {},
     "output_type": "execute_result"
    }
   ],
   "source": [
    "maze[start[0]][start[1]]"
   ]
  },
  {
   "cell_type": "code",
   "execution_count": 306,
   "metadata": {},
   "outputs": [
    {
     "name": "stdout",
     "output_type": "stream",
     "text": [
      "nn\n"
     ]
    }
   ],
   "source": [
    "k=[1,2,3,4]\n",
    "if 5 not in k:\n",
    "    print(\"nn\")"
   ]
  },
  {
   "cell_type": "code",
   "execution_count": 414,
   "metadata": {},
   "outputs": [
    {
     "name": "stdout",
     "output_type": "stream",
     "text": [
      "[<__main__.vertices object at 0x0000027A92A3CBE0>]\n",
      "[<__main__.vertices object at 0x0000027A92A3C7B8>, <__main__.vertices object at 0x0000027A92A3CEB8>]\n",
      "[<__main__.vertices object at 0x0000027A93FDA9B0>, <__main__.vertices object at 0x0000027A92A3CBE0>]\n",
      "[<__main__.vertices object at 0x0000027A93D9C400>, <__main__.vertices object at 0x0000027A92A3CEB8>]\n",
      "[<__main__.vertices object at 0x0000027A93FDA9B0>, <__main__.vertices object at 0x0000027A93FC5B70>]\n",
      "[<__main__.vertices object at 0x0000027A93FC5EF0>, <__main__.vertices object at 0x0000027A93D9C400>]\n",
      "[<__main__.vertices object at 0x0000027A93D20C18>, <__main__.vertices object at 0x0000027A93D20208>, <__main__.vertices object at 0x0000027A93FC5B70>]\n",
      "[<__main__.vertices object at 0x0000027A93FC5EF0>, <__main__.vertices object at 0x0000027A93D209E8>]\n",
      "[<__main__.vertices object at 0x0000027A93FC5EF0>, <__main__.vertices object at 0x0000027A93BB0BA8>]\n",
      "[<__main__.vertices object at 0x0000027A93BB05F8>, <__main__.vertices object at 0x0000027A93D20C18>]\n",
      "[<__main__.vertices object at 0x0000027A93BB0DA0>, <__main__.vertices object at 0x0000027A93D20208>]\n",
      "[<__main__.vertices object at 0x0000027A92A3C940>, <__main__.vertices object at 0x0000027A93F855C0>, <__main__.vertices object at 0x0000027A93D209E8>]\n",
      "[<__main__.vertices object at 0x0000027A93F85128>, <__main__.vertices object at 0x0000027A93BB0BA8>]\n",
      "[<__main__.vertices object at 0x0000027A928C7898>, <__main__.vertices object at 0x0000027A93BB05F8>]\n",
      "[<__main__.vertices object at 0x0000027A93BB05F8>, <__main__.vertices object at 0x0000027A93BB0DA0>]\n",
      "[<__main__.vertices object at 0x0000027A92A3C940>]\n",
      "[<__main__.vertices object at 0x0000027A928C75C0>]\n",
      "[<__main__.vertices object at 0x0000027A928C7C50>]\n",
      "[]\n",
      "[<__main__.vertices object at 0x0000027A9431DB70>]\n",
      "[<__main__.vertices object at 0x0000027A93963470>, <__main__.vertices object at 0x0000027A9431D5F8>]\n",
      "[<__main__.vertices object at 0x0000027A9431DB70>]\n",
      "[<__main__.vertices object at 0x0000027A9431D0F0>]\n",
      "[<__main__.vertices object at 0x0000027A9431D390>]\n"
     ]
    }
   ],
   "source": [
    "for i in exhausted:\n",
    "    print(i.edge_list)"
   ]
  },
  {
   "cell_type": "code",
   "execution_count": 415,
   "metadata": {},
   "outputs": [
    {
     "ename": "KeyboardInterrupt",
     "evalue": "",
     "output_type": "error",
     "traceback": [
      "\u001b[1;31m---------------------------------------------------------------------------\u001b[0m",
      "\u001b[1;31mKeyboardInterrupt\u001b[0m                         Traceback (most recent call last)",
      "\u001b[1;32m<ipython-input-415-5e8ec37a1172>\u001b[0m in \u001b[0;36m<module>\u001b[1;34m()\u001b[0m\n\u001b[0;32m     46\u001b[0m \u001b[1;33m\u001b[0m\u001b[0m\n\u001b[0;32m     47\u001b[0m \u001b[1;31m# Trace the shortest path back from the target vertex to the source vertex\u001b[0m\u001b[1;33m\u001b[0m\u001b[1;33m\u001b[0m\u001b[0m\n\u001b[1;32m---> 48\u001b[1;33m \u001b[0mvertexes_in_path\u001b[0m \u001b[1;33m=\u001b[0m \u001b[0mtraverseShortestPath\u001b[0m\u001b[1;33m(\u001b[0m\u001b[0mtarget\u001b[0m\u001b[1;33m)\u001b[0m\u001b[1;33m\u001b[0m\u001b[0m\n\u001b[0m\u001b[0;32m     49\u001b[0m \u001b[1;33m\u001b[0m\u001b[0m\n\u001b[0;32m     50\u001b[0m \u001b[1;31m# Display the results\u001b[0m\u001b[1;33m\u001b[0m\u001b[1;33m\u001b[0m\u001b[0m\n",
      "\u001b[1;32m<ipython-input-415-5e8ec37a1172>\u001b[0m in \u001b[0;36mtraverseShortestPath\u001b[1;34m(target)\u001b[0m\n\u001b[0;32m     33\u001b[0m     \u001b[1;32mwhile\u001b[0m \u001b[0mtarget\u001b[0m\u001b[1;33m.\u001b[0m\u001b[0mprevious\u001b[0m\u001b[1;33m:\u001b[0m\u001b[1;33m\u001b[0m\u001b[0m\n\u001b[0;32m     34\u001b[0m         \u001b[0mvertexes_in_path\u001b[0m\u001b[1;33m.\u001b[0m\u001b[0mappend\u001b[0m\u001b[1;33m(\u001b[0m\u001b[0mtarget\u001b[0m\u001b[1;33m.\u001b[0m\u001b[0mnode\u001b[0m\u001b[1;33m)\u001b[0m\u001b[1;33m\u001b[0m\u001b[0m\n\u001b[1;32m---> 35\u001b[1;33m         \u001b[0mtarget\u001b[0m \u001b[1;33m=\u001b[0m \u001b[0mtarget\u001b[0m\u001b[1;33m.\u001b[0m\u001b[0mprevious\u001b[0m\u001b[1;33m\u001b[0m\u001b[0m\n\u001b[0m\u001b[0;32m     36\u001b[0m \u001b[1;33m\u001b[0m\u001b[0m\n\u001b[0;32m     37\u001b[0m     \u001b[1;32mreturn\u001b[0m \u001b[0mvertexes_in_path\u001b[0m\u001b[1;33m\u001b[0m\u001b[0m\n",
      "\u001b[1;31mKeyboardInterrupt\u001b[0m: "
     ]
    }
   ],
   "source": [
    "def shortestPathBFS(vertex):\n",
    "    \"\"\"\n",
    "    Shortest Path - Breadth First Search\n",
    "    :param vertex: the starting graph node\n",
    "    :return: does not return, changes in place\n",
    "    \"\"\"\n",
    "    if vertex is None:\n",
    "        return\n",
    "\n",
    "    queue = []                                  # our queue is a list with insert(0) as enqueue() and pop() as dequeue()\n",
    "    queue.insert(0, vertex)\n",
    "\n",
    "    while len(queue) > 0:\n",
    "        current_vertex = queue.pop()                    # remove the next node in the queue\n",
    "        next_distance = current_vertex.distance + 1     # the hypothetical distance of the neighboring node\n",
    "\n",
    "        for neighbor in current_vertex.getNeighbors():\n",
    "\n",
    "            if neighbor.distance == -1 or neighbor.distance > next_distance:    # try to minimize node distance\n",
    "                neighbor.distance = next_distance       # distance is changed only if its shorter than the current\n",
    "                neighbor.previous = current_vertex      # keep a record of previous vertexes so we can traverse our path\n",
    "                queue.insert(0, neighbor)\n",
    "\n",
    "\n",
    "def traverseShortestPath(target):\n",
    "    \"\"\"\n",
    "    Traverses backward from target vertex to source vertex, storing all encountered vertex id's\n",
    "    :param target: Vertex() Our target node\n",
    "    :return: A list of all vertexes in the shortest path\n",
    "    \"\"\"\n",
    "    vertexes_in_path = []\n",
    "\n",
    "    while target.previous:\n",
    "        vertexes_in_path.append(target.node)\n",
    "        target = target.previous\n",
    "\n",
    "    return vertexes_in_path\n",
    "\n",
    "# Lets set out source and target vertexes and find the shortest path between them\n",
    "source = exhausted[0]\n",
    "target = exhausted[15]\n",
    "\n",
    "# Find the shortest path from our source vertex to every other vertex.\n",
    "# The path data should be saved by reference in each vertex and available to us afterwards\n",
    "shortestPathBFS(source)\n",
    "\n",
    "# Trace the shortest path back from the target vertex to the source vertex\n",
    "vertexes_in_path = traverseShortestPath(target)\n",
    "\n",
    "# Display the results\n",
    "print ('shortest path length: ', len(vertexes_in_path))\n",
    "print ('shortest path: ', vertexes_in_path[::-1])     # print our shortest path in reverse order - from source to target\n",
    "\n"
   ]
  },
  {
   "cell_type": "code",
   "execution_count": 394,
   "metadata": {
    "collapsed": true
   },
   "outputs": [],
   "source": []
  },
  {
   "cell_type": "code",
   "execution_count": 419,
   "metadata": {
    "collapsed": true
   },
   "outputs": [],
   "source": [
    "#This is perfected\n",
    "class vertices:\n",
    "    def __init__(self,node):\n",
    "        self.node=node\n",
    "        self.index=-1\n",
    "        self.edge_list=[]\n",
    "        self.distance = -1              # shortest distance from source node in shortest path search\n",
    "        self.previous = None\n",
    "    def getNeighbors(self):\n",
    "        return self.edge_list\n",
    "    \n",
    "        \n",
    "discovered=[]\n",
    "exhausted=[]\n",
    "ngr_list=[]\n",
    "submaze=[[1 , 0 , 1 , 1 , 0 , 1],\n",
    "[1 , 1 , 0 , 0 , 0 , 0],\n",
    "[0 , 1 , 0 , 1 , 1 , 1],\n",
    "[0 , 1 , 1 , 1 , 0 , 1],\n",
    "[1 , 0 , 0 , 1 , 1 , 1],\n",
    "[1 , 1 , 0 , 0 , 0 , 1],\n",
    "[0 , 0 , 1 , 1 , 0 , 1]]\n",
    "\n",
    "def iterate(ngr_list):\n",
    "    cool=[]\n",
    "    for i in ngr_list:\n",
    "        print(i.node[0],i.node[1])\n",
    "        if(ngr_list!=[]):\n",
    "            if i.node[0]<=5 and i.node[1]<=5:\n",
    "                print(1)\n",
    "                if maze[i.node[0]+1][i.node[1]]==1 and (i.node[0]+1,i.node[1]) in discovered:\n",
    "                    print(1)\n",
    "                    i.edge_list.append(submaze[i.node[0]+1][i.node[1]])\n",
    "                elif maze[i.node[0]+1][i.node[1]]==1 and(i.node[0]+1,i.node[1]) not in discovered:\n",
    "                    print(6)\n",
    "                    address=vertices((i.node[0]+1,i.node[1]))\n",
    "                    cool.append(address)\n",
    "                    i.edge_list.append(address)\n",
    "                    submaze[i.node[0]+1][i.node[1]]=address\n",
    "                    \n",
    "                    print(1)\n",
    "            if i.node[0]>0 and i.node[1]<=5:\n",
    "                if maze[i.node[0]-1][i.node[1]]==1 and (i.node[0]-1,i.node[1]) in discovered:\n",
    "                    i.edge_list.append(submaze[i.node[0]-1][i.node[1]])\n",
    "                elif maze[i.node[0]-1][i.node[1]]==1 and(i.node[0]-1,i.node[1]) not in discovered:\n",
    "                    print(2)\n",
    "                    address=vertices((i.node[0]-1,i.node[1]))\n",
    "                    cool.append(address)\n",
    "                    i.edge_list.append(address)\n",
    "                    submaze[i.node[0]-1][i.node[1]]=address\n",
    "            if i.node[0]<=6 and i.node[1]<=4:\n",
    "                if maze[i.node[0]][i.node[1]+1]==1 and (i.node[0],i.node[1]+1) in discovered:\n",
    "                    i.edge_list.append(submaze[i.node[0]][i.node[1]+1])\n",
    "                elif maze[i.node[0]][i.node[1]+1]==1 and(i.node[0],i.node[1]+1) not in discovered:\n",
    "                    print(3)\n",
    "                    address=vertices((i.node[0],i.node[1]+1))\n",
    "                    cool.append(address)\n",
    "                    i.edge_list.append(address)\n",
    "                    submaze[i.node[0]][i.node[1]+1]=address\n",
    "            if i.node[0]<=6 and i.node[1]>0:\n",
    "                if maze[i.node[0]][i.node[1]-1]==1 and (i.node[0],i.node[1]-1) in discovered:\n",
    "                    print(9)\n",
    "                    i.edge_list.append(submaze[i.node[0]][i.node[1]-1])\n",
    "                elif maze[i.node[0]][i.node[1]-1]==1 and(i.node[0],i.node[1]-1) not in discovered:\n",
    "                    print(4)          \n",
    "                    address=vertices((i.node[0],i.node[1]-1))\n",
    "                    cool.append(address)\n",
    "                    i.edge_list.append(address)\n",
    "                    submaze[i.node[0]][i.node[1]-1]=address\n",
    "                   \n",
    "        else:\n",
    "            break\n",
    "        if (i.node[0],i.node[1]) not in discovered:\n",
    "            exhausted.append(i)\n",
    "            discovered.append((i.node[0],i.node[1]))\n",
    "            print(maze)\n",
    "    if (cool==[]):\n",
    "        return\n",
    "    else:\n",
    "        iterate(cool)\n",
    "            \n",
    "def create_graph(maze):\n",
    "    for i, x in enumerate(maze):\n",
    "        for j, val in enumerate(x):\n",
    "            if maze[i][j]==1 and (i,j) not in discovered:\n",
    "                print(\"done\")\n",
    "                ngr_list=[]\n",
    "                address=vertices((i,j))\n",
    "                submaze[i][j]=address\n",
    "                ngr_list.append(address)\n",
    "                iterate(ngr_list)\n",
    "                print(\"done\")\n",
    "        \n",
    "    \n",
    "    #print(ngr_list)\n",
    "    #discovered.append(start)\n",
    "    #print(discovered)\n",
    "    #iterate(ngr_list)\n",
    "    "
   ]
  },
  {
   "cell_type": "code",
   "execution_count": 420,
   "metadata": {},
   "outputs": [
    {
     "name": "stdout",
     "output_type": "stream",
     "text": [
      "done\n",
      "0 0\n",
      "1\n",
      "6\n",
      "1\n",
      "[[1, 0, 1, 1, 0, 1], [1, 1, 0, 0, 0, 0], [0, 1, 0, 1, 1, 1], [0, 1, 1, 1, 0, 1], [1, 0, 0, 1, 1, 1], [1, 1, 0, 0, 0, 1], [0, 0, 1, 1, 0, 1]]\n",
      "1 0\n",
      "1\n",
      "3\n",
      "[[1, 0, 1, 1, 0, 1], [1, 1, 0, 0, 0, 0], [0, 1, 0, 1, 1, 1], [0, 1, 1, 1, 0, 1], [1, 0, 0, 1, 1, 1], [1, 1, 0, 0, 0, 1], [0, 0, 1, 1, 0, 1]]\n",
      "1 1\n",
      "1\n",
      "6\n",
      "1\n",
      "9\n",
      "[[1, 0, 1, 1, 0, 1], [1, 1, 0, 0, 0, 0], [0, 1, 0, 1, 1, 1], [0, 1, 1, 1, 0, 1], [1, 0, 0, 1, 1, 1], [1, 1, 0, 0, 0, 1], [0, 0, 1, 1, 0, 1]]\n",
      "2 1\n",
      "1\n",
      "6\n",
      "1\n",
      "[[1, 0, 1, 1, 0, 1], [1, 1, 0, 0, 0, 0], [0, 1, 0, 1, 1, 1], [0, 1, 1, 1, 0, 1], [1, 0, 0, 1, 1, 1], [1, 1, 0, 0, 0, 1], [0, 0, 1, 1, 0, 1]]\n",
      "3 1\n",
      "1\n",
      "3\n",
      "[[1, 0, 1, 1, 0, 1], [1, 1, 0, 0, 0, 0], [0, 1, 0, 1, 1, 1], [0, 1, 1, 1, 0, 1], [1, 0, 0, 1, 1, 1], [1, 1, 0, 0, 0, 1], [0, 0, 1, 1, 0, 1]]\n",
      "3 2\n",
      "1\n",
      "3\n",
      "9\n",
      "[[1, 0, 1, 1, 0, 1], [1, 1, 0, 0, 0, 0], [0, 1, 0, 1, 1, 1], [0, 1, 1, 1, 0, 1], [1, 0, 0, 1, 1, 1], [1, 1, 0, 0, 0, 1], [0, 0, 1, 1, 0, 1]]\n",
      "3 3\n",
      "1\n",
      "6\n",
      "1\n",
      "2\n",
      "9\n",
      "[[1, 0, 1, 1, 0, 1], [1, 1, 0, 0, 0, 0], [0, 1, 0, 1, 1, 1], [0, 1, 1, 1, 0, 1], [1, 0, 0, 1, 1, 1], [1, 1, 0, 0, 0, 1], [0, 0, 1, 1, 0, 1]]\n",
      "4 3\n",
      "1\n",
      "3\n",
      "[[1, 0, 1, 1, 0, 1], [1, 1, 0, 0, 0, 0], [0, 1, 0, 1, 1, 1], [0, 1, 1, 1, 0, 1], [1, 0, 0, 1, 1, 1], [1, 1, 0, 0, 0, 1], [0, 0, 1, 1, 0, 1]]\n",
      "2 3\n",
      "1\n",
      "1\n",
      "3\n",
      "[[1, 0, 1, 1, 0, 1], [1, 1, 0, 0, 0, 0], [0, 1, 0, 1, 1, 1], [0, 1, 1, 1, 0, 1], [1, 0, 0, 1, 1, 1], [1, 1, 0, 0, 0, 1], [0, 0, 1, 1, 0, 1]]\n",
      "4 4\n",
      "1\n",
      "3\n",
      "9\n",
      "[[1, 0, 1, 1, 0, 1], [1, 1, 0, 0, 0, 0], [0, 1, 0, 1, 1, 1], [0, 1, 1, 1, 0, 1], [1, 0, 0, 1, 1, 1], [1, 1, 0, 0, 0, 1], [0, 0, 1, 1, 0, 1]]\n",
      "2 4\n",
      "1\n",
      "3\n",
      "9\n",
      "[[1, 0, 1, 1, 0, 1], [1, 1, 0, 0, 0, 0], [0, 1, 0, 1, 1, 1], [0, 1, 1, 1, 0, 1], [1, 0, 0, 1, 1, 1], [1, 1, 0, 0, 0, 1], [0, 0, 1, 1, 0, 1]]\n",
      "4 5\n",
      "1\n",
      "6\n",
      "1\n",
      "2\n",
      "9\n",
      "[[1, 0, 1, 1, 0, 1], [1, 1, 0, 0, 0, 0], [0, 1, 0, 1, 1, 1], [0, 1, 1, 1, 0, 1], [1, 0, 0, 1, 1, 1], [1, 1, 0, 0, 0, 1], [0, 0, 1, 1, 0, 1]]\n",
      "2 5\n",
      "1\n",
      "6\n",
      "1\n",
      "9\n",
      "[[1, 0, 1, 1, 0, 1], [1, 1, 0, 0, 0, 0], [0, 1, 0, 1, 1, 1], [0, 1, 1, 1, 0, 1], [1, 0, 0, 1, 1, 1], [1, 1, 0, 0, 0, 1], [0, 0, 1, 1, 0, 1]]\n",
      "5 5\n",
      "1\n",
      "6\n",
      "1\n",
      "[[1, 0, 1, 1, 0, 1], [1, 1, 0, 0, 0, 0], [0, 1, 0, 1, 1, 1], [0, 1, 1, 1, 0, 1], [1, 0, 0, 1, 1, 1], [1, 1, 0, 0, 0, 1], [0, 0, 1, 1, 0, 1]]\n",
      "3 5\n",
      "1\n",
      "1\n",
      "[[1, 0, 1, 1, 0, 1], [1, 1, 0, 0, 0, 0], [0, 1, 0, 1, 1, 1], [0, 1, 1, 1, 0, 1], [1, 0, 0, 1, 1, 1], [1, 1, 0, 0, 0, 1], [0, 0, 1, 1, 0, 1]]\n",
      "3 5\n",
      "1\n",
      "1\n",
      "6 5\n",
      "[[1, 0, 1, 1, 0, 1], [1, 1, 0, 0, 0, 0], [0, 1, 0, 1, 1, 1], [0, 1, 1, 1, 0, 1], [1, 0, 0, 1, 1, 1], [1, 1, 0, 0, 0, 1], [0, 0, 1, 1, 0, 1]]\n",
      "done\n",
      "done\n",
      "0 2\n",
      "1\n",
      "3\n",
      "[[1, 0, 1, 1, 0, 1], [1, 1, 0, 0, 0, 0], [0, 1, 0, 1, 1, 1], [0, 1, 1, 1, 0, 1], [1, 0, 0, 1, 1, 1], [1, 1, 0, 0, 0, 1], [0, 0, 1, 1, 0, 1]]\n",
      "0 3\n",
      "1\n",
      "9\n",
      "[[1, 0, 1, 1, 0, 1], [1, 1, 0, 0, 0, 0], [0, 1, 0, 1, 1, 1], [0, 1, 1, 1, 0, 1], [1, 0, 0, 1, 1, 1], [1, 1, 0, 0, 0, 1], [0, 0, 1, 1, 0, 1]]\n",
      "done\n",
      "done\n",
      "0 5\n",
      "1\n",
      "[[1, 0, 1, 1, 0, 1], [1, 1, 0, 0, 0, 0], [0, 1, 0, 1, 1, 1], [0, 1, 1, 1, 0, 1], [1, 0, 0, 1, 1, 1], [1, 1, 0, 0, 0, 1], [0, 0, 1, 1, 0, 1]]\n",
      "done\n",
      "done\n",
      "4 0\n",
      "1\n",
      "6\n",
      "1\n",
      "[[1, 0, 1, 1, 0, 1], [1, 1, 0, 0, 0, 0], [0, 1, 0, 1, 1, 1], [0, 1, 1, 1, 0, 1], [1, 0, 0, 1, 1, 1], [1, 1, 0, 0, 0, 1], [0, 0, 1, 1, 0, 1]]\n",
      "5 0\n",
      "1\n",
      "3\n",
      "[[1, 0, 1, 1, 0, 1], [1, 1, 0, 0, 0, 0], [0, 1, 0, 1, 1, 1], [0, 1, 1, 1, 0, 1], [1, 0, 0, 1, 1, 1], [1, 1, 0, 0, 0, 1], [0, 0, 1, 1, 0, 1]]\n",
      "5 1\n",
      "1\n",
      "9\n",
      "[[1, 0, 1, 1, 0, 1], [1, 1, 0, 0, 0, 0], [0, 1, 0, 1, 1, 1], [0, 1, 1, 1, 0, 1], [1, 0, 0, 1, 1, 1], [1, 1, 0, 0, 0, 1], [0, 0, 1, 1, 0, 1]]\n",
      "done\n",
      "done\n",
      "6 2\n",
      "3\n",
      "[[1, 0, 1, 1, 0, 1], [1, 1, 0, 0, 0, 0], [0, 1, 0, 1, 1, 1], [0, 1, 1, 1, 0, 1], [1, 0, 0, 1, 1, 1], [1, 1, 0, 0, 0, 1], [0, 0, 1, 1, 0, 1]]\n",
      "6 3\n",
      "9\n",
      "[[1, 0, 1, 1, 0, 1], [1, 1, 0, 0, 0, 0], [0, 1, 0, 1, 1, 1], [0, 1, 1, 1, 0, 1], [1, 0, 0, 1, 1, 1], [1, 1, 0, 0, 0, 1], [0, 0, 1, 1, 0, 1]]\n",
      "done\n",
      "[[<__main__.vertices object at 0x0000027A928C7748>, 0, <__main__.vertices object at 0x0000027A93B824E0>, <__main__.vertices object at 0x0000027A93B82A20>, 0, <__main__.vertices object at 0x0000027A93F229E8>], [<__main__.vertices object at 0x0000027A93FC5D30>, <__main__.vertices object at 0x0000027A93D9CBA8>, 0, 0, 0, 0], [0, <__main__.vertices object at 0x0000027A93D20A58>, 0, <__main__.vertices object at 0x0000027A928C74A8>, <__main__.vertices object at 0x0000027A92A3C748>, <__main__.vertices object at 0x0000027A93FFFDA0>], [0, <__main__.vertices object at 0x0000027A93D20E10>, <__main__.vertices object at 0x0000027A93BB0630>, <__main__.vertices object at 0x0000027A93BB0FD0>, 0, <__main__.vertices object at 0x0000027A93CE3748>], [<__main__.vertices object at 0x0000027A93F22F60>, 0, 0, <__main__.vertices object at 0x0000027A93BB0198>, <__main__.vertices object at 0x0000027A92A3C5C0>, <__main__.vertices object at 0x0000027A92A3CEF0>], [<__main__.vertices object at 0x0000027A93F224A8>, <__main__.vertices object at 0x0000027A940085C0>, 0, 0, 0, <__main__.vertices object at 0x0000027A93CE3B00>], [0, 0, <__main__.vertices object at 0x0000027A94008E10>, <__main__.vertices object at 0x0000027A94008A20>, 0, <__main__.vertices object at 0x0000027A93B8EA58>]]\n",
      "0 (0, 0) [<__main__.vertices object at 0x0000027A93FC5D30>]\n",
      "1 (1, 0) [<__main__.vertices object at 0x0000027A928C7748>, <__main__.vertices object at 0x0000027A93D9CBA8>]\n",
      "2 (1, 1) [<__main__.vertices object at 0x0000027A93D20A58>, <__main__.vertices object at 0x0000027A93FC5D30>]\n",
      "3 (2, 1) [<__main__.vertices object at 0x0000027A93D20E10>, <__main__.vertices object at 0x0000027A93D9CBA8>]\n",
      "4 (3, 1) [<__main__.vertices object at 0x0000027A93D20A58>, <__main__.vertices object at 0x0000027A93BB0630>]\n",
      "5 (3, 2) [<__main__.vertices object at 0x0000027A93BB0FD0>, <__main__.vertices object at 0x0000027A93D20E10>]\n",
      "6 (3, 3) [<__main__.vertices object at 0x0000027A93BB0198>, <__main__.vertices object at 0x0000027A928C74A8>, <__main__.vertices object at 0x0000027A93BB0630>]\n",
      "7 (4, 3) [<__main__.vertices object at 0x0000027A93BB0FD0>, <__main__.vertices object at 0x0000027A92A3C5C0>]\n",
      "8 (2, 3) [<__main__.vertices object at 0x0000027A93BB0FD0>, <__main__.vertices object at 0x0000027A92A3C748>]\n",
      "9 (4, 4) [<__main__.vertices object at 0x0000027A92A3CEF0>, <__main__.vertices object at 0x0000027A93BB0198>]\n",
      "10 (2, 4) [<__main__.vertices object at 0x0000027A93FFFDA0>, <__main__.vertices object at 0x0000027A928C74A8>]\n",
      "11 (4, 5) [<__main__.vertices object at 0x0000027A93CE3B00>, <__main__.vertices object at 0x0000027A93CE3DA0>, <__main__.vertices object at 0x0000027A92A3C5C0>]\n",
      "12 (2, 5) [<__main__.vertices object at 0x0000027A93CE3748>, <__main__.vertices object at 0x0000027A92A3C748>]\n",
      "13 (5, 5) [<__main__.vertices object at 0x0000027A93B8EA58>, <__main__.vertices object at 0x0000027A92A3CEF0>]\n",
      "14 (3, 5) [<__main__.vertices object at 0x0000027A92A3CEF0>, <__main__.vertices object at 0x0000027A93FFFDA0>]\n",
      "15 (6, 5) [<__main__.vertices object at 0x0000027A93CE3B00>]\n",
      "16 (0, 2) [<__main__.vertices object at 0x0000027A93B82A20>]\n",
      "17 (0, 3) [<__main__.vertices object at 0x0000027A93B824E0>]\n",
      "18 (0, 5) []\n",
      "19 (4, 0) [<__main__.vertices object at 0x0000027A93F224A8>]\n",
      "20 (5, 0) [<__main__.vertices object at 0x0000027A93F22F60>, <__main__.vertices object at 0x0000027A940085C0>]\n",
      "21 (5, 1) [<__main__.vertices object at 0x0000027A93F224A8>]\n",
      "22 (6, 2) [<__main__.vertices object at 0x0000027A94008A20>]\n",
      "23 (6, 3) [<__main__.vertices object at 0x0000027A94008E10>]\n"
     ]
    }
   ],
   "source": [
    "create_graph(maze)\n",
    "print(submaze)\n",
    "for i,j in enumerate(exhausted):\n",
    "    j.index=i\n",
    "    print(j.index,j.node,j.edge_list)"
   ]
  },
  {
   "cell_type": "code",
   "execution_count": null,
   "metadata": {
    "collapsed": true
   },
   "outputs": [],
   "source": []
  },
  {
   "cell_type": "code",
   "execution_count": 417,
   "metadata": {
    "collapsed": true
   },
   "outputs": [],
   "source": [
    "visit=[0]*len(exhausted)\n",
    "ccnum=[0]*len(exhausted)\n",
    "def explore(i,v,cc):\n",
    "    visit[i]=1\n",
    "    ccnum[i]=cc\n",
    "    for j in v.edge_list:\n",
    "        \n",
    "        if visit[j.index]==0:\n",
    "            print(j.index,j.node)\n",
    "            explore(j.index,j,cc)\n",
    "    \n",
    "def DFS(exhausted):\n",
    "    cc=1\n",
    "    for val in exhausted:\n",
    "        if visit[val.index]==0:\n",
    "            explore(val.index,val,cc)\n",
    "            cc+=1"
   ]
  },
  {
   "cell_type": "code",
   "execution_count": 418,
   "metadata": {},
   "outputs": [
    {
     "name": "stdout",
     "output_type": "stream",
     "text": [
      "1 (1, 0)\n",
      "2 (1, 1)\n",
      "3 (2, 1)\n",
      "4 (3, 1)\n",
      "5 (3, 2)\n",
      "6 (3, 3)\n",
      "7 (4, 3)\n",
      "9 (4, 4)\n",
      "11 (4, 5)\n",
      "13 (5, 5)\n",
      "15 (6, 5)\n",
      "14 (3, 5)\n",
      "12 (2, 5)\n",
      "-1 (3, 5)\n",
      "10 (2, 4)\n",
      "8 (2, 3)\n",
      "17 (0, 3)\n",
      "20 (5, 0)\n",
      "21 (5, 1)\n"
     ]
    }
   ],
   "source": [
    "DFS(exhausted)"
   ]
  },
  {
   "cell_type": "code",
   "execution_count": 1,
   "metadata": {},
   "outputs": [
    {
     "ename": "NameError",
     "evalue": "name 'ccnum' is not defined",
     "output_type": "error",
     "traceback": [
      "\u001b[1;31m---------------------------------------------------------------------------\u001b[0m",
      "\u001b[1;31mNameError\u001b[0m                                 Traceback (most recent call last)",
      "\u001b[1;32m<ipython-input-1-24a1cae0d9d6>\u001b[0m in \u001b[0;36m<module>\u001b[1;34m()\u001b[0m\n\u001b[1;32m----> 1\u001b[1;33m \u001b[0mccnum\u001b[0m\u001b[1;33m\u001b[0m\u001b[0m\n\u001b[0m",
      "\u001b[1;31mNameError\u001b[0m: name 'ccnum' is not defined"
     ]
    }
   ],
   "source": [
    "ccnum"
   ]
  },
  {
   "cell_type": "markdown",
   "metadata": {},
   "source": []
  },
  {
   "cell_type": "code",
   "execution_count": 1,
   "metadata": {
    "collapsed": true
   },
   "outputs": [],
   "source": [
    "maze=[[1 , 0 , 1 , 1 , 0 , 1],\n",
    "[1 , 1 , 0 , 0 , 0 , 0],\n",
    "[0 , 1 , 0 , 1 , 1 , 1],\n",
    "[0 , 1 , 1 , 1 , 0 , 1],\n",
    "[1 , 0 , 0 , 1 , 1 , 1],\n",
    "[1 , 1 , 0 , 0 , 0 , 1],\n",
    "[0 , 0 , 1 , 1 , 0 , 1]]"
   ]
  },
  {
   "cell_type": "code",
   "execution_count": 2,
   "metadata": {},
   "outputs": [
    {
     "data": {
      "image/png": "[encoded data removed]",
      "text/plain": [
       "<matplotlib.figure.Figure at 0x1d17abd0d68>"
      ]
     },
     "metadata": {},
     "output_type": "display_data"
    }
   ],
   "source": [
    "#construction of maze\n",
    "import networkx as nx\n",
    "G = nx.Graph()\n",
    "import matplotlib.pyplot as plt\n",
    "m=len(maze)\n",
    "n=len(maze[0])\n",
    "for i in range(m):\n",
    "    for j in range(n):\n",
    "        if maze[i][j]==1:\n",
    "            G.add_node((i,j))\n",
    "\n",
    "for i in range(0,m):\n",
    "    for j in range(0,n-1):\n",
    "        if maze[i][j]==1:\n",
    "            if maze[i][j+1]==1:\n",
    "                G.add_edge((i,j),(i,j+1))\n",
    "                \n",
    "for i in range(0,n):\n",
    "    for j in range(0,m-1):\n",
    "        if maze[j][i]==1:\n",
    "            if maze[j+1][i]==1:\n",
    "                G.add_edge((j,i),(j+1,i))\n",
    "                \n",
    "nx.draw(G, with_labels=True)\n",
    "plt.show()"
   ]
  },
  {
   "cell_type": "code",
   "execution_count": 3,
   "metadata": {},
   "outputs": [
    {
     "name": "stdout",
     "output_type": "stream",
     "text": [
      "(1, 0)\n",
      "(1, 1)\n",
      "(2, 1)\n",
      "(3, 1)\n",
      "(3, 2)\n",
      "(3, 3)\n",
      "(2, 3)\n",
      "(2, 4)\n",
      "(2, 5)\n",
      "(3, 5)\n",
      "(4, 5)\n",
      "(4, 4)\n",
      "(4, 3)\n",
      "(5, 5)\n",
      "(6, 5)\n",
      "(0, 3)\n",
      "(5, 0)\n",
      "(5, 1)\n",
      "(6, 3)\n"
     ]
    }
   ],
   "source": [
    "def find_index(node):\n",
    "    for index,val in enumerate(list(G.nodes)):\n",
    "        if node==val:\n",
    "            return index\n",
    "visit=[0]*len(list(G.nodes))\n",
    "ccnum=[0]*len(list(G.nodes))\n",
    "def explore(i,v,cc):\n",
    "    visit[i]=1\n",
    "    ccnum[i]=cc\n",
    "    for j in list(G.adj[v]):\n",
    "        index=find_index(j)\n",
    "        if visit[index]==0:\n",
    "            print(j)\n",
    "            explore(index,j,cc)\n",
    "    \n",
    "def DFS(nodes):\n",
    "    cc=0\n",
    "    for index,val in enumerate(nodes):\n",
    "        if visit[index]==0:\n",
    "            explore(index,val,cc)\n",
    "            cc+=1\n",
    "DFS(list(G.nodes))"
   ]
  },
  {
   "cell_type": "code",
   "execution_count": 18,
   "metadata": {},
   "outputs": [
    {
     "name": "stdout",
     "output_type": "stream",
     "text": [
      "[0, 1, 1, 2, 0, 0, 0, 0, 0, 0, 0, 0, 0, 0, 3, 0, 0, 0, 3, 3, 0, 4, 4, 0]\n"
     ]
    }
   ],
   "source": [
    "print(ccnum)"
   ]
  },
  {
   "cell_type": "code",
   "execution_count": 30,
   "metadata": {},
   "outputs": [
    {
     "name": "stdout",
     "output_type": "stream",
     "text": [
      "4\n"
     ]
    }
   ],
   "source": [
    "print(max(ccnum))"
   ]
  },
  {
   "cell_type": "code",
   "execution_count": 44,
   "metadata": {
    "collapsed": true
   },
   "outputs": [],
   "source": [
    "list1=[]\n",
    "ccomp=[]\n",
    "for i in range(max(ccnum)+1):\n",
    "    ccomp.append(list1.copy())\n"
   ]
  },
  {
   "cell_type": "code",
   "execution_count": 45,
   "metadata": {
    "collapsed": true
   },
   "outputs": [],
   "source": [
    "def connected_components(ccnum):\n",
    "    for i,val in enumerate(ccnum):\n",
    "        print(val,list(G.nodes)[i])\n",
    "        ccomp[val].append(list(G.nodes)[i])\n",
    "        print(ccomp)"
   ]
  },
  {
   "cell_type": "code",
   "execution_count": 46,
   "metadata": {},
   "outputs": [
    {
     "name": "stdout",
     "output_type": "stream",
     "text": [
      "0 (0, 0)\n",
      "[[(0, 0)], [], [], [], []]\n",
      "1 (0, 2)\n",
      "[[(0, 0)], [(0, 2)], [], [], []]\n",
      "1 (0, 3)\n",
      "[[(0, 0)], [(0, 2), (0, 3)], [], [], []]\n",
      "2 (0, 5)\n",
      "[[(0, 0)], [(0, 2), (0, 3)], [(0, 5)], [], []]\n",
      "0 (1, 0)\n",
      "[[(0, 0), (1, 0)], [(0, 2), (0, 3)], [(0, 5)], [], []]\n",
      "0 (1, 1)\n",
      "[[(0, 0), (1, 0), (1, 1)], [(0, 2), (0, 3)], [(0, 5)], [], []]\n",
      "0 (2, 1)\n",
      "[[(0, 0), (1, 0), (1, 1), (2, 1)], [(0, 2), (0, 3)], [(0, 5)], [], []]\n",
      "0 (2, 3)\n",
      "[[(0, 0), (1, 0), (1, 1), (2, 1), (2, 3)], [(0, 2), (0, 3)], [(0, 5)], [], []]\n",
      "0 (2, 4)\n",
      "[[(0, 0), (1, 0), (1, 1), (2, 1), (2, 3), (2, 4)], [(0, 2), (0, 3)], [(0, 5)], [], []]\n",
      "0 (2, 5)\n",
      "[[(0, 0), (1, 0), (1, 1), (2, 1), (2, 3), (2, 4), (2, 5)], [(0, 2), (0, 3)], [(0, 5)], [], []]\n",
      "0 (3, 1)\n",
      "[[(0, 0), (1, 0), (1, 1), (2, 1), (2, 3), (2, 4), (2, 5), (3, 1)], [(0, 2), (0, 3)], [(0, 5)], [], []]\n",
      "0 (3, 2)\n",
      "[[(0, 0), (1, 0), (1, 1), (2, 1), (2, 3), (2, 4), (2, 5), (3, 1), (3, 2)], [(0, 2), (0, 3)], [(0, 5)], [], []]\n",
      "0 (3, 3)\n",
      "[[(0, 0), (1, 0), (1, 1), (2, 1), (2, 3), (2, 4), (2, 5), (3, 1), (3, 2), (3, 3)], [(0, 2), (0, 3)], [(0, 5)], [], []]\n",
      "0 (3, 5)\n",
      "[[(0, 0), (1, 0), (1, 1), (2, 1), (2, 3), (2, 4), (2, 5), (3, 1), (3, 2), (3, 3), (3, 5)], [(0, 2), (0, 3)], [(0, 5)], [], []]\n",
      "3 (4, 0)\n",
      "[[(0, 0), (1, 0), (1, 1), (2, 1), (2, 3), (2, 4), (2, 5), (3, 1), (3, 2), (3, 3), (3, 5)], [(0, 2), (0, 3)], [(0, 5)], [(4, 0)], []]\n",
      "0 (4, 3)\n",
      "[[(0, 0), (1, 0), (1, 1), (2, 1), (2, 3), (2, 4), (2, 5), (3, 1), (3, 2), (3, 3), (3, 5), (4, 3)], [(0, 2), (0, 3)], [(0, 5)], [(4, 0)], []]\n",
      "0 (4, 4)\n",
      "[[(0, 0), (1, 0), (1, 1), (2, 1), (2, 3), (2, 4), (2, 5), (3, 1), (3, 2), (3, 3), (3, 5), (4, 3), (4, 4)], [(0, 2), (0, 3)], [(0, 5)], [(4, 0)], []]\n",
      "0 (4, 5)\n",
      "[[(0, 0), (1, 0), (1, 1), (2, 1), (2, 3), (2, 4), (2, 5), (3, 1), (3, 2), (3, 3), (3, 5), (4, 3), (4, 4), (4, 5)], [(0, 2), (0, 3)], [(0, 5)], [(4, 0)], []]\n",
      "3 (5, 0)\n",
      "[[(0, 0), (1, 0), (1, 1), (2, 1), (2, 3), (2, 4), (2, 5), (3, 1), (3, 2), (3, 3), (3, 5), (4, 3), (4, 4), (4, 5)], [(0, 2), (0, 3)], [(0, 5)], [(4, 0), (5, 0)], []]\n",
      "3 (5, 1)\n",
      "[[(0, 0), (1, 0), (1, 1), (2, 1), (2, 3), (2, 4), (2, 5), (3, 1), (3, 2), (3, 3), (3, 5), (4, 3), (4, 4), (4, 5)], [(0, 2), (0, 3)], [(0, 5)], [(4, 0), (5, 0), (5, 1)], []]\n",
      "0 (5, 5)\n",
      "[[(0, 0), (1, 0), (1, 1), (2, 1), (2, 3), (2, 4), (2, 5), (3, 1), (3, 2), (3, 3), (3, 5), (4, 3), (4, 4), (4, 5), (5, 5)], [(0, 2), (0, 3)], [(0, 5)], [(4, 0), (5, 0), (5, 1)], []]\n",
      "4 (6, 2)\n",
      "[[(0, 0), (1, 0), (1, 1), (2, 1), (2, 3), (2, 4), (2, 5), (3, 1), (3, 2), (3, 3), (3, 5), (4, 3), (4, 4), (4, 5), (5, 5)], [(0, 2), (0, 3)], [(0, 5)], [(4, 0), (5, 0), (5, 1)], [(6, 2)]]\n",
      "4 (6, 3)\n",
      "[[(0, 0), (1, 0), (1, 1), (2, 1), (2, 3), (2, 4), (2, 5), (3, 1), (3, 2), (3, 3), (3, 5), (4, 3), (4, 4), (4, 5), (5, 5)], [(0, 2), (0, 3)], [(0, 5)], [(4, 0), (5, 0), (5, 1)], [(6, 2), (6, 3)]]\n",
      "0 (6, 5)\n",
      "[[(0, 0), (1, 0), (1, 1), (2, 1), (2, 3), (2, 4), (2, 5), (3, 1), (3, 2), (3, 3), (3, 5), (4, 3), (4, 4), (4, 5), (5, 5), (6, 5)], [(0, 2), (0, 3)], [(0, 5)], [(4, 0), (5, 0), (5, 1)], [(6, 2), (6, 3)]]\n"
     ]
    }
   ],
   "source": [
    "connected_components(ccnum)"
   ]
  },
  {
   "cell_type": "code",
   "execution_count": 47,
   "metadata": {},
   "outputs": [
    {
     "data": {
      "text/plain": [
       "[[(0, 0),\n",
       "  (1, 0),\n",
       "  (1, 1),\n",
       "  (2, 1),\n",
       "  (2, 3),\n",
       "  (2, 4),\n",
       "  (2, 5),\n",
       "  (3, 1),\n",
       "  (3, 2),\n",
       "  (3, 3),\n",
       "  (3, 5),\n",
       "  (4, 3),\n",
       "  (4, 4),\n",
       "  (4, 5),\n",
       "  (5, 5),\n",
       "  (6, 5)],\n",
       " [(0, 2), (0, 3)],\n",
       " [(0, 5)],\n",
       " [(4, 0), (5, 0), (5, 1)],\n",
       " [(6, 2), (6, 3)]]"
      ]
     },
     "execution_count": 47,
     "metadata": {},
     "output_type": "execute_result"
    }
   ],
   "source": [
    "ccomp"
   ]
  },
  {
   "cell_type": "code",
   "execution_count": 64,
   "metadata": {},
   "outputs": [
    {
     "name": "stdout",
     "output_type": "stream",
     "text": [
      "[True, False, False, False, True, True, True, True, True, True, True, True, True, True, False, True, True, True, False, False, True, False, False, True] [-1, -1, -1, -1, (0, 0), (1, 0), (1, 1), (3, 3), (2, 3), (2, 4), (2, 1), (3, 1), (3, 2), (2, 5), -1, (3, 3), (4, 3), (4, 4), -1, -1, (4, 5), -1, -1, (5, 5)]\n"
     ]
    }
   ],
   "source": [
    "pred=[-1]*len(list(G.nodes))\n",
    "def shortest_distance(origin):\n",
    "    flag=[False]*len(list(G.nodes))\n",
    "    q=[]\n",
    "    index=find_index(origin)\n",
    "    flag[index]=True\n",
    "    q.append(origin)\n",
    "    while(q!=[]):\n",
    "        v=q.pop(0)\n",
    "        for w in list(G.adj[v]):\n",
    "            index=find_index(w)\n",
    "            if flag[index]==False:\n",
    "                flag[index]=True\n",
    "                pred[index]=v\n",
    "                q.append(w)\n",
    "    print(flag,pred)\n",
    "shortest_distance((0,0))"
   ]
  },
  {
   "cell_type": "code",
   "execution_count": 65,
   "metadata": {},
   "outputs": [],
   "source": [
    "def print_path(pred,end):\n",
    "    path=[]\n",
    "    path.append(end)\n",
    "    index=find_index(end)\n",
    "    node=pred[index]\n",
    "    while(node!=(0,0)):\n",
    "        path.append(node)\n",
    "        index=find_index(node)\n",
    "        node=pred[index]\n",
    "    print(path)\n"
   ]
  },
  {
   "cell_type": "code",
   "execution_count": 66,
   "metadata": {},
   "outputs": [
    {
     "name": "stdout",
     "output_type": "stream",
     "text": [
      "[(6, 5), (5, 5), (4, 5), (4, 4), (4, 3), (3, 3), (3, 2), (3, 1), (2, 1), (1, 1), (1, 0)]\n"
     ]
    }
   ],
   "source": [
    "print_path(pred,(6,5))"
   ]
  },
  {
   "cell_type": "code",
   "execution_count": null,
   "metadata": {
    "collapsed": true
   },
   "outputs": [],
   "source": []
  }
 ],
 "metadata": {
  "kernelspec": {
   "display_name": "Python 3",
   "language": "python",
   "name": "python3"
  },
  "language_info": {
   "codemirror_mode": {
    "name": "ipython",
    "version": 3
   },
   "file_extension": ".py",
   "mimetype": "text/x-python",
   "name": "python",
   "nbconvert_exporter": "python",
   "pygments_lexer": "ipython3",
   "version": "3.6.3"
  }
 },
 "nbformat": 4,
 "nbformat_minor": 2
}

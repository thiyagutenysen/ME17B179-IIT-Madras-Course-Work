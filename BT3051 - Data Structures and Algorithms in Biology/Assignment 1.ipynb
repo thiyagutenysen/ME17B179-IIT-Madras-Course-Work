{
 "cells": [
  {
   "cell_type": "code",
   "execution_count": 84,
   "metadata": {
    "collapsed": true
   },
   "outputs": [],
   "source": [
    "class Gene:\n",
    "    counter=0\n",
    "    def __init__(self,geneID,sequence):\n",
    "        \n",
    "        self.sequence=sequence\n",
    "        self.geneID=geneID\n",
    "        self.length=len(self.sequence)\n",
    "    def __GC_content(self):\n",
    "        k=0\n",
    "        for i in self.sequence:\n",
    "            if i=='G' or i=='C':\n",
    "                k+=1\n",
    "        per=(k/self.length)*100\n",
    "        return per\n",
    "    def dnasequence(self):\n",
    "        return self.sequence\n",
    "    def __add__(self,other):\n",
    "        c=self.sequence+other.dnasequence()\n",
    "        return Gene(\"DNA\",c)\n",
    "    def __neg__(self):\n",
    "        compliment=''\n",
    "        for i in self.sequence:\n",
    "            if i=='A':\n",
    "                compliment+=\"T\"\n",
    "            elif i=='G':\n",
    "                compliment+=\"C\"\n",
    "            elif i=='T':\n",
    "                compliment+=\"A\"\n",
    "            elif i=='C':\n",
    "                compliment+=\"G\"\n",
    "        return compliment  \n",
    "def GC_content(self):\n",
    "    k=0\n",
    "    for i in self.sequence:\n",
    "        if i=='G' or i=='C':\n",
    "            k+=1\n",
    "    per=(k/self.length)*100\n",
    "    return per"
   ]
  },
  {
   "cell_type": "code",
   "execution_count": 85,
   "metadata": {
    "collapsed": true
   },
   "outputs": [],
   "source": [
    "a=Gene(\"DNA1\",\"AGCTGCATGTACGTAGTCA\")"
   ]
  },
  {
   "cell_type": "code",
   "execution_count": 86,
   "metadata": {
    "collapsed": true
   },
   "outputs": [],
   "source": [
    "b=Gene(\"DNA2\",\"TCATCGGTAGCAATTT\")"
   ]
  },
  {
   "cell_type": "code",
   "execution_count": 87,
   "metadata": {},
   "outputs": [
    {
     "data": {
      "text/plain": [
       "47.368421052631575"
      ]
     },
     "execution_count": 87,
     "metadata": {},
     "output_type": "execute_result"
    }
   ],
   "source": [
    "GC_content(a)"
   ]
  },
  {
   "cell_type": "code",
   "execution_count": 88,
   "metadata": {
    "collapsed": true
   },
   "outputs": [],
   "source": [
    "c=a+b"
   ]
  },
  {
   "cell_type": "code",
   "execution_count": 89,
   "metadata": {},
   "outputs": [
    {
     "data": {
      "text/plain": [
       "<__main__.Gene at 0x2707e86f7f0>"
      ]
     },
     "execution_count": 89,
     "metadata": {},
     "output_type": "execute_result"
    }
   ],
   "source": [
    "c"
   ]
  },
  {
   "cell_type": "code",
   "execution_count": 90,
   "metadata": {},
   "outputs": [
    {
     "data": {
      "text/plain": [
       "'AGCTGCATGTACGTAGTCATCATCGGTAGCAATTT'"
      ]
     },
     "execution_count": 90,
     "metadata": {},
     "output_type": "execute_result"
    }
   ],
   "source": [
    "c.sequence"
   ]
  },
  {
   "cell_type": "code",
   "execution_count": 91,
   "metadata": {},
   "outputs": [
    {
     "data": {
      "text/plain": [
       "'TCGACGTACATGCATCAGT'"
      ]
     },
     "execution_count": 91,
     "metadata": {},
     "output_type": "execute_result"
    }
   ],
   "source": [
    "-a"
   ]
  },
  {
   "cell_type": "code",
   "execution_count": null,
   "metadata": {},
   "outputs": [],
   "source": [
    "if __name__ ==\"__main__\":\n",
    "    print(True)"
   ]
  },
  {
   "cell_type": "code",
   "execution_count": 82,
   "metadata": {},
   "outputs": [],
   "source": [
    "# Homework Header as usual\n",
    "#\n",
    "#\n",
    "#\n",
    "import sys\n",
    "import doctest\n",
    "\n",
    "def read_FASTA(fname):\n",
    "    \"\"\" (str) -> (list of tuples)\n",
    "    # function body with documentation\n",
    "    \"\"\"\n",
    "    sequence=\"\"\n",
    "    sequences=[]\n",
    "    sequence_name=\"\"\n",
    "    file=open(fname,'r')\n",
    "    for line in file:\n",
    "        if line[0]=='>':\n",
    "            sequences.append((sequence_name,sequence))\n",
    "            sequence_name=line[1:-1]\n",
    "            sequence=\"\"\n",
    "        else:\n",
    "            sequence=sequence+line[:-1]\n",
    "    else:\n",
    "        sequences.append((sequence_name,sequence))\n",
    "    sequences.pop(0)\n",
    "    return sequences # a list of (sequence_name , sequence) tuples\n",
    "\n",
    "def identify_orfs(dnaStrand):\n",
    "    \"\"\" (str) -> (list of strings)\n",
    "    # function body with documentation\n",
    "    \"\"\"\n",
    "    reverse_compliment=\"\"\n",
    "    compliment=''\n",
    "    for i in dnaStrand:\n",
    "        if i=='A':\n",
    "            compliment+=\"T\"\n",
    "        elif i=='G':\n",
    "            compliment+=\"C\"\n",
    "        elif i=='T':\n",
    "            compliment+=\"A\"\n",
    "        elif i=='C':\n",
    "            compliment+=\"G\"\n",
    "    reverse_compliment = compliment[::-1]            \n",
    "    frames=[]\n",
    "    raw=[]\n",
    "    for m in ([dnaStrand,reverse_compliment]):\n",
    "        length=len(m)\n",
    "        x=length%3\n",
    "        raw.append(m[0:length-x-1])\n",
    "        x=(length-1)%3\n",
    "        raw.append(m[1:length-x-1-1])\n",
    "        x=(length-2)%3\n",
    "        raw.append(m[2:length-x-1-1-1])\n",
    "    start=\"ATG\"\n",
    "    stop=[\"TAA\",\"TAG\",\"TGA\"]\n",
    "    for i in raw:\n",
    "        start_index=-1\n",
    "        stop_index=0\n",
    "        for j in range(0,len(i)-2,3):\n",
    "            codon=i[j+0]+i[j+1]+i[j+2]\n",
    "            if codon==start:\n",
    "                start_index=j\n",
    "            elif codon==stop[0] or codon==stop[1] or codon==stop[2]: \n",
    "                stop_index=j+2\n",
    "        if stop_index!=0 and start_index!=-1:\n",
    "            frames.append(i[start_index:stop_index+1])\n",
    "    return frames # a list of orf strings\n",
    "\n",
    "def translate_DNA(dnaStrand, translation_table = 'DNA_TABLE.txt'):\n",
    "    \"\"\"\n",
    "    # function body including documentation and test cases\n",
    "    >>> translate_DNA('AUGUAUGAUGCGACCGCGAGCACCCGCUGCACCCGCGAAAGCUGA')\n",
    "    MYDATASTRCTRES\n",
    "    \"\"\"\n",
    "    protein=\"\"\n",
    "    k=dnaStrand\n",
    "    codons=[k[j:j+3] for j in range(0, len(k), 3)]\n",
    "    for i in codons:\n",
    "        fopen=open(translation_table,'r')\n",
    "        for line in fopen:\n",
    "            if line[0]+line[1]+line[2]==i:\n",
    "                protein+=line[4]\n",
    "            elif line[11]+line[12]+line[13]==i:\n",
    "                protein+=line[15]\n",
    "            elif line[22]+line[23]+line[24]==i:\n",
    "                protein+=line[26]\n",
    "            elif line[33]+line[34]+line[35]==i:\n",
    "                protein+=line[37]\n",
    "    protein=protein[:-1]\n",
    "    return protein # the protein string\n",
    "\n",
    "def compute_protein_mass(protein_string):\n",
    "    \"\"\"\n",
    "    #function body including documentation and test cases\n",
    "    >>> compute_protein_mass('SKADYEK')\n",
    "    821.392\n",
    "    \"\"\"\n",
    "    mass=0\n",
    "    for i in protein_string:\n",
    "        massfile=open(\"PROT_MASS.txt\",'r')\n",
    "        for line in massfile:\n",
    "            print(line)\n",
    "            if i==line[0]:\n",
    "                print(float(line[4:]))\n",
    "                mass+=float(line[4:])\n",
    "                \n",
    "    return mass # the mass of the protein string as a float\n",
    "if __name__ == '__main__':\n",
    "    #DO NOT CHANGE THE FOLLOWING STATEMENTS\n",
    "    for seq_name , seq in read_FASTA(\"hw1b_dataset.faa\"):\n",
    "        print (seq_name+\":\")\n",
    "        for orf in identify_orfs(seq):\n",
    "            protein=translate_DNA(orf)\n",
    "            print (protein,compute_protein_mass(protein))\n",
    "\n"
   ]
  },
  {
   "cell_type": "code",
   "execution_count": 83,
   "metadata": {},
   "outputs": [
    {
     "data": {
      "text/plain": [
       "[('Rosalind_6404',\n",
       "  'CCTGCGGAAGATCGGCACTAGAATAGCCAGAACCGTTTCTCTGAGGCTTCCGGCCTTCCCTCCCACTAATAATTCTGAGG'),\n",
       " ('Rosalind_5959',\n",
       "  'CCATCGGTAGCGCATCCTTAGTCCAATTAAGTCCCTATCCAGGCGCTCCGCCGAAGGTCTATATCCATTTGTCAGCAGACACGC'),\n",
       " ('Rosalind_0808',\n",
       "  'CCACCCTCGTGGTATGGCTAGGCATTCAGGAACCGGAGAACGCTTCAGACCAGCCCGGACTGGGAACCTGCGGGCAGTAGGTGGAA')]"
      ]
     },
     "execution_count": 83,
     "metadata": {},
     "output_type": "execute_result"
    }
   ],
   "source": [
    "read_FASTA(\"rosalind_gc.txt\")"
   ]
  },
  {
   "cell_type": "code",
   "execution_count": null,
   "metadata": {
    "collapsed": true
   },
   "outputs": [],
   "source": [
    "if __name__ == '__main__':\n",
    "    #DO NOT CHANGE THE FOLLOWING STATEMENTS\n",
    "    for seq_name , seq in read_FASTA(\"hw1b_dataset.faa\"):\n",
    "        print (seq_name+\":\")\n",
    "        for orf in identify_orfs(seq):\n",
    "            protein=translate_DNA(orf)\n",
    "            print (protein,compute_protein_mass(protein))"
   ]
  }
 ],
 "metadata": {
  "kernelspec": {
   "display_name": "Python 3",
   "language": "python",
   "name": "python3"
  },
  "language_info": {
   "codemirror_mode": {
    "name": "ipython",
    "version": 3
   },
   "file_extension": ".py",
   "mimetype": "text/x-python",
   "name": "python",
   "nbconvert_exporter": "python",
   "pygments_lexer": "ipython3",
   "version": "3.6.3"
  }
 },
 "nbformat": 4,
 "nbformat_minor": 2
}

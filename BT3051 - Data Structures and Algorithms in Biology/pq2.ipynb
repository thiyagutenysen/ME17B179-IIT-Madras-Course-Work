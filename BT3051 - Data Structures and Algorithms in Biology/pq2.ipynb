{
 "cells": [
  {
   "cell_type": "code",
   "execution_count": 59,
   "metadata": {},
   "outputs": [],
   "source": [
    "#write a function to take in an array as input and return 2 sorted arrays as output \n",
    "#array 1 ascending order of the first half of the array \n",
    "#array 2 descending order of the second half of the array\n",
    "#a) stable b) inplace c) the time complexity\n",
    "def pq2(array):\n",
    "    length=len(array)\n",
    "    if length%2==0:\n",
    "        half = length//2\n",
    "    else:\n",
    "        half= length//2+1\n",
    "    array1=array[0:half]\n",
    "    array2=array[half:]\n",
    "    def ascend_bubble(array):\n",
    "        length=len(array)\n",
    "        for i in range(length):\n",
    "            for j in range(0,length-i-1):\n",
    "                if array[j]>array[j+1]:\n",
    "                    array[j], array[j+1]= array[j+1], array[j]\n",
    "        return array\n",
    "    def descend_bubble(array):\n",
    "        length=len(array)\n",
    "        for i in range(length):\n",
    "            for j in range(length-1,i,-1):\n",
    "                if array[j]>array[j-1]:\n",
    "                    array[j], array[j-1]= array[j-1], array[j]\n",
    "        print(array)\n",
    "        return array\n",
    "    array1=ascend_bubble(array1)\n",
    "    array2=descend_bubble(array2)\n",
    "    return (array1,array2)\n",
    "# time complexity = ((n/2)^2) + (n/2)^2 = (n**2)/2 = bigoh(n**2)\n",
    "# It is a stable algorithm"
   ]
  },
  {
   "cell_type": "code",
   "execution_count": 62,
   "metadata": {
    "collapsed": true
   },
   "outputs": [],
   "source": [
    "list=[1,2,3,4,5,6,7,8,9,10,11]"
   ]
  },
  {
   "cell_type": "code",
   "execution_count": 63,
   "metadata": {},
   "outputs": [
    {
     "name": "stdout",
     "output_type": "stream",
     "text": [
      "[11, 10, 9, 8, 7]\n"
     ]
    },
    {
     "data": {
      "text/plain": [
       "([1, 2, 3, 4, 5, 6], [11, 10, 9, 8, 7])"
      ]
     },
     "execution_count": 63,
     "metadata": {},
     "output_type": "execute_result"
    }
   ],
   "source": [
    " pq2(list)"
   ]
  },
  {
   "cell_type": "code",
   "execution_count": 143,
   "metadata": {},
   "outputs": [],
   "source": [
    "class priority_queue:\n",
    "    def __init__(self):\n",
    "        self.n=[]\n",
    "        self.length=0\n",
    "    def enqueue(self,a):\n",
    "        self.n.append(a)\n",
    "        self.length+=1\n",
    "    def dequeue(self):\n",
    "        if self.length==0:\n",
    "            return False\n",
    "        k=self.n[0]\n",
    "        kindex=0\n",
    "        for i in range(self.length):       \n",
    "            if (k < self.n[i]):\n",
    "                k=self.n[i]\n",
    "                kindex=i\n",
    "        self.n.pop(kindex)\n",
    "        self.length=len(self.n)\n",
    "    def __str__(self):\n",
    "        return str(self.n)"
   ]
  },
  {
   "cell_type": "code",
   "execution_count": 144,
   "metadata": {},
   "outputs": [
    {
     "name": "stdout",
     "output_type": "stream",
     "text": [
      "[2]\n",
      "[2, 6]\n",
      "[2, 6, 1]\n",
      "[2, 6, 1, 0]\n",
      "[2, 1, 0]\n",
      "[1, 0]\n",
      "[0]\n",
      "[]\n",
      "[]\n"
     ]
    }
   ],
   "source": [
    "a=priority_queue()\n",
    "a.enqueue(2)\n",
    "print(a)\n",
    "a.enqueue(6)\n",
    "print(a)\n",
    "a.enqueue(1)\n",
    "print(a)\n",
    "a.enqueue(0)\n",
    "print(a)\n",
    "a.dequeue()\n",
    "print(a)\n",
    "a.dequeue()\n",
    "print(a)\n",
    "a.dequeue()\n",
    "print(a)\n",
    "a.dequeue()\n",
    "print(a)\n",
    "a.dequeue()\n",
    "print(a)"
   ]
  },
  {
   "cell_type": "code",
   "execution_count": 113,
   "metadata": {},
   "outputs": [
    {
     "data": {
      "text/plain": [
       "<__main__.priority_queue at 0x2535e1f0048>"
      ]
     },
     "execution_count": 113,
     "metadata": {},
     "output_type": "execute_result"
    }
   ],
   "source": [
    "a."
   ]
  },
  {
   "cell_type": "code",
   "execution_count": 114,
   "metadata": {},
   "outputs": [
    {
     "name": "stdout",
     "output_type": "stream",
     "text": [
      "<__main__.priority_queue object at 0x000002535E1F0048>\n"
     ]
    }
   ],
   "source": [
    "print(a)"
   ]
  },
  {
   "cell_type": "code",
   "execution_count": 115,
   "metadata": {},
   "outputs": [
    {
     "data": {
      "text/plain": [
       "[]"
      ]
     },
     "execution_count": 115,
     "metadata": {},
     "output_type": "execute_result"
    }
   ],
   "source": [
    "a.n"
   ]
  },
  {
   "cell_type": "code",
   "execution_count": 116,
   "metadata": {},
   "outputs": [
    {
     "data": {
      "text/plain": [
       "[3]"
      ]
     },
     "execution_count": 116,
     "metadata": {},
     "output_type": "execute_result"
    }
   ],
   "source": [
    "a.enqueue(3)\n",
    "a.n"
   ]
  },
  {
   "cell_type": "code",
   "execution_count": 117,
   "metadata": {},
   "outputs": [],
   "source": [
    "a.dequeue()"
   ]
  },
  {
   "cell_type": "code",
   "execution_count": 118,
   "metadata": {},
   "outputs": [
    {
     "data": {
      "text/plain": [
       "[]"
      ]
     },
     "execution_count": 118,
     "metadata": {},
     "output_type": "execute_result"
    }
   ],
   "source": [
    "a.n"
   ]
  },
  {
   "cell_type": "code",
   "execution_count": 119,
   "metadata": {
    "collapsed": true
   },
   "outputs": [],
   "source": [
    "b = priority_queue([1,4,5,2,9,0,-2,-5,11,99,76])"
   ]
  },
  {
   "cell_type": "code",
   "execution_count": 120,
   "metadata": {},
   "outputs": [
    {
     "data": {
      "text/plain": [
       "[]"
      ]
     },
     "execution_count": 120,
     "metadata": {},
     "output_type": "execute_result"
    }
   ],
   "source": [
    "b.n"
   ]
  },
  {
   "cell_type": "code",
   "execution_count": 121,
   "metadata": {},
   "outputs": [
    {
     "data": {
      "text/plain": [
       "False"
      ]
     },
     "execution_count": 121,
     "metadata": {},
     "output_type": "execute_result"
    }
   ],
   "source": [
    "b.dequeue()"
   ]
  },
  {
   "cell_type": "code",
   "execution_count": 122,
   "metadata": {},
   "outputs": [
    {
     "data": {
      "text/plain": [
       "[]"
      ]
     },
     "execution_count": 122,
     "metadata": {},
     "output_type": "execute_result"
    }
   ],
   "source": [
    "b.n"
   ]
  },
  {
   "cell_type": "code",
   "execution_count": null,
   "metadata": {
    "collapsed": true
   },
   "outputs": [],
   "source": []
  },
  {
   "cell_type": "code",
   "execution_count": null,
   "metadata": {
    "collapsed": true
   },
   "outputs": [],
   "source": []
  }
 ],
 "metadata": {
  "kernelspec": {
   "display_name": "Python 3",
   "language": "python",
   "name": "python3"
  },
  "language_info": {
   "codemirror_mode": {
    "name": "ipython",
    "version": 3
   },
   "file_extension": ".py",
   "mimetype": "text/x-python",
   "name": "python",
   "nbconvert_exporter": "python",
   "pygments_lexer": "ipython3",
   "version": "3.6.3"
  }
 },
 "nbformat": 4,
 "nbformat_minor": 2
}
